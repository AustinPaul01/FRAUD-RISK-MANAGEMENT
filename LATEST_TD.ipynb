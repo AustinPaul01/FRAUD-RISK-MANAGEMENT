{
  "nbformat": 4,
  "nbformat_minor": 0,
  "metadata": {
    "colab": {
      "provenance": []
    },
    "kernelspec": {
      "name": "python3",
      "display_name": "Python 3"
    },
    "language_info": {
      "name": "python"
    }
  },
  "cells": [
    {
      "cell_type": "code",
      "execution_count": null,
      "metadata": {
        "id": "UqSgVUKjuquS"
      },
      "outputs": [],
      "source": [
        "import pandas as pd\n",
        "import numpy as np\n",
        "import matplotlib.pyplot as plt"
      ]
    },
    {
      "cell_type": "code",
      "source": [
        "df = pd.read_csv('TRANSACTION01.csv')\n",
        "df"
      ],
      "metadata": {
        "id": "FH5Ph-eDu2a5"
      },
      "execution_count": null,
      "outputs": []
    },
    {
      "cell_type": "code",
      "source": [
        "df.dtypes"
      ],
      "metadata": {
        "id": "lATgv4jHvLNq"
      },
      "execution_count": null,
      "outputs": []
    },
    {
      "cell_type": "code",
      "source": [
        "null_counts = df.isnull().sum()\n",
        "null_counts"
      ],
      "metadata": {
        "id": "w_ZGF_ECvTwg"
      },
      "execution_count": null,
      "outputs": []
    },
    {
      "cell_type": "code",
      "source": [
        "for column in df.columns:\n",
        "    # Check the data type of the column\n",
        "    column_dtype = df[column].dtype\n",
        "\n",
        "    # Fill missing values based on the data type object as rest were filled\n",
        "    if column_dtype == 'object':\n",
        "        df[column] = df[column].fillna('Unknown')\n",
        "\n",
        "# Verify if all missing values are filled\n",
        "print(df.isnull().sum())"
      ],
      "metadata": {
        "id": "4NQrYqwVvTzh"
      },
      "execution_count": null,
      "outputs": []
    },
    {
      "cell_type": "code",
      "source": [
        "df['TD_DTRAN_DATE_TIME'] = pd.to_datetime(df['TD_DTRAN_DATE_TIME'])"
      ],
      "metadata": {
        "id": "pjQ1F_jtvT2i"
      },
      "execution_count": null,
      "outputs": []
    },
    {
      "cell_type": "code",
      "source": [
        "df.nunique()"
      ],
      "metadata": {
        "id": "2qFvRuGkvT9L"
      },
      "execution_count": null,
      "outputs": []
    },
    {
      "cell_type": "code",
      "source": [
        "mask = df['TD_SFRAUD_1_STATUS'] == 1"
      ],
      "metadata": {
        "id": "6CjZyptpxolx"
      },
      "execution_count": null,
      "outputs": []
    },
    {
      "cell_type": "code",
      "source": [
        "fraud = df[mask]\n",
        "fraud.tail(10)"
      ],
      "metadata": {
        "id": "spYreE0Rxooj"
      },
      "execution_count": null,
      "outputs": []
    },
    {
      "cell_type": "code",
      "source": [
        "X = df.drop(df.columns[-1], axis=1).columns.tolist()\n",
        "y = df.iloc[-1, :-1]"
      ],
      "metadata": {
        "id": "Uqsng-xUAM9y"
      },
      "execution_count": null,
      "outputs": []
    },
    {
      "cell_type": "code",
      "source": [
        "p = []\n",
        "for i in range(0, 10, 1):\n",
        "  count = fraud.iloc[:, i].value_counts()\n",
        "  if y[i] in fraud.iloc[:, i].values:\n",
        "    freq = count[y[i]]\n",
        "  else:\n",
        "    freq = 0\n",
        "  perc =(freq/len(fraud)*10)\n",
        "  print(freq)\n",
        "  print(perc)\n",
        "  p.append(perc)"
      ],
      "metadata": {
        "id": "vJRoSAFkDKUB"
      },
      "execution_count": null,
      "outputs": []
    },
    {
      "cell_type": "code",
      "source": [
        "total = 0\n",
        "for i in range(0, 10, 1):\n",
        "  total+=p[i]\n",
        "\n",
        "print(total)"
      ],
      "metadata": {
        "colab": {
          "base_uri": "https://localhost:8080/"
        },
        "id": "ddZzQQUiDKW_",
        "outputId": "1e9139fd-0f37-4f15-e5ad-62a6d99b1841"
      },
      "execution_count": null,
      "outputs": [
        {
          "output_type": "stream",
          "name": "stdout",
          "text": [
            "20.100334448160538\n"
          ]
        }
      ]
    },
    {
      "cell_type": "code",
      "source": [
        "import matplotlib.pyplot as plt\n",
        "\n",
        "Customer_name = fraud[fraud['TD_SCARDHOLDER_NAME'] == y[0]]\n",
        "\n",
        "# Sort the filtered dataset by date\n",
        "Customer_name = Customer_name.sort_values('TD_DTRAN_DATE_TIME')\n",
        "\n",
        "# Plot the amount on the y-axis and date on the x-axis\n",
        "plt.plot(Customer_name['TD_DTRAN_DATE_TIME'], Customer_name['TD_DTRAN_AMOUNT'])\n",
        "plt.xlabel('Date')\n",
        "plt.ylabel('Amount')\n",
        "plt.title('Transaction Amounts for Cardholder over Time')\n",
        "plt.show()\n"
      ],
      "metadata": {
        "colab": {
          "base_uri": "https://localhost:8080/",
          "height": 472
        },
        "id": "3fnwVoS372Ax",
        "outputId": "9272bf0f-3196-4cf3-955e-9eb889f61ca8"
      },
      "execution_count": null,
      "outputs": [
        {
          "output_type": "display_data",
          "data": {
            "text/plain": [
              "<Figure size 640x480 with 1 Axes>"
            ],
            "image/png": "[encoded data removed]"
          },
          "metadata": {}
        }
      ]
    },
    {
      "cell_type": "code",
      "source": [
        "print('The name of the card holder', y[0])\n",
        "print('-------------------------------------')\n",
        "cards_used_fraud = fraud[fraud['TD_SCARDHOLDER_NAME'] == y[0]]\n",
        "cards_used_fraud = cards_used_fraud.sort_values('TD_SMASKEDCARDNUMBER')\n",
        "print('cards used for fraud:', cards_used_fraud['TD_SMASKEDCARDNUMBER'].value_counts())\n",
        "print('-------------------------------------')\n",
        "cards_used_valid = df[df['TD_SCARDHOLDER_NAME'] == y[0]]\n",
        "cards_used_valid = cards_used_valid.sort_values('TD_SMASKEDCARDNUMBER')\n",
        "print('Total cards used:', cards_used_valid['TD_SMASKEDCARDNUMBER'].value_counts())\n",
        "print('-------------------------------------')\n",
        "cards_valid_fail = cards_used_valid.sort_values('TD_SRESULT')\n",
        "print('Transacton results:', cards_used_valid['TD_SRESULT'].value_counts())\n",
        "print('-------------------------------------')"
      ],
      "metadata": {
        "colab": {
          "base_uri": "https://localhost:8080/"
        },
        "id": "2xd8dN5SrmiW",
        "outputId": "29ac24cf-9fb8-4385-fac9-373fbc716898"
      },
      "execution_count": null,
      "outputs": [
        {
          "output_type": "stream",
          "name": "stdout",
          "text": [
            "The name of the card holder Roshan Thanikkal\n",
            "-------------------------------------\n",
            "cards used for fraud: 424242XXXXXX4242    14\n",
            "411111XXXXXX1111     9\n",
            "Name: TD_SMASKEDCARDNUMBER, dtype: int64\n",
            "-------------------------------------\n",
            "Total cards used: 411111XXXXXX1111    18304\n",
            "424242XXXXXX4242    10777\n",
            "Unknown                19\n",
            "242424XXXXXX2424        1\n",
            "Name: TD_SMASKEDCARDNUMBER, dtype: int64\n",
            "-------------------------------------\n",
            "Transacton results: SUCCESS        26436\n",
            "TIMEOUT         1247\n",
            "FAILURE         1107\n",
            "INITIATED        310\n",
            "IN-PROGRESS        1\n",
            "Name: TD_SRESULT, dtype: int64\n",
            "-------------------------------------\n"
          ]
        }
      ]
    },
    {
      "cell_type": "code",
      "source": [
        "import matplotlib.pyplot as plt\n",
        "\n",
        "Merchant_name = fraud[fraud['TD_SMERCHANT_ID'] == y[1]]\n",
        "\n",
        "# Sort the filtered dataset by date\n",
        "Merchant_name = Merchant_name.sort_values('TD_DTRAN_DATE_TIME')\n",
        "\n",
        "# Plot the amount on the y-axis and date on the x-axis\n",
        "plt.plot(Merchant_name['TD_DTRAN_DATE_TIME'], Merchant_name['TD_DTRAN_AMOUNT'])\n",
        "plt.xlabel('Date')\n",
        "plt.ylabel('Amount')\n",
        "plt.title('Transaction Amounts for Merchant over Time')\n",
        "plt.show()"
      ],
      "metadata": {
        "colab": {
          "base_uri": "https://localhost:8080/",
          "height": 472
        },
        "id": "njXin7eW72EZ",
        "outputId": "f16f9fb6-8530-404d-dc74-c31969e6ccb1"
      },
      "execution_count": null,
      "outputs": [
        {
          "output_type": "display_data",
          "data": {
            "text/plain": [
              "<Figure size 640x480 with 1 Axes>"
            ],
            "image/png": "[encoded data removed]"
          },
          "metadata": {}
        }
      ]
    },
    {
      "cell_type": "code",
      "source": [
        "print('The id of the merchant', y[1])\n",
        "print('-------------------------------------')\n",
        "mer_used_fraud = fraud[fraud['TD_SMERCHANT_ID'] == y[1]]\n",
        "mer_used_fraud = mer_used_fraud.sort_values('TD_SMASKEDCARDNUMBER')\n",
        "print('cards used for fraud:', mer_used_fraud['TD_SMASKEDCARDNUMBER'].value_counts())\n",
        "print('-------------------------------------')\n",
        "mer_fraud_user = mer_used_fraud.sort_values('TD_SCARDHOLDER_NAME')\n",
        "print('fraud users:', mer_fraud_user['TD_SCARDHOLDER_NAME'].value_counts())"
      ],
      "metadata": {
        "colab": {
          "base_uri": "https://localhost:8080/"
        },
        "id": "N1RgfvmU0Y6n",
        "outputId": "779a84dd-e60b-4a51-d90a-5030cb2fffaf"
      },
      "execution_count": null,
      "outputs": [
        {
          "output_type": "stream",
          "name": "stdout",
          "text": [
            "The id of the merchant AJenONMer\n",
            "-------------------------------------\n",
            "cards used for fraud: 411111XXXXXX1111    2\n",
            "424242XXXXXX4242    1\n",
            "Name: TD_SMASKEDCARDNUMBER, dtype: int64\n",
            "-------------------------------------\n",
            "fraud users: Roshan Thanikkal    2\n",
            "Mukesh Patel        1\n",
            "Name: TD_SCARDHOLDER_NAME, dtype: int64\n"
          ]
        }
      ]
    },
    {
      "cell_type": "code",
      "source": [
        "import matplotlib.pyplot as plt\n",
        "\n",
        "IP_name = fraud[fraud['TD_SCUST_IP'] == y[4]]\n",
        "\n",
        "# Sort the filtered dataset by date\n",
        "IP_name = IP_name.sort_values('TD_DTRAN_DATE_TIME')\n",
        "\n",
        "# Plot the amount on the y-axis and date on the x-axis\n",
        "plt.plot(IP_name['TD_DTRAN_DATE_TIME'], IP_name['TD_DTRAN_AMOUNT'])\n",
        "plt.xlabel('Date')\n",
        "plt.ylabel('Amount')\n",
        "plt.title('Transaction Amounts IP over Time')\n",
        "plt.show()"
      ],
      "metadata": {
        "colab": {
          "base_uri": "https://localhost:8080/",
          "height": 472
        },
        "id": "wLivxKPD72Is",
        "outputId": "82922650-6295-4f6b-a6db-5e7745f9163f"
      },
      "execution_count": null,
      "outputs": [
        {
          "output_type": "display_data",
          "data": {
            "text/plain": [
              "<Figure size 640x480 with 1 Axes>"
            ],
            "image/png": "[encoded data removed]"
          },
          "metadata": {}
        }
      ]
    },
    {
      "cell_type": "code",
      "source": [
        "print('The IP address used', y[4])\n",
        "print('-------------------------------------')\n",
        "IP_used_fraud = fraud[fraud['TD_SCUST_IP'] == y[4]]\n",
        "IP_used_fraud = IP_used_fraud.sort_values('TD_SMASKEDCARDNUMBER')\n",
        "print('cards used for fraud:', IP_used_fraud['TD_SMASKEDCARDNUMBER'].value_counts())\n",
        "print('-------------------------------------')\n",
        "IP_used_valid = df[df['TD_SCUST_IP'] == y[4]]\n",
        "IP_used_valid = IP_used_valid.sort_values('TD_SMASKEDCARDNUMBER')\n",
        "print('Total cards used:', IP_used_valid['TD_SMASKEDCARDNUMBER'].value_counts())\n",
        "print('-------------------------------------')\n",
        "IP_fraud_user = IP_used_fraud['TD_SCARDHOLDER_NAME'].sort_values()\n",
        "print('Total fraud users:', IP_used_fraud['TD_SCARDHOLDER_NAME'].value_counts())\n",
        "print('-------------------------------------')"
      ],
      "metadata": {
        "colab": {
          "base_uri": "https://localhost:8080/"
        },
        "id": "GyIyiZjP1Hwu",
        "outputId": "d7c0babe-801f-46b7-fe7d-29e4866c9491"
      },
      "execution_count": null,
      "outputs": [
        {
          "output_type": "stream",
          "name": "stdout",
          "text": [
            "The IP address used 10.10.11.212\n",
            "-------------------------------------\n",
            "cards used for fraud: 411111XXXXXX1111    3\n",
            "Name: TD_SMASKEDCARDNUMBER, dtype: int64\n",
            "-------------------------------------\n",
            "Total cards used: 411111XXXXXX1111    7243\n",
            "424242XXXXXX4242    1651\n",
            "Name: TD_SMASKEDCARDNUMBER, dtype: int64\n",
            "-------------------------------------\n",
            "Total fraud users: Roshan Thanikkal    2\n",
            "Naved Khan          1\n",
            "Name: TD_SCARDHOLDER_NAME, dtype: int64\n",
            "-------------------------------------\n"
          ]
        }
      ]
    },
    {
      "cell_type": "code",
      "source": [
        "v = df.iloc[: , :-1]"
      ],
      "metadata": {
        "id": "51xwwlJ_Fxuq"
      },
      "execution_count": null,
      "outputs": []
    },
    {
      "cell_type": "code",
      "source": [
        "r = []\n",
        "q = []\n",
        "for j in range(0, len(df), 1):\n",
        "    r.clear()\n",
        "    for i in range(0, 10, 1):\n",
        "        u = df.iloc[j, :-1]\n",
        "        count = fraud.iloc[:, i].value_counts()\n",
        "        if u[i] in fraud.iloc[:, i].values:\n",
        "            freq = count[u[i]]\n",
        "        else:\n",
        "            freq = 0\n",
        "        r.append(freq)\n",
        "    q.append(sum(r)/len(fraud)*10)\n",
        "    print(j)"
      ],
      "metadata": {
        "id": "hNxBVrKZEqt8"
      },
      "execution_count": null,
      "outputs": []
    },
    {
      "cell_type": "code",
      "source": [
        "percentage = q\n",
        "\n",
        "df['percentage'] = percentage"
      ],
      "metadata": {
        "id": "gQPkTvWtUbZt"
      },
      "execution_count": null,
      "outputs": []
    },
    {
      "cell_type": "code",
      "source": [
        "df.head(10)"
      ],
      "metadata": {
        "colab": {
          "base_uri": "https://localhost:8080/",
          "height": 427
        },
        "id": "oU-p3lENUbcs",
        "outputId": "4abc6133-5485-442c-86e7-ebc7b0839b15"
      },
      "execution_count": null,
      "outputs": [
        {
          "output_type": "execute_result",
          "data": {
            "text/plain": [
              "  TD_SCARDHOLDER_NAME TD_SMERCHANT_ID TD_SINSTITUTION_ID TD_SMASKEDCARDNUMBER  \\\n",
              "0             Naksh h            MER2               INS2     411111XXXXXX1111   \n",
              "1                 s s       statusapi               I1AA     411111XXXXXX1111   \n",
              "2     akanksha sawant             NaN                NaN     411111XXXXXX1111   \n",
              "3     akanksha sawant       statusapi               I1AA     411111XXXXXX1111   \n",
              "4                 a s          PY9TST               I1AA     535353XXXXXX3106   \n",
              "5     akanksha sawant       statusapi               I1AA     411111XXXXXX1111   \n",
              "6     akanksha sawant       statusapi               I1AA     411111XXXXXX1111   \n",
              "7       Diksha Ragase          PY9TST               I1AA     466666XXXXXX4791   \n",
              "8       Diksha Ragase       statusapi               I1AA     466666XXXXXX4791   \n",
              "9     akanksha sawant       statusapi               I1AA     411111XXXXXX1111   \n",
              "\n",
              "  TD_SCUST_IP TD_STERMINAL_ID TD_SRESULT TD_DTRAN_DATE_TIME TD_STRAN_CURRENCY  \\\n",
              "0         NaN           TERR2    Success     17-11-19 10:36               INR   \n",
              "1         NaN        razorpay    Success     17-11-19 10:36               INR   \n",
              "2         NaN        razorpay    Failure     17-11-19 10:36               INR   \n",
              "3         NaN        razorpay    TIMEOUT     17-11-19 10:36               INR   \n",
              "4         NaN      ConBillTer    Failure     17-11-19 10:36               INR   \n",
              "5         NaN        razorpay    Success     17-11-19 10:36               INR   \n",
              "6         NaN        razorpay    Success     11-10-19 11:20               INR   \n",
              "7         NaN      ConBillTer    Pending     11-10-19 11:20               INR   \n",
              "8         NaN        razorpay    Pending     11-10-19 11:26               INR   \n",
              "9         NaN        razorpay    Success     11-10-19 11:55               INR   \n",
              "\n",
              "   TD_DTRAN_AMOUNT  TD_SFRAUD_1_STATUS  percentage  \n",
              "0           2000.0                   0    7.525084  \n",
              "1             10.0                   0    8.461538  \n",
              "2             10.0                   0    8.227425  \n",
              "3             10.0                   0    8.361204  \n",
              "4              1.0                   0    1.438127  \n",
              "5             10.0                   0    8.461538  \n",
              "6             10.0                   0    8.461538  \n",
              "7              1.0                   0    1.371237  \n",
              "8             10.0                   0    2.006689  \n",
              "9             10.0                   0    8.461538  "
            ],
            "text/html": [
              "\n",
              "  <div id=\"df-f7b195e1-6f42-4cbb-8897-907fa3a93c53\">\n",
              "    <div class=\"colab-df-container\">\n",
              "      <div>\n",
              "<style scoped>\n",
              "    .dataframe tbody tr th:only-of-type {\n",
              "        vertical-align: middle;\n",
              "    }\n",
              "\n",
              "    .dataframe tbody tr th {\n",
              "        vertical-align: top;\n",
              "    }\n",
              "\n",
              "    .dataframe thead th {\n",
              "        text-align: right;\n",
              "    }\n",
              "</style>\n",
              "<table border=\"1\" class=\"dataframe\">\n",
              "  <thead>\n",
              "    <tr style=\"text-align: right;\">\n",
              "      <th></th>\n",
              "      <th>TD_SCARDHOLDER_NAME</th>\n",
              "      <th>TD_SMERCHANT_ID</th>\n",
              "      <th>TD_SINSTITUTION_ID</th>\n",
              "      <th>TD_SMASKEDCARDNUMBER</th>\n",
              "      <th>TD_SCUST_IP</th>\n",
              "      <th>TD_STERMINAL_ID</th>\n",
              "      <th>TD_SRESULT</th>\n",
              "      <th>TD_DTRAN_DATE_TIME</th>\n",
              "      <th>TD_STRAN_CURRENCY</th>\n",
              "      <th>TD_DTRAN_AMOUNT</th>\n",
              "      <th>TD_SFRAUD_1_STATUS</th>\n",
              "      <th>percentage</th>\n",
              "    </tr>\n",
              "  </thead>\n",
              "  <tbody>\n",
              "    <tr>\n",
              "      <th>0</th>\n",
              "      <td>Naksh h</td>\n",
              "      <td>MER2</td>\n",
              "      <td>INS2</td>\n",
              "      <td>411111XXXXXX1111</td>\n",
              "      <td>NaN</td>\n",
              "      <td>TERR2</td>\n",
              "      <td>Success</td>\n",
              "      <td>17-11-19 10:36</td>\n",
              "      <td>INR</td>\n",
              "      <td>2000.0</td>\n",
              "      <td>0</td>\n",
              "      <td>7.525084</td>\n",
              "    </tr>\n",
              "    <tr>\n",
              "      <th>1</th>\n",
              "      <td>s s</td>\n",
              "      <td>statusapi</td>\n",
              "      <td>I1AA</td>\n",
              "      <td>411111XXXXXX1111</td>\n",
              "      <td>NaN</td>\n",
              "      <td>razorpay</td>\n",
              "      <td>Success</td>\n",
              "      <td>17-11-19 10:36</td>\n",
              "      <td>INR</td>\n",
              "      <td>10.0</td>\n",
              "      <td>0</td>\n",
              "      <td>8.461538</td>\n",
              "    </tr>\n",
              "    <tr>\n",
              "      <th>2</th>\n",
              "      <td>akanksha sawant</td>\n",
              "      <td>NaN</td>\n",
              "      <td>NaN</td>\n",
              "      <td>411111XXXXXX1111</td>\n",
              "      <td>NaN</td>\n",
              "      <td>razorpay</td>\n",
              "      <td>Failure</td>\n",
              "      <td>17-11-19 10:36</td>\n",
              "      <td>INR</td>\n",
              "      <td>10.0</td>\n",
              "      <td>0</td>\n",
              "      <td>8.227425</td>\n",
              "    </tr>\n",
              "    <tr>\n",
              "      <th>3</th>\n",
              "      <td>akanksha sawant</td>\n",
              "      <td>statusapi</td>\n",
              "      <td>I1AA</td>\n",
              "      <td>411111XXXXXX1111</td>\n",
              "      <td>NaN</td>\n",
              "      <td>razorpay</td>\n",
              "      <td>TIMEOUT</td>\n",
              "      <td>17-11-19 10:36</td>\n",
              "      <td>INR</td>\n",
              "      <td>10.0</td>\n",
              "      <td>0</td>\n",
              "      <td>8.361204</td>\n",
              "    </tr>\n",
              "    <tr>\n",
              "      <th>4</th>\n",
              "      <td>a s</td>\n",
              "      <td>PY9TST</td>\n",
              "      <td>I1AA</td>\n",
              "      <td>535353XXXXXX3106</td>\n",
              "      <td>NaN</td>\n",
              "      <td>ConBillTer</td>\n",
              "      <td>Failure</td>\n",
              "      <td>17-11-19 10:36</td>\n",
              "      <td>INR</td>\n",
              "      <td>1.0</td>\n",
              "      <td>0</td>\n",
              "      <td>1.438127</td>\n",
              "    </tr>\n",
              "    <tr>\n",
              "      <th>5</th>\n",
              "      <td>akanksha sawant</td>\n",
              "      <td>statusapi</td>\n",
              "      <td>I1AA</td>\n",
              "      <td>411111XXXXXX1111</td>\n",
              "      <td>NaN</td>\n",
              "      <td>razorpay</td>\n",
              "      <td>Success</td>\n",
              "      <td>17-11-19 10:36</td>\n",
              "      <td>INR</td>\n",
              "      <td>10.0</td>\n",
              "      <td>0</td>\n",
              "      <td>8.461538</td>\n",
              "    </tr>\n",
              "    <tr>\n",
              "      <th>6</th>\n",
              "      <td>akanksha sawant</td>\n",
              "      <td>statusapi</td>\n",
              "      <td>I1AA</td>\n",
              "      <td>411111XXXXXX1111</td>\n",
              "      <td>NaN</td>\n",
              "      <td>razorpay</td>\n",
              "      <td>Success</td>\n",
              "      <td>11-10-19 11:20</td>\n",
              "      <td>INR</td>\n",
              "      <td>10.0</td>\n",
              "      <td>0</td>\n",
              "      <td>8.461538</td>\n",
              "    </tr>\n",
              "    <tr>\n",
              "      <th>7</th>\n",
              "      <td>Diksha Ragase</td>\n",
              "      <td>PY9TST</td>\n",
              "      <td>I1AA</td>\n",
              "      <td>466666XXXXXX4791</td>\n",
              "      <td>NaN</td>\n",
              "      <td>ConBillTer</td>\n",
              "      <td>Pending</td>\n",
              "      <td>11-10-19 11:20</td>\n",
              "      <td>INR</td>\n",
              "      <td>1.0</td>\n",
              "      <td>0</td>\n",
              "      <td>1.371237</td>\n",
              "    </tr>\n",
              "    <tr>\n",
              "      <th>8</th>\n",
              "      <td>Diksha Ragase</td>\n",
              "      <td>statusapi</td>\n",
              "      <td>I1AA</td>\n",
              "      <td>466666XXXXXX4791</td>\n",
              "      <td>NaN</td>\n",
              "      <td>razorpay</td>\n",
              "      <td>Pending</td>\n",
              "      <td>11-10-19 11:26</td>\n",
              "      <td>INR</td>\n",
              "      <td>10.0</td>\n",
              "      <td>0</td>\n",
              "      <td>2.006689</td>\n",
              "    </tr>\n",
              "    <tr>\n",
              "      <th>9</th>\n",
              "      <td>akanksha sawant</td>\n",
              "      <td>statusapi</td>\n",
              "      <td>I1AA</td>\n",
              "      <td>411111XXXXXX1111</td>\n",
              "      <td>NaN</td>\n",
              "      <td>razorpay</td>\n",
              "      <td>Success</td>\n",
              "      <td>11-10-19 11:55</td>\n",
              "      <td>INR</td>\n",
              "      <td>10.0</td>\n",
              "      <td>0</td>\n",
              "      <td>8.461538</td>\n",
              "    </tr>\n",
              "  </tbody>\n",
              "</table>\n",
              "</div>\n",
              "      <button class=\"colab-df-convert\" onclick=\"convertToInteractive('df-f7b195e1-6f42-4cbb-8897-907fa3a93c53')\"\n",
              "              title=\"Convert this dataframe to an interactive table.\"\n",
              "              style=\"display:none;\">\n",
              "        \n",
              "  <svg xmlns=\"http://www.w3.org/2000/svg\" height=\"24px\"viewBox=\"0 0 24 24\"\n",
              "       width=\"24px\">\n",
              "    <path d=\"M0 0h24v24H0V0z\" fill=\"none\"/>\n",
              "    <path d=\"M18.56 5.44l.94 2.06.94-2.06 2.06-.94-2.06-.94-.94-2.06-.94 2.06-2.06.94zm-11 1L8.5 8.5l.94-2.06 2.06-.94-2.06-.94L8.5 2.5l-.94 2.06-2.06.94zm10 10l.94 2.06.94-2.06 2.06-.94-2.06-.94-.94-2.06-.94 2.06-2.06.94z\"/><path d=\"M17.41 7.96l-1.37-1.37c-.4-.4-.92-.59-1.43-.59-.52 0-1.04.2-1.43.59L10.3 9.45l-7.72 7.72c-.78.78-.78 2.05 0 2.83L4 21.41c.39.39.9.59 1.41.59.51 0 1.02-.2 1.41-.59l7.78-7.78 2.81-2.81c.8-.78.8-2.07 0-2.86zM5.41 20L4 18.59l7.72-7.72 1.47 1.35L5.41 20z\"/>\n",
              "  </svg>\n",
              "      </button>\n",
              "      \n",
              "  <style>\n",
              "    .colab-df-container {\n",
              "      display:flex;\n",
              "      flex-wrap:wrap;\n",
              "      gap: 12px;\n",
              "    }\n",
              "\n",
              "    .colab-df-convert {\n",
              "      background-color: #E8F0FE;\n",
              "      border: none;\n",
              "      border-radius: 50%;\n",
              "      cursor: pointer;\n",
              "      display: none;\n",
              "      fill: #1967D2;\n",
              "      height: 32px;\n",
              "      padding: 0 0 0 0;\n",
              "      width: 32px;\n",
              "    }\n",
              "\n",
              "    .colab-df-convert:hover {\n",
              "      background-color: #E2EBFA;\n",
              "      box-shadow: 0px 1px 2px rgba(60, 64, 67, 0.3), 0px 1px 3px 1px rgba(60, 64, 67, 0.15);\n",
              "      fill: #174EA6;\n",
              "    }\n",
              "\n",
              "    [theme=dark] .colab-df-convert {\n",
              "      background-color: #3B4455;\n",
              "      fill: #D2E3FC;\n",
              "    }\n",
              "\n",
              "    [theme=dark] .colab-df-convert:hover {\n",
              "      background-color: #434B5C;\n",
              "      box-shadow: 0px 1px 3px 1px rgba(0, 0, 0, 0.15);\n",
              "      filter: drop-shadow(0px 1px 2px rgba(0, 0, 0, 0.3));\n",
              "      fill: #FFFFFF;\n",
              "    }\n",
              "  </style>\n",
              "\n",
              "      <script>\n",
              "        const buttonEl =\n",
              "          document.querySelector('#df-f7b195e1-6f42-4cbb-8897-907fa3a93c53 button.colab-df-convert');\n",
              "        buttonEl.style.display =\n",
              "          google.colab.kernel.accessAllowed ? 'block' : 'none';\n",
              "\n",
              "        async function convertToInteractive(key) {\n",
              "          const element = document.querySelector('#df-f7b195e1-6f42-4cbb-8897-907fa3a93c53');\n",
              "          const dataTable =\n",
              "            await google.colab.kernel.invokeFunction('convertToInteractive',\n",
              "                                                     [key], {});\n",
              "          if (!dataTable) return;\n",
              "\n",
              "          const docLinkHtml = 'Like what you see? Visit the ' +\n",
              "            '<a target=\"_blank\" href=https://colab.research.google.com/notebooks/data_table.ipynb>data table notebook</a>'\n",
              "            + ' to learn more about interactive tables.';\n",
              "          element.innerHTML = '';\n",
              "          dataTable['output_type'] = 'display_data';\n",
              "          await google.colab.output.renderOutput(dataTable, element);\n",
              "          const docLink = document.createElement('div');\n",
              "          docLink.innerHTML = docLinkHtml;\n",
              "          element.appendChild(docLink);\n",
              "        }\n",
              "      </script>\n",
              "    </div>\n",
              "  </div>\n",
              "  "
            ]
          },
          "metadata": {},
          "execution_count": 55
        }
      ]
    },
    {
      "cell_type": "code",
      "source": [
        "table = pd.DataFrame()\n",
        "\n",
        "table['Card_Holder_Name'] = [y[0]]\n",
        "table['Cards_Used'] = [cards_used_valid['TD_SMASKEDCARDNUMBER'].value_counts()]\n",
        "table['Cards_Fraud'] = [cards_used_fraud['TD_SMASKEDCARDNUMBER'].value_counts()]\n",
        "table['Transaction_Result'] = [cards_used_valid['TD_SRESULT'].value_counts()]\n",
        "table['Merchant_ID'] = [y[1]]\n",
        "table['Fraud_Cards_Merchant'] = [mer_used_fraud['TD_SMASKEDCARDNUMBER'].value_counts()]\n",
        "table['Fraud_User_Merchant'] = [mer_fraud_user['TD_SCARDHOLDER_NAME'].value_counts()]\n",
        "table['IP_address'] = [y[4]]\n",
        "table['Fraud_Cards_IP'] = [IP_used_fraud['TD_SMASKEDCARDNUMBER'].value_counts()]\n",
        "table['Cards_used_IP'] = [IP_used_valid['TD_SMASKEDCARDNUMBER'].value_counts()]\n",
        "table['Fraud_Users_IP'] = [IP_used_fraud['TD_SCARDHOLDER_NAME'].value_counts()]\n",
        "\n",
        "print(table.head())"
      ],
      "metadata": {
        "id": "SPxfEE3k8-8o"
      },
      "execution_count": null,
      "outputs": []
    },
    {
      "cell_type": "code",
      "source": [
        "table.to_csv('demo.csv', index=False)\n",
        "table"
      ],
      "metadata": {
        "colab": {
          "base_uri": "https://localhost:8080/",
          "height": 197
        },
        "id": "bt7LNOvp8_EQ",
        "outputId": "d809556d-f5a5-4c55-8216-46de15a76deb"
      },
      "execution_count": null,
      "outputs": [
        {
          "output_type": "execute_result",
          "data": {
            "text/plain": [
              "   Card_Holder_Name                                         Cards_Used  \\\n",
              "0  Roshan Thanikkal  411111XXXXXX1111    7243\n",
              "424242XXXXXX4242    1...   \n",
              "\n",
              "                                         Cards_Fraud  \\\n",
              "0  424242XXXXXX4242    14\n",
              "411111XXXXXX1111     9\n",
              "...   \n",
              "\n",
              "                                  Transaction_Result Merchant_ID  \\\n",
              "0  SUCCESS    7289\n",
              "TIMEOUT    1190\n",
              "FAILURE     41...   AJenONMer   \n",
              "\n",
              "                                Fraud_Cards_Merchant  \\\n",
              "0  411111XXXXXX1111    2\n",
              "424242XXXXXX4242    1\n",
              "Na...   \n",
              "\n",
              "                                 Fraud_User_Merchant    IP_address  \\\n",
              "0  Roshan Thanikkal    2\n",
              "Mukesh Patel        1\n",
              "Na...  10.10.11.212   \n",
              "\n",
              "                                      Fraud_Cards_IP  \\\n",
              "0  411111XXXXXX1111    3\n",
              "Name: TD_SMASKEDCARDNUMB...   \n",
              "\n",
              "                                       Cards_used_IP  \\\n",
              "0  411111XXXXXX1111    7243\n",
              "424242XXXXXX4242    1...   \n",
              "\n",
              "                                      Fraud_Users_IP  \n",
              "0  Roshan Thanikkal    2\n",
              "Naved Khan          1\n",
              "Na...  "
            ],
            "text/html": [
              "\n",
              "  <div id=\"df-523b2611-8225-4426-9779-81c29703fd19\">\n",
              "    <div class=\"colab-df-container\">\n",
              "      <div>\n",
              "<style scoped>\n",
              "    .dataframe tbody tr th:only-of-type {\n",
              "        vertical-align: middle;\n",
              "    }\n",
              "\n",
              "    .dataframe tbody tr th {\n",
              "        vertical-align: top;\n",
              "    }\n",
              "\n",
              "    .dataframe thead th {\n",
              "        text-align: right;\n",
              "    }\n",
              "</style>\n",
              "<table border=\"1\" class=\"dataframe\">\n",
              "  <thead>\n",
              "    <tr style=\"text-align: right;\">\n",
              "      <th></th>\n",
              "      <th>Card_Holder_Name</th>\n",
              "      <th>Cards_Used</th>\n",
              "      <th>Cards_Fraud</th>\n",
              "      <th>Transaction_Result</th>\n",
              "      <th>Merchant_ID</th>\n",
              "      <th>Fraud_Cards_Merchant</th>\n",
              "      <th>Fraud_User_Merchant</th>\n",
              "      <th>IP_address</th>\n",
              "      <th>Fraud_Cards_IP</th>\n",
              "      <th>Cards_used_IP</th>\n",
              "      <th>Fraud_Users_IP</th>\n",
              "    </tr>\n",
              "  </thead>\n",
              "  <tbody>\n",
              "    <tr>\n",
              "      <th>0</th>\n",
              "      <td>Roshan Thanikkal</td>\n",
              "      <td>411111XXXXXX1111    7243\n",
              "424242XXXXXX4242    1...</td>\n",
              "      <td>424242XXXXXX4242    14\n",
              "411111XXXXXX1111     9\n",
              "...</td>\n",
              "      <td>SUCCESS    7289\n",
              "TIMEOUT    1190\n",
              "FAILURE     41...</td>\n",
              "      <td>AJenONMer</td>\n",
              "      <td>411111XXXXXX1111    2\n",
              "424242XXXXXX4242    1\n",
              "Na...</td>\n",
              "      <td>Roshan Thanikkal    2\n",
              "Mukesh Patel        1\n",
              "Na...</td>\n",
              "      <td>10.10.11.212</td>\n",
              "      <td>411111XXXXXX1111    3\n",
              "Name: TD_SMASKEDCARDNUMB...</td>\n",
              "      <td>411111XXXXXX1111    7243\n",
              "424242XXXXXX4242    1...</td>\n",
              "      <td>Roshan Thanikkal    2\n",
              "Naved Khan          1\n",
              "Na...</td>\n",
              "    </tr>\n",
              "  </tbody>\n",
              "</table>\n",
              "</div>\n",
              "      <button class=\"colab-df-convert\" onclick=\"convertToInteractive('df-523b2611-8225-4426-9779-81c29703fd19')\"\n",
              "              title=\"Convert this dataframe to an interactive table.\"\n",
              "              style=\"display:none;\">\n",
              "        \n",
              "  <svg xmlns=\"http://www.w3.org/2000/svg\" height=\"24px\"viewBox=\"0 0 24 24\"\n",
              "       width=\"24px\">\n",
              "    <path d=\"M0 0h24v24H0V0z\" fill=\"none\"/>\n",
              "    <path d=\"M18.56 5.44l.94 2.06.94-2.06 2.06-.94-2.06-.94-.94-2.06-.94 2.06-2.06.94zm-11 1L8.5 8.5l.94-2.06 2.06-.94-2.06-.94L8.5 2.5l-.94 2.06-2.06.94zm10 10l.94 2.06.94-2.06 2.06-.94-2.06-.94-.94-2.06-.94 2.06-2.06.94z\"/><path d=\"M17.41 7.96l-1.37-1.37c-.4-.4-.92-.59-1.43-.59-.52 0-1.04.2-1.43.59L10.3 9.45l-7.72 7.72c-.78.78-.78 2.05 0 2.83L4 21.41c.39.39.9.59 1.41.59.51 0 1.02-.2 1.41-.59l7.78-7.78 2.81-2.81c.8-.78.8-2.07 0-2.86zM5.41 20L4 18.59l7.72-7.72 1.47 1.35L5.41 20z\"/>\n",
              "  </svg>\n",
              "      </button>\n",
              "      \n",
              "  <style>\n",
              "    .colab-df-container {\n",
              "      display:flex;\n",
              "      flex-wrap:wrap;\n",
              "      gap: 12px;\n",
              "    }\n",
              "\n",
              "    .colab-df-convert {\n",
              "      background-color: #E8F0FE;\n",
              "      border: none;\n",
              "      border-radius: 50%;\n",
              "      cursor: pointer;\n",
              "      display: none;\n",
              "      fill: #1967D2;\n",
              "      height: 32px;\n",
              "      padding: 0 0 0 0;\n",
              "      width: 32px;\n",
              "    }\n",
              "\n",
              "    .colab-df-convert:hover {\n",
              "      background-color: #E2EBFA;\n",
              "      box-shadow: 0px 1px 2px rgba(60, 64, 67, 0.3), 0px 1px 3px 1px rgba(60, 64, 67, 0.15);\n",
              "      fill: #174EA6;\n",
              "    }\n",
              "\n",
              "    [theme=dark] .colab-df-convert {\n",
              "      background-color: #3B4455;\n",
              "      fill: #D2E3FC;\n",
              "    }\n",
              "\n",
              "    [theme=dark] .colab-df-convert:hover {\n",
              "      background-color: #434B5C;\n",
              "      box-shadow: 0px 1px 3px 1px rgba(0, 0, 0, 0.15);\n",
              "      filter: drop-shadow(0px 1px 2px rgba(0, 0, 0, 0.3));\n",
              "      fill: #FFFFFF;\n",
              "    }\n",
              "  </style>\n",
              "\n",
              "      <script>\n",
              "        const buttonEl =\n",
              "          document.querySelector('#df-523b2611-8225-4426-9779-81c29703fd19 button.colab-df-convert');\n",
              "        buttonEl.style.display =\n",
              "          google.colab.kernel.accessAllowed ? 'block' : 'none';\n",
              "\n",
              "        async function convertToInteractive(key) {\n",
              "          const element = document.querySelector('#df-523b2611-8225-4426-9779-81c29703fd19');\n",
              "          const dataTable =\n",
              "            await google.colab.kernel.invokeFunction('convertToInteractive',\n",
              "                                                     [key], {});\n",
              "          if (!dataTable) return;\n",
              "\n",
              "          const docLinkHtml = 'Like what you see? Visit the ' +\n",
              "            '<a target=\"_blank\" href=https://colab.research.google.com/notebooks/data_table.ipynb>data table notebook</a>'\n",
              "            + ' to learn more about interactive tables.';\n",
              "          element.innerHTML = '';\n",
              "          dataTable['output_type'] = 'display_data';\n",
              "          await google.colab.output.renderOutput(dataTable, element);\n",
              "          const docLink = document.createElement('div');\n",
              "          docLink.innerHTML = docLinkHtml;\n",
              "          element.appendChild(docLink);\n",
              "        }\n",
              "      </script>\n",
              "    </div>\n",
              "  </div>\n",
              "  "
            ]
          },
          "metadata": {},
          "execution_count": 106
        }
      ]
    }
  ]
}