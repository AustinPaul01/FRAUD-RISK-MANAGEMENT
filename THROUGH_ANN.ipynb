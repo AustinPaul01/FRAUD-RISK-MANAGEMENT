{
  "nbformat": 4,
  "nbformat_minor": 0,
  "metadata": {
    "colab": {
      "provenance": []
    },
    "kernelspec": {
      "name": "python3",
      "display_name": "Python 3"
    },
    "language_info": {
      "name": "python"
    }
  },
  "cells": [
    {
      "cell_type": "code",
      "source": [
        "import pandas as pd\n",
        "from matplotlib import pyplot as plt\n",
        "%matplotlib inline"
      ],
      "metadata": {
        "id": "nwacuYVvaB3-"
      },
      "execution_count": null,
      "outputs": []
    },
    {
      "cell_type": "code",
      "source": [
        "import tensorflow as tf\n",
        "from tensorflow import keras"
      ],
      "metadata": {
        "id": "0doSd7wOC57x"
      },
      "execution_count": null,
      "outputs": []
    },
    {
      "cell_type": "code",
      "source": [
        "df=pd.read_csv('Transaction_details.csv')\n",
        "df"
      ],
      "metadata": {
        "colab": {
          "base_uri": "https://localhost:8080/",
          "height": 183
        },
        "id": "dMFHG8cxq4Wp",
        "outputId": "5d64f083-957e-4bb1-9cfc-a5db3de043e7"
      },
      "execution_count": null,
      "outputs": [
        {
          "output_type": "error",
          "ename": "NameError",
          "evalue": "ignored",
          "traceback": [
            "\u001b[0;31m---------------------------------------------------------------------------\u001b[0m",
            "\u001b[0;31mNameError\u001b[0m                                 Traceback (most recent call last)",
            "\u001b[0;32m<ipython-input-1-321716b73be3>\u001b[0m in \u001b[0;36m<cell line: 1>\u001b[0;34m()\u001b[0m\n\u001b[0;32m----> 1\u001b[0;31m \u001b[0mdf\u001b[0m\u001b[0;34m=\u001b[0m\u001b[0mpd\u001b[0m\u001b[0;34m.\u001b[0m\u001b[0mread_csv\u001b[0m\u001b[0;34m(\u001b[0m\u001b[0;34m'Transaction_details.csv'\u001b[0m\u001b[0;34m)\u001b[0m\u001b[0;34m\u001b[0m\u001b[0;34m\u001b[0m\u001b[0m\n\u001b[0m\u001b[1;32m      2\u001b[0m \u001b[0mdf\u001b[0m\u001b[0;34m\u001b[0m\u001b[0;34m\u001b[0m\u001b[0m\n",
            "\u001b[0;31mNameError\u001b[0m: name 'pd' is not defined"
          ]
        }
      ]
    },
    {
      "cell_type": "code",
      "source": [
        "pd.set_option('display.max_columns', 15)\n",
        "\n",
        "pd.set_option('display.max_rows', 65535)"
      ],
      "metadata": {
        "id": "FMU5PJ6Fr5og"
      },
      "execution_count": null,
      "outputs": []
    },
    {
      "cell_type": "code",
      "source": [
        "df0 = pd.concat([df['TD_STRAN_REFERENCE'], df['TD_SCARD_BRAND'], df['TD_DTRAN_AMOUNT'], df['TD_STRAN_CURRENCY'],\n",
        "                 df['TD_DTRAN_DATE_TIME'], df['TD_SINSTITUTION_ID'], df['TD_SMERCHANT_NAME'], df['TD_STERMINAL_ID'],\n",
        "                 df['TD_SRESULT'], df['TD_SCARDHOLDER_NAME'],df['TD_SMASKEDCARDNUMBER'], df['TD_SCUST_IP'],\n",
        "                 df['TD_SFRAUD_1_STATUS']], axis=1)"
      ],
      "metadata": {
        "id": "_NAb_T0iq4aI"
      },
      "execution_count": null,
      "outputs": []
    },
    {
      "cell_type": "code",
      "source": [
        "df0.dtypes"
      ],
      "metadata": {
        "colab": {
          "base_uri": "https://localhost:8080/"
        },
        "id": "Mjq56GNcq4dK",
        "outputId": "5aa2c6c0-4165-4fd5-841c-668f5fa54667"
      },
      "execution_count": null,
      "outputs": [
        {
          "output_type": "execute_result",
          "data": {
            "text/plain": [
              "TD_STRAN_REFERENCE       object\n",
              "TD_SCARD_BRAND           object\n",
              "TD_DTRAN_AMOUNT         float64\n",
              "TD_STRAN_CURRENCY        object\n",
              "TD_DTRAN_DATE_TIME       object\n",
              "TD_SINSTITUTION_ID       object\n",
              "TD_SMERCHANT_NAME        object\n",
              "TD_STERMINAL_ID          object\n",
              "TD_SRESULT               object\n",
              "TD_SCARDHOLDER_NAME      object\n",
              "TD_SMASKEDCARDNUMBER     object\n",
              "TD_SCUST_IP              object\n",
              "TD_SFRAUD_1_STATUS        int64\n",
              "dtype: object"
            ]
          },
          "metadata": {},
          "execution_count": 18
        }
      ]
    },
    {
      "cell_type": "code",
      "source": [
        "null_counts = df0.isnull().sum()\n",
        "null_counts"
      ],
      "metadata": {
        "colab": {
          "base_uri": "https://localhost:8080/"
        },
        "id": "zUWU1UA8q4o4",
        "outputId": "790b851c-ca25-4af8-ba62-41ba0a4dc3ff"
      },
      "execution_count": null,
      "outputs": [
        {
          "output_type": "execute_result",
          "data": {
            "text/plain": [
              "TD_STRAN_REFERENCE         43\n",
              "TD_SCARD_BRAND           9322\n",
              "TD_DTRAN_AMOUNT             0\n",
              "TD_STRAN_CURRENCY           3\n",
              "TD_DTRAN_DATE_TIME          0\n",
              "TD_SINSTITUTION_ID         87\n",
              "TD_SMERCHANT_NAME        2500\n",
              "TD_STERMINAL_ID             0\n",
              "TD_SRESULT                  6\n",
              "TD_SCARDHOLDER_NAME      7759\n",
              "TD_SMASKEDCARDNUMBER    13510\n",
              "TD_SCUST_IP              4211\n",
              "TD_SFRAUD_1_STATUS          0\n",
              "dtype: int64"
            ]
          },
          "metadata": {},
          "execution_count": 20
        }
      ]
    },
    {
      "cell_type": "code",
      "source": [
        "columns_to_drop = null_counts[null_counts > 65532].index\n",
        "\n",
        "df0 = df0.drop(columns_to_drop, axis=1)"
      ],
      "metadata": {
        "id": "nLwhWOwp8Q8U"
      },
      "execution_count": null,
      "outputs": []
    },
    {
      "cell_type": "code",
      "source": [
        "for column in df0.columns:\n",
        "    # Check the data type of the column\n",
        "    column_dtype = df0[column].dtype\n",
        "\n",
        "    # Fill missing values based on the data type object as rest were filled\n",
        "    if column_dtype == 'object':\n",
        "        df0[column] = df0[column].fillna('Unknown')\n",
        "\n",
        "# Verify if all missing values are filled\n",
        "print(df0.isnull().sum())"
      ],
      "metadata": {
        "colab": {
          "base_uri": "https://localhost:8080/"
        },
        "id": "uztKGO2P9tbU",
        "outputId": "c7747dca-3e9d-461e-88db-70fd1f26b7af"
      },
      "execution_count": null,
      "outputs": [
        {
          "output_type": "stream",
          "name": "stdout",
          "text": [
            "TD_STRAN_REFERENCE      0\n",
            "TD_SCARD_BRAND          0\n",
            "TD_DTRAN_AMOUNT         0\n",
            "TD_STRAN_CURRENCY       0\n",
            "TD_DTRAN_DATE_TIME      0\n",
            "TD_SINSTITUTION_ID      0\n",
            "TD_SMERCHANT_NAME       0\n",
            "TD_STERMINAL_ID         0\n",
            "TD_SRESULT              0\n",
            "TD_SCARDHOLDER_NAME     0\n",
            "TD_SMASKEDCARDNUMBER    0\n",
            "TD_SCUST_IP             0\n",
            "TD_SFRAUD_1_STATUS      0\n",
            "dtype: int64\n"
          ]
        }
      ]
    },
    {
      "cell_type": "code",
      "source": [
        "import seaborn as sns\n",
        "from sklearn.preprocessing import LabelEncoder\n",
        "\n",
        "object_columns = df0.select_dtypes(include='object').columns\n",
        "\n",
        "label_encoder = LabelEncoder()\n",
        "\n",
        "for column in object_columns:\n",
        "    df0[column] = df0[column].astype(str)\n",
        "    df0[column] = label_encoder.fit_transform(df0[column])"
      ],
      "metadata": {
        "id": "bBJVJ6459tem"
      },
      "execution_count": null,
      "outputs": []
    },
    {
      "cell_type": "code",
      "source": [
        "columns_to_scale = ['TD_DTRAN_AMOUNT']\n",
        "from sklearn.preprocessing import MinMaxScaler\n",
        "scaler = MinMaxScaler()\n",
        "df0[columns_to_scale] = scaler.fit_transform(df0[columns_to_scale])"
      ],
      "metadata": {
        "id": "zYqneRGV9thj"
      },
      "execution_count": null,
      "outputs": []
    },
    {
      "cell_type": "code",
      "source": [
        "X = df0.drop('TD_SFRAUD_1_STATUS', axis=1)\n",
        "y = df0['TD_SFRAUD_1_STATUS']"
      ],
      "metadata": {
        "id": "phMhJJ9PCkSz"
      },
      "execution_count": null,
      "outputs": []
    },
    {
      "cell_type": "code",
      "source": [
        "from sklearn.model_selection import train_test_split\n",
        "#split the data into training and testing sets\n",
        "x_train, x_test, y_train, y_test = train_test_split(X, y, test_size = 0.3, random_state = 0)"
      ],
      "metadata": {
        "id": "mPpK0Mc_C54i"
      },
      "execution_count": null,
      "outputs": []
    },
    {
      "cell_type": "code",
      "source": [
        "model = keras.Sequential([\n",
        "    keras.layers.Dense(12, input_shape=(12,), activation='relu'),\n",
        "    keras.layers.Dense(1, activation='sigmoid')\n",
        "])"
      ],
      "metadata": {
        "id": "LBaYyhrCCkV6"
      },
      "execution_count": null,
      "outputs": []
    },
    {
      "cell_type": "code",
      "source": [
        "model.compile(optimizer='adam', loss='binary_crossentropy', metrics=['accuracy'])"
      ],
      "metadata": {
        "id": "-TvYwt02HFiY"
      },
      "execution_count": null,
      "outputs": []
    },
    {
      "cell_type": "code",
      "source": [
        "model.fit(x_train, y_train, epochs=10)"
      ],
      "metadata": {
        "colab": {
          "base_uri": "https://localhost:8080/"
        },
        "id": "T_VcaYTsHdCo",
        "outputId": "be3c6d1c-cd9a-4ea2-ef1a-87b098ebd1f5"
      },
      "execution_count": null,
      "outputs": [
        {
          "output_type": "stream",
          "name": "stdout",
          "text": [
            "Epoch 1/10\n",
            "1434/1434 [==============================] - 3s 2ms/step - loss: 1.9004 - accuracy: 0.9893\n",
            "Epoch 2/10\n",
            "1434/1434 [==============================] - 2s 2ms/step - loss: 0.9176 - accuracy: 0.9900\n",
            "Epoch 3/10\n",
            "1434/1434 [==============================] - 2s 2ms/step - loss: 1.3521 - accuracy: 0.9898\n",
            "Epoch 4/10\n",
            "1434/1434 [==============================] - 3s 2ms/step - loss: 0.9880 - accuracy: 0.9902\n",
            "Epoch 5/10\n",
            "1434/1434 [==============================] - 2s 2ms/step - loss: 1.2250 - accuracy: 0.9904\n",
            "Epoch 6/10\n",
            "1434/1434 [==============================] - 2s 2ms/step - loss: 1.3962 - accuracy: 0.9903\n",
            "Epoch 7/10\n",
            "1434/1434 [==============================] - 2s 2ms/step - loss: 0.8389 - accuracy: 0.9904\n",
            "Epoch 8/10\n",
            "1434/1434 [==============================] - 2s 1ms/step - loss: 1.2208 - accuracy: 0.9901\n",
            "Epoch 9/10\n",
            "1434/1434 [==============================] - 2s 2ms/step - loss: 0.8288 - accuracy: 0.9904\n",
            "Epoch 10/10\n",
            "1434/1434 [==============================] - 3s 2ms/step - loss: 1.3827 - accuracy: 0.9900\n"
          ]
        },
        {
          "output_type": "execute_result",
          "data": {
            "text/plain": [
              "<keras.callbacks.History at 0x7fd909109a20>"
            ]
          },
          "metadata": {},
          "execution_count": 36
        }
      ]
    },
    {
      "cell_type": "code",
      "source": [
        "model.evaluate(x_test, y_test)"
      ],
      "metadata": {
        "colab": {
          "base_uri": "https://localhost:8080/"
        },
        "id": "GFrNTM1TH3tI",
        "outputId": "6304a386-bc24-476b-88a1-0730c34d37dc"
      },
      "execution_count": null,
      "outputs": [
        {
          "output_type": "stream",
          "name": "stdout",
          "text": [
            "615/615 [==============================] - 1s 1ms/step - loss: 1.7690 - accuracy: 0.9963\n"
          ]
        },
        {
          "output_type": "execute_result",
          "data": {
            "text/plain": [
              "[1.769023060798645, 0.9962870478630066]"
            ]
          },
          "metadata": {},
          "execution_count": 37
        }
      ]
    },
    {
      "cell_type": "code",
      "source": [
        "y0 = model.predict(x_test)\n",
        "y0"
      ],
      "metadata": {
        "colab": {
          "base_uri": "https://localhost:8080/"
        },
        "id": "I07mJhXZH38Z",
        "outputId": "e28edc46-7d58-4a6a-f92d-e3e8fd06342d"
      },
      "execution_count": null,
      "outputs": [
        {
          "output_type": "stream",
          "name": "stdout",
          "text": [
            "615/615 [==============================] - 1s 2ms/step\n"
          ]
        },
        {
          "output_type": "execute_result",
          "data": {
            "text/plain": [
              "array([[0.],\n",
              "       [0.],\n",
              "       [0.],\n",
              "       ...,\n",
              "       [0.],\n",
              "       [0.],\n",
              "       [0.]], dtype=float32)"
            ]
          },
          "metadata": {},
          "execution_count": 38
        }
      ]
    },
    {
      "cell_type": "code",
      "source": [
        "import numpy as np\n",
        "\n",
        "y_pred = y0.astype(int)\n",
        "y_pred"
      ],
      "metadata": {
        "colab": {
          "base_uri": "https://localhost:8080/"
        },
        "id": "IKn3S-4CJ14X",
        "outputId": "6589b77c-73b9-4364-d08c-a4c4bb92894f"
      },
      "execution_count": null,
      "outputs": [
        {
          "output_type": "execute_result",
          "data": {
            "text/plain": [
              "array([[0],\n",
              "       [0],\n",
              "       [0],\n",
              "       ...,\n",
              "       [0],\n",
              "       [0],\n",
              "       [0]])"
            ]
          },
          "metadata": {},
          "execution_count": 43
        }
      ]
    },
    {
      "cell_type": "code",
      "source": [
        "from sklearn.metrics import confusion_matrix, classification_report\n",
        "print(classification_report(y_test, y_pred))"
      ],
      "metadata": {
        "colab": {
          "base_uri": "https://localhost:8080/"
        },
        "id": "mONUh21GIS6H",
        "outputId": "0255e898-824c-4db2-f62b-4e34fe568d3d"
      },
      "execution_count": null,
      "outputs": [
        {
          "output_type": "stream",
          "name": "stdout",
          "text": [
            "              precision    recall  f1-score   support\n",
            "\n",
            "           0       1.00      1.00      1.00     19588\n",
            "           1       0.00      0.00      0.00        73\n",
            "\n",
            "    accuracy                           1.00     19661\n",
            "   macro avg       0.50      0.50      0.50     19661\n",
            "weighted avg       0.99      1.00      0.99     19661\n",
            "\n"
          ]
        },
        {
          "output_type": "stream",
          "name": "stderr",
          "text": [
            "/usr/local/lib/python3.10/dist-packages/sklearn/metrics/_classification.py:1344: UndefinedMetricWarning: Precision and F-score are ill-defined and being set to 0.0 in labels with no predicted samples. Use `zero_division` parameter to control this behavior.\n",
            "  _warn_prf(average, modifier, msg_start, len(result))\n",
            "/usr/local/lib/python3.10/dist-packages/sklearn/metrics/_classification.py:1344: UndefinedMetricWarning: Precision and F-score are ill-defined and being set to 0.0 in labels with no predicted samples. Use `zero_division` parameter to control this behavior.\n",
            "  _warn_prf(average, modifier, msg_start, len(result))\n",
            "/usr/local/lib/python3.10/dist-packages/sklearn/metrics/_classification.py:1344: UndefinedMetricWarning: Precision and F-score are ill-defined and being set to 0.0 in labels with no predicted samples. Use `zero_division` parameter to control this behavior.\n",
            "  _warn_prf(average, modifier, msg_start, len(result))\n"
          ]
        }
      ]
    }
  ]
}