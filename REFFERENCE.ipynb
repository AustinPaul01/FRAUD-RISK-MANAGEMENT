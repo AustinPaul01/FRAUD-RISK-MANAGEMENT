{
  "nbformat": 4,
  "nbformat_minor": 0,
  "metadata": {
    "colab": {
      "provenance": []
    },
    "kernelspec": {
      "name": "python3",
      "display_name": "Python 3"
    },
    "language_info": {
      "name": "python"
    }
  },
  "cells": [
    {
      "cell_type": "markdown",
      "source": [
        "***PREPARINING THE REQUIREMENTS***\n",
        "---\n",
        "Deleting the results having values 'INITIATED' and 'TIMEOUT'\n",
        "Also deleting rows with having values 'completed' in amount."
      ],
      "metadata": {
        "id": "4U2a3YG1iJsW"
      }
    },
    {
      "cell_type": "code",
      "source": [
        "import pandas as pd\n",
        "import numpy as np"
      ],
      "metadata": {
        "id": "LggTGr7Ch8xi"
      },
      "execution_count": null,
      "outputs": []
    },
    {
      "cell_type": "code",
      "source": [
        "df = pd.read_csv('REAL_TD.csv')\n",
        "\n",
        "df = df[df['TD_SRESULT'] != 'INITIATED']\n",
        "\n",
        "df = df[df['TD_SRESULT'] != 'TIMEOUT']\n",
        "\n",
        "df = df[df['TD_DTRAN_AMOUNT'] != 'Completed']\n",
        "\n",
        "df = df[df['TD_SFRAUD_CB_STATUS'].notna()]\n",
        "\n",
        "df['TD_DTRAN_AMOUNT'] = df['TD_DTRAN_AMOUNT'].astype('float64')\n",
        "\n",
        "df['TD_DTRAN_DATE_TIME'] = pd.to_datetime(df['TD_DTRAN_DATE_TIME'])\n",
        "\n",
        "df.to_csv('REQ.csv', index=False)"
      ],
      "metadata": {
        "id": "uOJAW0EUh80s"
      },
      "execution_count": null,
      "outputs": []
    },
    {
      "cell_type": "code",
      "source": [
        "req = pd.read_csv('REQ.csv')\n",
        "\n",
        "data = req.drop(columns=['TD_SRESULT'])"
      ],
      "metadata": {
        "id": "FMmhXbQ2h87J"
      },
      "execution_count": null,
      "outputs": []
    },
    {
      "cell_type": "markdown",
      "source": [
        "Creating a seperate dataset without Transaction Result"
      ],
      "metadata": {
        "id": "u22rF9L_5Njp"
      }
    },
    {
      "cell_type": "markdown",
      "source": [
        "DATASET EXPLORATION"
      ],
      "metadata": {
        "id": "8G6MQ4rrxv0P"
      }
    },
    {
      "cell_type": "code",
      "source": [
        "print('The columns in the dataset:\\n', data.columns)\n",
        "print('\\n')\n",
        "print('The datatypes in the dataset:\\n', data.dtypes)\n",
        "print('\\n')\n",
        "print('The unique values in the dataset:\\n', data.nunique())\n",
        "print('\\n')\n",
        "print('The shape of the dataset:\\n', data.shape)\n",
        "print('\\n')\n",
        "print('Describing the dataset:\\n', data.describe())"
      ],
      "metadata": {
        "id": "8SKzNEJhxvOi"
      },
      "execution_count": null,
      "outputs": []
    },
    {
      "cell_type": "markdown",
      "source": [
        "Filling missing values"
      ],
      "metadata": {
        "id": "E_dhcKvF5lAy"
      }
    },
    {
      "cell_type": "code",
      "source": [
        "null_counts = data.isnull().sum()\n",
        "null_counts"
      ],
      "metadata": {
        "id": "O9GVtDRlh8-J"
      },
      "execution_count": null,
      "outputs": []
    },
    {
      "cell_type": "code",
      "source": [
        "for column in data.columns:\n",
        "    # Checking the data type of the column\n",
        "    column_dtype = data[column].dtype\n",
        "\n",
        "    # Filling the missing values based on the data type object as rest were filled\n",
        "    if column_dtype == 'object':\n",
        "        data[column] = data[column].fillna('Unknown')\n",
        "\n",
        "# Verifying if all missing values are filled\n",
        "print(data.isnull().sum())"
      ],
      "metadata": {
        "id": "9qcdgnHsh9BJ"
      },
      "execution_count": null,
      "outputs": []
    },
    {
      "cell_type": "markdown",
      "source": [
        "Making a seperate DataFrame for fraud"
      ],
      "metadata": {
        "id": "ELv3MobJvvWt"
      }
    },
    {
      "cell_type": "code",
      "source": [
        "mask = data['TD_SFRAUD_CB_STATUS'] == 1\n",
        "fraud = data[mask]\n",
        "fraud.head(10)"
      ],
      "metadata": {
        "colab": {
          "base_uri": "https://localhost:8080/",
          "height": 427
        },
        "id": "Srjx0UTCh834",
        "outputId": "18479e9e-0e42-4858-8991-0f69e15cc588"
      },
      "execution_count": null,
      "outputs": [
        {
          "output_type": "execute_result",
          "data": {
            "text/plain": [
              "        TD_SCARDHOLDER_NAME TD_SMERCHANT_ID TD_STERMINAL_ID  \\\n",
              "4969           Angely Cassy       PlaytechM      PlaytechIn   \n",
              "4993           Angely Cassy       PlaytechM      PlaytechIn   \n",
              "5256            Robyn Hield       PlaytechM      PlaytechIn   \n",
              "7151   Benjamin Lightbourne       PlaytechM      PlaytechIn   \n",
              "8765          Tara Strachan       PlaytechM      PlaytechIn   \n",
              "10835         Tara Strachan       PlaytechM      PlaytechIn   \n",
              "11357         Tara Strachan       PlaytechM      PlaytechIn   \n",
              "12865         Tara Strachan       PlaytechM      PlaytechIn   \n",
              "14107          Tammy Albury       PlaytechM      PlaytechIn   \n",
              "16405       Marvin Emmanuel       PlaytechM      PlaytechIn   \n",
              "\n",
              "      TD_SINSTITUTION_ID TD_SMASKEDCARDNUMBER     TD_SCUST_IP  \\\n",
              "4969              SAEUSA     479432XXXXXX9950   108.60.250.59   \n",
              "4993              SAEUSA     479432XXXXXX9950   108.60.250.59   \n",
              "5256              SAEUSA     473702XXXXXX6728   24.244.177.27   \n",
              "7151              SAEUSA     523609XXXXXX9680  64.150.255.107   \n",
              "8765              SAEUSA     479432XXXXXX8269   108.60.253.82   \n",
              "10835             SAEUSA     479432XXXXXX8269  192.168.182.10   \n",
              "11357             SAEUSA     479432XXXXXX8269  192.168.182.10   \n",
              "12865             SAEUSA     479432XXXXXX8269  192.168.182.10   \n",
              "14107             SAEUSA     468126XXXXXX0012  64.150.199.247   \n",
              "16405             SAEUSA     479432XXXXXX1913    24.51.126.20   \n",
              "\n",
              "        TD_DTRAN_DATE_TIME TD_STRAN_CURRENCY  TD_DTRAN_AMOUNT  \\\n",
              "4969   2021-12-20 21:04:00               BSD             20.0   \n",
              "4993   2021-12-20 21:09:00               BSD             20.0   \n",
              "5256   2021-12-20 22:18:00               BSD             50.0   \n",
              "7151   2021-12-21 16:17:00               BSD            200.0   \n",
              "8765   2021-12-22 06:53:00               BSD            100.0   \n",
              "10835  2021-12-23 05:18:00               BSD            100.0   \n",
              "11357  2021-12-23 14:03:00               BSD            100.0   \n",
              "12865  2021-12-24 08:55:00               BSD            100.0   \n",
              "14107  2021-12-25 02:32:00               BSD            100.0   \n",
              "16405  2021-12-27 11:39:00               BSD            100.0   \n",
              "\n",
              "       TD_SFRAUD_CB_STATUS  \n",
              "4969                     1  \n",
              "4993                     1  \n",
              "5256                     1  \n",
              "7151                     1  \n",
              "8765                     1  \n",
              "10835                    1  \n",
              "11357                    1  \n",
              "12865                    1  \n",
              "14107                    1  \n",
              "16405                    1  "
            ],
            "text/html": [
              "\n",
              "  <div id=\"df-17895912-f399-4968-acec-b334068d01f8\">\n",
              "    <div class=\"colab-df-container\">\n",
              "      <div>\n",
              "<style scoped>\n",
              "    .dataframe tbody tr th:only-of-type {\n",
              "        vertical-align: middle;\n",
              "    }\n",
              "\n",
              "    .dataframe tbody tr th {\n",
              "        vertical-align: top;\n",
              "    }\n",
              "\n",
              "    .dataframe thead th {\n",
              "        text-align: right;\n",
              "    }\n",
              "</style>\n",
              "<table border=\"1\" class=\"dataframe\">\n",
              "  <thead>\n",
              "    <tr style=\"text-align: right;\">\n",
              "      <th></th>\n",
              "      <th>TD_SCARDHOLDER_NAME</th>\n",
              "      <th>TD_SMERCHANT_ID</th>\n",
              "      <th>TD_STERMINAL_ID</th>\n",
              "      <th>TD_SINSTITUTION_ID</th>\n",
              "      <th>TD_SMASKEDCARDNUMBER</th>\n",
              "      <th>TD_SCUST_IP</th>\n",
              "      <th>TD_DTRAN_DATE_TIME</th>\n",
              "      <th>TD_STRAN_CURRENCY</th>\n",
              "      <th>TD_DTRAN_AMOUNT</th>\n",
              "      <th>TD_SFRAUD_CB_STATUS</th>\n",
              "    </tr>\n",
              "  </thead>\n",
              "  <tbody>\n",
              "    <tr>\n",
              "      <th>4969</th>\n",
              "      <td>Angely Cassy</td>\n",
              "      <td>PlaytechM</td>\n",
              "      <td>PlaytechIn</td>\n",
              "      <td>SAEUSA</td>\n",
              "      <td>479432XXXXXX9950</td>\n",
              "      <td>108.60.250.59</td>\n",
              "      <td>2021-12-20 21:04:00</td>\n",
              "      <td>BSD</td>\n",
              "      <td>20.0</td>\n",
              "      <td>1</td>\n",
              "    </tr>\n",
              "    <tr>\n",
              "      <th>4993</th>\n",
              "      <td>Angely Cassy</td>\n",
              "      <td>PlaytechM</td>\n",
              "      <td>PlaytechIn</td>\n",
              "      <td>SAEUSA</td>\n",
              "      <td>479432XXXXXX9950</td>\n",
              "      <td>108.60.250.59</td>\n",
              "      <td>2021-12-20 21:09:00</td>\n",
              "      <td>BSD</td>\n",
              "      <td>20.0</td>\n",
              "      <td>1</td>\n",
              "    </tr>\n",
              "    <tr>\n",
              "      <th>5256</th>\n",
              "      <td>Robyn Hield</td>\n",
              "      <td>PlaytechM</td>\n",
              "      <td>PlaytechIn</td>\n",
              "      <td>SAEUSA</td>\n",
              "      <td>473702XXXXXX6728</td>\n",
              "      <td>24.244.177.27</td>\n",
              "      <td>2021-12-20 22:18:00</td>\n",
              "      <td>BSD</td>\n",
              "      <td>50.0</td>\n",
              "      <td>1</td>\n",
              "    </tr>\n",
              "    <tr>\n",
              "      <th>7151</th>\n",
              "      <td>Benjamin Lightbourne</td>\n",
              "      <td>PlaytechM</td>\n",
              "      <td>PlaytechIn</td>\n",
              "      <td>SAEUSA</td>\n",
              "      <td>523609XXXXXX9680</td>\n",
              "      <td>64.150.255.107</td>\n",
              "      <td>2021-12-21 16:17:00</td>\n",
              "      <td>BSD</td>\n",
              "      <td>200.0</td>\n",
              "      <td>1</td>\n",
              "    </tr>\n",
              "    <tr>\n",
              "      <th>8765</th>\n",
              "      <td>Tara Strachan</td>\n",
              "      <td>PlaytechM</td>\n",
              "      <td>PlaytechIn</td>\n",
              "      <td>SAEUSA</td>\n",
              "      <td>479432XXXXXX8269</td>\n",
              "      <td>108.60.253.82</td>\n",
              "      <td>2021-12-22 06:53:00</td>\n",
              "      <td>BSD</td>\n",
              "      <td>100.0</td>\n",
              "      <td>1</td>\n",
              "    </tr>\n",
              "    <tr>\n",
              "      <th>10835</th>\n",
              "      <td>Tara Strachan</td>\n",
              "      <td>PlaytechM</td>\n",
              "      <td>PlaytechIn</td>\n",
              "      <td>SAEUSA</td>\n",
              "      <td>479432XXXXXX8269</td>\n",
              "      <td>192.168.182.10</td>\n",
              "      <td>2021-12-23 05:18:00</td>\n",
              "      <td>BSD</td>\n",
              "      <td>100.0</td>\n",
              "      <td>1</td>\n",
              "    </tr>\n",
              "    <tr>\n",
              "      <th>11357</th>\n",
              "      <td>Tara Strachan</td>\n",
              "      <td>PlaytechM</td>\n",
              "      <td>PlaytechIn</td>\n",
              "      <td>SAEUSA</td>\n",
              "      <td>479432XXXXXX8269</td>\n",
              "      <td>192.168.182.10</td>\n",
              "      <td>2021-12-23 14:03:00</td>\n",
              "      <td>BSD</td>\n",
              "      <td>100.0</td>\n",
              "      <td>1</td>\n",
              "    </tr>\n",
              "    <tr>\n",
              "      <th>12865</th>\n",
              "      <td>Tara Strachan</td>\n",
              "      <td>PlaytechM</td>\n",
              "      <td>PlaytechIn</td>\n",
              "      <td>SAEUSA</td>\n",
              "      <td>479432XXXXXX8269</td>\n",
              "      <td>192.168.182.10</td>\n",
              "      <td>2021-12-24 08:55:00</td>\n",
              "      <td>BSD</td>\n",
              "      <td>100.0</td>\n",
              "      <td>1</td>\n",
              "    </tr>\n",
              "    <tr>\n",
              "      <th>14107</th>\n",
              "      <td>Tammy Albury</td>\n",
              "      <td>PlaytechM</td>\n",
              "      <td>PlaytechIn</td>\n",
              "      <td>SAEUSA</td>\n",
              "      <td>468126XXXXXX0012</td>\n",
              "      <td>64.150.199.247</td>\n",
              "      <td>2021-12-25 02:32:00</td>\n",
              "      <td>BSD</td>\n",
              "      <td>100.0</td>\n",
              "      <td>1</td>\n",
              "    </tr>\n",
              "    <tr>\n",
              "      <th>16405</th>\n",
              "      <td>Marvin Emmanuel</td>\n",
              "      <td>PlaytechM</td>\n",
              "      <td>PlaytechIn</td>\n",
              "      <td>SAEUSA</td>\n",
              "      <td>479432XXXXXX1913</td>\n",
              "      <td>24.51.126.20</td>\n",
              "      <td>2021-12-27 11:39:00</td>\n",
              "      <td>BSD</td>\n",
              "      <td>100.0</td>\n",
              "      <td>1</td>\n",
              "    </tr>\n",
              "  </tbody>\n",
              "</table>\n",
              "</div>\n",
              "      <button class=\"colab-df-convert\" onclick=\"convertToInteractive('df-17895912-f399-4968-acec-b334068d01f8')\"\n",
              "              title=\"Convert this dataframe to an interactive table.\"\n",
              "              style=\"display:none;\">\n",
              "        \n",
              "  <svg xmlns=\"http://www.w3.org/2000/svg\" height=\"24px\"viewBox=\"0 0 24 24\"\n",
              "       width=\"24px\">\n",
              "    <path d=\"M0 0h24v24H0V0z\" fill=\"none\"/>\n",
              "    <path d=\"M18.56 5.44l.94 2.06.94-2.06 2.06-.94-2.06-.94-.94-2.06-.94 2.06-2.06.94zm-11 1L8.5 8.5l.94-2.06 2.06-.94-2.06-.94L8.5 2.5l-.94 2.06-2.06.94zm10 10l.94 2.06.94-2.06 2.06-.94-2.06-.94-.94-2.06-.94 2.06-2.06.94z\"/><path d=\"M17.41 7.96l-1.37-1.37c-.4-.4-.92-.59-1.43-.59-.52 0-1.04.2-1.43.59L10.3 9.45l-7.72 7.72c-.78.78-.78 2.05 0 2.83L4 21.41c.39.39.9.59 1.41.59.51 0 1.02-.2 1.41-.59l7.78-7.78 2.81-2.81c.8-.78.8-2.07 0-2.86zM5.41 20L4 18.59l7.72-7.72 1.47 1.35L5.41 20z\"/>\n",
              "  </svg>\n",
              "      </button>\n",
              "      \n",
              "  <style>\n",
              "    .colab-df-container {\n",
              "      display:flex;\n",
              "      flex-wrap:wrap;\n",
              "      gap: 12px;\n",
              "    }\n",
              "\n",
              "    .colab-df-convert {\n",
              "      background-color: #E8F0FE;\n",
              "      border: none;\n",
              "      border-radius: 50%;\n",
              "      cursor: pointer;\n",
              "      display: none;\n",
              "      fill: #1967D2;\n",
              "      height: 32px;\n",
              "      padding: 0 0 0 0;\n",
              "      width: 32px;\n",
              "    }\n",
              "\n",
              "    .colab-df-convert:hover {\n",
              "      background-color: #E2EBFA;\n",
              "      box-shadow: 0px 1px 2px rgba(60, 64, 67, 0.3), 0px 1px 3px 1px rgba(60, 64, 67, 0.15);\n",
              "      fill: #174EA6;\n",
              "    }\n",
              "\n",
              "    [theme=dark] .colab-df-convert {\n",
              "      background-color: #3B4455;\n",
              "      fill: #D2E3FC;\n",
              "    }\n",
              "\n",
              "    [theme=dark] .colab-df-convert:hover {\n",
              "      background-color: #434B5C;\n",
              "      box-shadow: 0px 1px 3px 1px rgba(0, 0, 0, 0.15);\n",
              "      filter: drop-shadow(0px 1px 2px rgba(0, 0, 0, 0.3));\n",
              "      fill: #FFFFFF;\n",
              "    }\n",
              "  </style>\n",
              "\n",
              "      <script>\n",
              "        const buttonEl =\n",
              "          document.querySelector('#df-17895912-f399-4968-acec-b334068d01f8 button.colab-df-convert');\n",
              "        buttonEl.style.display =\n",
              "          google.colab.kernel.accessAllowed ? 'block' : 'none';\n",
              "\n",
              "        async function convertToInteractive(key) {\n",
              "          const element = document.querySelector('#df-17895912-f399-4968-acec-b334068d01f8');\n",
              "          const dataTable =\n",
              "            await google.colab.kernel.invokeFunction('convertToInteractive',\n",
              "                                                     [key], {});\n",
              "          if (!dataTable) return;\n",
              "\n",
              "          const docLinkHtml = 'Like what you see? Visit the ' +\n",
              "            '<a target=\"_blank\" href=https://colab.research.google.com/notebooks/data_table.ipynb>data table notebook</a>'\n",
              "            + ' to learn more about interactive tables.';\n",
              "          element.innerHTML = '';\n",
              "          dataTable['output_type'] = 'display_data';\n",
              "          await google.colab.output.renderOutput(dataTable, element);\n",
              "          const docLink = document.createElement('div');\n",
              "          docLink.innerHTML = docLinkHtml;\n",
              "          element.appendChild(docLink);\n",
              "        }\n",
              "      </script>\n",
              "    </div>\n",
              "  </div>\n",
              "  "
            ]
          },
          "metadata": {},
          "execution_count": 7
        }
      ]
    },
    {
      "cell_type": "markdown",
      "source": [
        "Replacing the dataset with new one, which consists of ratios and dummies"
      ],
      "metadata": {
        "id": "B5xGQ-Iu9HmW"
      }
    },
    {
      "cell_type": "code",
      "source": [
        "freq = data.drop(columns=['TD_DTRAN_DATE_TIME', 'TD_STRAN_CURRENCY', 'TD_DTRAN_AMOUNT',\n",
        "                          'TD_SFRAUD_CB_STATUS', 'TD_SINSTITUTION_ID'])\n",
        "freq"
      ],
      "metadata": {
        "colab": {
          "base_uri": "https://localhost:8080/",
          "height": 424
        },
        "id": "KyG-DRoagXq-",
        "outputId": "e82f0d89-ddf4-4028-80a7-d3b792bf92ee"
      },
      "execution_count": null,
      "outputs": [
        {
          "output_type": "execute_result",
          "data": {
            "text/plain": [
              "       TD_SCARDHOLDER_NAME TD_SMERCHANT_ID TD_STERMINAL_ID  \\\n",
              "0                yugy nbyt      Lawpreneur      Lawpernu01   \n",
              "1                   fd grt      Lawpreneur      Lawpernu01   \n",
              "2                  hfh ghj      Lawpreneur      Lawpernu01   \n",
              "3                df ghyjgj      Lawpreneur      Lawpernu01   \n",
              "4      Vinaykumar Bonagiri      Lawpreneur      Lawpernu01   \n",
              "...                    ...             ...             ...   \n",
              "45070        Partha Barman       PlaytechM      PlaytechIn   \n",
              "45071        Concerto Test      MER0000406      TER0000406   \n",
              "45072        Concerto Test      MER0000406      TER0000406   \n",
              "45073              Unknown      MER0000406      TER0000406   \n",
              "45074        Concerto Test      MER0000406      TER0000406   \n",
              "\n",
              "      TD_SMASKEDCARDNUMBER     TD_SCUST_IP  \n",
              "0         411111XXXXXX1111         Unknown  \n",
              "1         411111XXXXXX1111         Unknown  \n",
              "2         411111XXXXXX1111         Unknown  \n",
              "3         411111XXXXXX1111         Unknown  \n",
              "4         414367XXXXXX5717         Unknown  \n",
              "...                    ...             ...  \n",
              "45070     411111XXXXXX1111    114.79.161.5  \n",
              "45071     411111XXXXXX1111    42.111.8.204  \n",
              "45072     512345XXXXXX0008    114.79.161.5  \n",
              "45073              Unknown  192.168.182.10  \n",
              "45074     512345XXXXXX0008    114.79.161.5  \n",
              "\n",
              "[45075 rows x 5 columns]"
            ],
            "text/html": [
              "\n",
              "  <div id=\"df-eb1620d1-e8ac-4964-bd4a-9edea2f4d4fd\">\n",
              "    <div class=\"colab-df-container\">\n",
              "      <div>\n",
              "<style scoped>\n",
              "    .dataframe tbody tr th:only-of-type {\n",
              "        vertical-align: middle;\n",
              "    }\n",
              "\n",
              "    .dataframe tbody tr th {\n",
              "        vertical-align: top;\n",
              "    }\n",
              "\n",
              "    .dataframe thead th {\n",
              "        text-align: right;\n",
              "    }\n",
              "</style>\n",
              "<table border=\"1\" class=\"dataframe\">\n",
              "  <thead>\n",
              "    <tr style=\"text-align: right;\">\n",
              "      <th></th>\n",
              "      <th>TD_SCARDHOLDER_NAME</th>\n",
              "      <th>TD_SMERCHANT_ID</th>\n",
              "      <th>TD_STERMINAL_ID</th>\n",
              "      <th>TD_SMASKEDCARDNUMBER</th>\n",
              "      <th>TD_SCUST_IP</th>\n",
              "    </tr>\n",
              "  </thead>\n",
              "  <tbody>\n",
              "    <tr>\n",
              "      <th>0</th>\n",
              "      <td>yugy nbyt</td>\n",
              "      <td>Lawpreneur</td>\n",
              "      <td>Lawpernu01</td>\n",
              "      <td>411111XXXXXX1111</td>\n",
              "      <td>Unknown</td>\n",
              "    </tr>\n",
              "    <tr>\n",
              "      <th>1</th>\n",
              "      <td>fd grt</td>\n",
              "      <td>Lawpreneur</td>\n",
              "      <td>Lawpernu01</td>\n",
              "      <td>411111XXXXXX1111</td>\n",
              "      <td>Unknown</td>\n",
              "    </tr>\n",
              "    <tr>\n",
              "      <th>2</th>\n",
              "      <td>hfh ghj</td>\n",
              "      <td>Lawpreneur</td>\n",
              "      <td>Lawpernu01</td>\n",
              "      <td>411111XXXXXX1111</td>\n",
              "      <td>Unknown</td>\n",
              "    </tr>\n",
              "    <tr>\n",
              "      <th>3</th>\n",
              "      <td>df ghyjgj</td>\n",
              "      <td>Lawpreneur</td>\n",
              "      <td>Lawpernu01</td>\n",
              "      <td>411111XXXXXX1111</td>\n",
              "      <td>Unknown</td>\n",
              "    </tr>\n",
              "    <tr>\n",
              "      <th>4</th>\n",
              "      <td>Vinaykumar Bonagiri</td>\n",
              "      <td>Lawpreneur</td>\n",
              "      <td>Lawpernu01</td>\n",
              "      <td>414367XXXXXX5717</td>\n",
              "      <td>Unknown</td>\n",
              "    </tr>\n",
              "    <tr>\n",
              "      <th>...</th>\n",
              "      <td>...</td>\n",
              "      <td>...</td>\n",
              "      <td>...</td>\n",
              "      <td>...</td>\n",
              "      <td>...</td>\n",
              "    </tr>\n",
              "    <tr>\n",
              "      <th>45070</th>\n",
              "      <td>Partha Barman</td>\n",
              "      <td>PlaytechM</td>\n",
              "      <td>PlaytechIn</td>\n",
              "      <td>411111XXXXXX1111</td>\n",
              "      <td>114.79.161.5</td>\n",
              "    </tr>\n",
              "    <tr>\n",
              "      <th>45071</th>\n",
              "      <td>Concerto Test</td>\n",
              "      <td>MER0000406</td>\n",
              "      <td>TER0000406</td>\n",
              "      <td>411111XXXXXX1111</td>\n",
              "      <td>42.111.8.204</td>\n",
              "    </tr>\n",
              "    <tr>\n",
              "      <th>45072</th>\n",
              "      <td>Concerto Test</td>\n",
              "      <td>MER0000406</td>\n",
              "      <td>TER0000406</td>\n",
              "      <td>512345XXXXXX0008</td>\n",
              "      <td>114.79.161.5</td>\n",
              "    </tr>\n",
              "    <tr>\n",
              "      <th>45073</th>\n",
              "      <td>Unknown</td>\n",
              "      <td>MER0000406</td>\n",
              "      <td>TER0000406</td>\n",
              "      <td>Unknown</td>\n",
              "      <td>192.168.182.10</td>\n",
              "    </tr>\n",
              "    <tr>\n",
              "      <th>45074</th>\n",
              "      <td>Concerto Test</td>\n",
              "      <td>MER0000406</td>\n",
              "      <td>TER0000406</td>\n",
              "      <td>512345XXXXXX0008</td>\n",
              "      <td>114.79.161.5</td>\n",
              "    </tr>\n",
              "  </tbody>\n",
              "</table>\n",
              "<p>45075 rows × 5 columns</p>\n",
              "</div>\n",
              "      <button class=\"colab-df-convert\" onclick=\"convertToInteractive('df-eb1620d1-e8ac-4964-bd4a-9edea2f4d4fd')\"\n",
              "              title=\"Convert this dataframe to an interactive table.\"\n",
              "              style=\"display:none;\">\n",
              "        \n",
              "  <svg xmlns=\"http://www.w3.org/2000/svg\" height=\"24px\"viewBox=\"0 0 24 24\"\n",
              "       width=\"24px\">\n",
              "    <path d=\"M0 0h24v24H0V0z\" fill=\"none\"/>\n",
              "    <path d=\"M18.56 5.44l.94 2.06.94-2.06 2.06-.94-2.06-.94-.94-2.06-.94 2.06-2.06.94zm-11 1L8.5 8.5l.94-2.06 2.06-.94-2.06-.94L8.5 2.5l-.94 2.06-2.06.94zm10 10l.94 2.06.94-2.06 2.06-.94-2.06-.94-.94-2.06-.94 2.06-2.06.94z\"/><path d=\"M17.41 7.96l-1.37-1.37c-.4-.4-.92-.59-1.43-.59-.52 0-1.04.2-1.43.59L10.3 9.45l-7.72 7.72c-.78.78-.78 2.05 0 2.83L4 21.41c.39.39.9.59 1.41.59.51 0 1.02-.2 1.41-.59l7.78-7.78 2.81-2.81c.8-.78.8-2.07 0-2.86zM5.41 20L4 18.59l7.72-7.72 1.47 1.35L5.41 20z\"/>\n",
              "  </svg>\n",
              "      </button>\n",
              "      \n",
              "  <style>\n",
              "    .colab-df-container {\n",
              "      display:flex;\n",
              "      flex-wrap:wrap;\n",
              "      gap: 12px;\n",
              "    }\n",
              "\n",
              "    .colab-df-convert {\n",
              "      background-color: #E8F0FE;\n",
              "      border: none;\n",
              "      border-radius: 50%;\n",
              "      cursor: pointer;\n",
              "      display: none;\n",
              "      fill: #1967D2;\n",
              "      height: 32px;\n",
              "      padding: 0 0 0 0;\n",
              "      width: 32px;\n",
              "    }\n",
              "\n",
              "    .colab-df-convert:hover {\n",
              "      background-color: #E2EBFA;\n",
              "      box-shadow: 0px 1px 2px rgba(60, 64, 67, 0.3), 0px 1px 3px 1px rgba(60, 64, 67, 0.15);\n",
              "      fill: #174EA6;\n",
              "    }\n",
              "\n",
              "    [theme=dark] .colab-df-convert {\n",
              "      background-color: #3B4455;\n",
              "      fill: #D2E3FC;\n",
              "    }\n",
              "\n",
              "    [theme=dark] .colab-df-convert:hover {\n",
              "      background-color: #434B5C;\n",
              "      box-shadow: 0px 1px 3px 1px rgba(0, 0, 0, 0.15);\n",
              "      filter: drop-shadow(0px 1px 2px rgba(0, 0, 0, 0.3));\n",
              "      fill: #FFFFFF;\n",
              "    }\n",
              "  </style>\n",
              "\n",
              "      <script>\n",
              "        const buttonEl =\n",
              "          document.querySelector('#df-eb1620d1-e8ac-4964-bd4a-9edea2f4d4fd button.colab-df-convert');\n",
              "        buttonEl.style.display =\n",
              "          google.colab.kernel.accessAllowed ? 'block' : 'none';\n",
              "\n",
              "        async function convertToInteractive(key) {\n",
              "          const element = document.querySelector('#df-eb1620d1-e8ac-4964-bd4a-9edea2f4d4fd');\n",
              "          const dataTable =\n",
              "            await google.colab.kernel.invokeFunction('convertToInteractive',\n",
              "                                                     [key], {});\n",
              "          if (!dataTable) return;\n",
              "\n",
              "          const docLinkHtml = 'Like what you see? Visit the ' +\n",
              "            '<a target=\"_blank\" href=https://colab.research.google.com/notebooks/data_table.ipynb>data table notebook</a>'\n",
              "            + ' to learn more about interactive tables.';\n",
              "          element.innerHTML = '';\n",
              "          dataTable['output_type'] = 'display_data';\n",
              "          await google.colab.output.renderOutput(dataTable, element);\n",
              "          const docLink = document.createElement('div');\n",
              "          docLink.innerHTML = docLinkHtml;\n",
              "          element.appendChild(docLink);\n",
              "        }\n",
              "      </script>\n",
              "    </div>\n",
              "  </div>\n",
              "  "
            ]
          },
          "metadata": {},
          "execution_count": 8
        }
      ]
    },
    {
      "cell_type": "code",
      "source": [
        "table = pd.DataFrame()\n",
        "\n",
        "table['CARD_HOLDER'] = data['TD_SCARDHOLDER_NAME']\n",
        "table['MERCHANT_ID'] = data['TD_SMERCHANT_ID']\n",
        "table['TERMINAL_ID'] = data['TD_STERMINAL_ID']\n",
        "table['CARD_NUMBER'] = data['TD_SMASKEDCARDNUMBER']\n",
        "table['CUST_IP'] = data['TD_SCUST_IP']"
      ],
      "metadata": {
        "id": "WCVdWVMdjU1P"
      },
      "execution_count": null,
      "outputs": []
    },
    {
      "cell_type": "code",
      "source": [
        "for row in range(len(freq)):\n",
        "  a = data.iloc[row, 0]\n",
        "  if a in fraud.iloc[:, 0].values:\n",
        "    a_count_fraud = (fraud.iloc[:, 0] == a).sum()\n",
        "    a_count_total = (data.iloc[:, 0] == a).sum()\n",
        "    ratio = (a_count_fraud/a_count_total)\n",
        "  else:\n",
        "    ratio = 0\n",
        "  table.iloc[row, 0] = ratio"
      ],
      "metadata": {
        "id": "Uvl5lk7bh9M_"
      },
      "execution_count": null,
      "outputs": []
    },
    {
      "cell_type": "code",
      "source": [
        "for row in range(len(freq)):\n",
        "  b = data.iloc[row, 1]\n",
        "  if b in fraud.iloc[:, 1].values:\n",
        "    b_count_fraud = (fraud.iloc[:, 1] == b).sum()\n",
        "    b_count_total = (data.iloc[:, 1] == b).sum()\n",
        "    ratio = (b_count_fraud/b_count_total)\n",
        "  else:\n",
        "    ratio = 0\n",
        "  table.iloc[row, 1] = ratio"
      ],
      "metadata": {
        "id": "04J27g_VpwX9"
      },
      "execution_count": null,
      "outputs": []
    },
    {
      "cell_type": "code",
      "source": [
        "for row in range(len(freq)):\n",
        "  c = data.iloc[row, 2]\n",
        "  if c in fraud.iloc[:, 2].values:\n",
        "    c_count_fraud = (fraud.iloc[:, 2] == c).sum()\n",
        "    c_count_total = (data.iloc[:, 2] == c).sum()\n",
        "    ratio = (c_count_fraud/c_count_total)\n",
        "  else:\n",
        "    ratio = 0\n",
        "  table.iloc[row, 2] = ratio"
      ],
      "metadata": {
        "id": "SnWNFB90rGso"
      },
      "execution_count": null,
      "outputs": []
    },
    {
      "cell_type": "code",
      "source": [
        "for row in range(len(freq)):\n",
        "  d = data.iloc[row, 3]\n",
        "  if d in fraud.iloc[:, 3].values:\n",
        "    d_count_fraud = (fraud.iloc[:, 3] == d).sum()\n",
        "    d_count_total = (data.iloc[:, 3] == d).sum()\n",
        "    ratio = (d_count_fraud/d_count_total)\n",
        "  else:\n",
        "    ratio = 0\n",
        "  table.iloc[row, 3] = ratio"
      ],
      "metadata": {
        "id": "tYs9bYZxrG6z"
      },
      "execution_count": null,
      "outputs": []
    },
    {
      "cell_type": "code",
      "source": [
        "for row in range(len(freq)):\n",
        "  e = data.iloc[row, 4]\n",
        "  if e in fraud.iloc[:, 4].values:\n",
        "    e_count_fraud = (fraud.iloc[:, 4] == e).sum()\n",
        "    e_count_total = (data.iloc[:, 4] == e).sum()\n",
        "    ratio = (e_count_fraud/e_count_total)\n",
        "  else:\n",
        "    ratio = 0\n",
        "  table.iloc[row, 4] = ratio"
      ],
      "metadata": {
        "id": "4zWxc6EPrHF4"
      },
      "execution_count": null,
      "outputs": []
    },
    {
      "cell_type": "code",
      "source": [
        "table"
      ],
      "metadata": {
        "colab": {
          "base_uri": "https://localhost:8080/",
          "height": 424
        },
        "id": "PqGwHiVKwJfX",
        "outputId": "98fc334b-7a53-4fca-e260-cb9fa2b6f298"
      },
      "execution_count": null,
      "outputs": [
        {
          "output_type": "execute_result",
          "data": {
            "text/plain": [
              "      CARD_HOLDER MERCHANT_ID TERMINAL_ID CARD_NUMBER CUST_IP\n",
              "0               0           0           0           0       0\n",
              "1               0           0           0           0       0\n",
              "2               0           0           0           0       0\n",
              "3               0           0           0           0       0\n",
              "4               0           0           0           0       0\n",
              "...           ...         ...         ...         ...     ...\n",
              "45070           0    0.000923    0.000923    0.002252       0\n",
              "45071           0           0           0    0.002252       0\n",
              "45072           0           0           0    0.002252       0\n",
              "45073           0           0           0    0.002252       0\n",
              "45074           0           0           0    0.002252       0\n",
              "\n",
              "[45075 rows x 5 columns]"
            ],
            "text/html": [
              "\n",
              "  <div id=\"df-228fc0b6-f0ce-4984-83bb-2ae04ca0f3c0\">\n",
              "    <div class=\"colab-df-container\">\n",
              "      <div>\n",
              "<style scoped>\n",
              "    .dataframe tbody tr th:only-of-type {\n",
              "        vertical-align: middle;\n",
              "    }\n",
              "\n",
              "    .dataframe tbody tr th {\n",
              "        vertical-align: top;\n",
              "    }\n",
              "\n",
              "    .dataframe thead th {\n",
              "        text-align: right;\n",
              "    }\n",
              "</style>\n",
              "<table border=\"1\" class=\"dataframe\">\n",
              "  <thead>\n",
              "    <tr style=\"text-align: right;\">\n",
              "      <th></th>\n",
              "      <th>CARD_HOLDER</th>\n",
              "      <th>MERCHANT_ID</th>\n",
              "      <th>TERMINAL_ID</th>\n",
              "      <th>CARD_NUMBER</th>\n",
              "      <th>CUST_IP</th>\n",
              "    </tr>\n",
              "  </thead>\n",
              "  <tbody>\n",
              "    <tr>\n",
              "      <th>0</th>\n",
              "      <td>0</td>\n",
              "      <td>0</td>\n",
              "      <td>0</td>\n",
              "      <td>0</td>\n",
              "      <td>0</td>\n",
              "    </tr>\n",
              "    <tr>\n",
              "      <th>1</th>\n",
              "      <td>0</td>\n",
              "      <td>0</td>\n",
              "      <td>0</td>\n",
              "      <td>0</td>\n",
              "      <td>0</td>\n",
              "    </tr>\n",
              "    <tr>\n",
              "      <th>2</th>\n",
              "      <td>0</td>\n",
              "      <td>0</td>\n",
              "      <td>0</td>\n",
              "      <td>0</td>\n",
              "      <td>0</td>\n",
              "    </tr>\n",
              "    <tr>\n",
              "      <th>3</th>\n",
              "      <td>0</td>\n",
              "      <td>0</td>\n",
              "      <td>0</td>\n",
              "      <td>0</td>\n",
              "      <td>0</td>\n",
              "    </tr>\n",
              "    <tr>\n",
              "      <th>4</th>\n",
              "      <td>0</td>\n",
              "      <td>0</td>\n",
              "      <td>0</td>\n",
              "      <td>0</td>\n",
              "      <td>0</td>\n",
              "    </tr>\n",
              "    <tr>\n",
              "      <th>...</th>\n",
              "      <td>...</td>\n",
              "      <td>...</td>\n",
              "      <td>...</td>\n",
              "      <td>...</td>\n",
              "      <td>...</td>\n",
              "    </tr>\n",
              "    <tr>\n",
              "      <th>45070</th>\n",
              "      <td>0</td>\n",
              "      <td>0.000923</td>\n",
              "      <td>0.000923</td>\n",
              "      <td>0.002252</td>\n",
              "      <td>0</td>\n",
              "    </tr>\n",
              "    <tr>\n",
              "      <th>45071</th>\n",
              "      <td>0</td>\n",
              "      <td>0</td>\n",
              "      <td>0</td>\n",
              "      <td>0.002252</td>\n",
              "      <td>0</td>\n",
              "    </tr>\n",
              "    <tr>\n",
              "      <th>45072</th>\n",
              "      <td>0</td>\n",
              "      <td>0</td>\n",
              "      <td>0</td>\n",
              "      <td>0.002252</td>\n",
              "      <td>0</td>\n",
              "    </tr>\n",
              "    <tr>\n",
              "      <th>45073</th>\n",
              "      <td>0</td>\n",
              "      <td>0</td>\n",
              "      <td>0</td>\n",
              "      <td>0.002252</td>\n",
              "      <td>0</td>\n",
              "    </tr>\n",
              "    <tr>\n",
              "      <th>45074</th>\n",
              "      <td>0</td>\n",
              "      <td>0</td>\n",
              "      <td>0</td>\n",
              "      <td>0.002252</td>\n",
              "      <td>0</td>\n",
              "    </tr>\n",
              "  </tbody>\n",
              "</table>\n",
              "<p>45075 rows × 5 columns</p>\n",
              "</div>\n",
              "      <button class=\"colab-df-convert\" onclick=\"convertToInteractive('df-228fc0b6-f0ce-4984-83bb-2ae04ca0f3c0')\"\n",
              "              title=\"Convert this dataframe to an interactive table.\"\n",
              "              style=\"display:none;\">\n",
              "        \n",
              "  <svg xmlns=\"http://www.w3.org/2000/svg\" height=\"24px\"viewBox=\"0 0 24 24\"\n",
              "       width=\"24px\">\n",
              "    <path d=\"M0 0h24v24H0V0z\" fill=\"none\"/>\n",
              "    <path d=\"M18.56 5.44l.94 2.06.94-2.06 2.06-.94-2.06-.94-.94-2.06-.94 2.06-2.06.94zm-11 1L8.5 8.5l.94-2.06 2.06-.94-2.06-.94L8.5 2.5l-.94 2.06-2.06.94zm10 10l.94 2.06.94-2.06 2.06-.94-2.06-.94-.94-2.06-.94 2.06-2.06.94z\"/><path d=\"M17.41 7.96l-1.37-1.37c-.4-.4-.92-.59-1.43-.59-.52 0-1.04.2-1.43.59L10.3 9.45l-7.72 7.72c-.78.78-.78 2.05 0 2.83L4 21.41c.39.39.9.59 1.41.59.51 0 1.02-.2 1.41-.59l7.78-7.78 2.81-2.81c.8-.78.8-2.07 0-2.86zM5.41 20L4 18.59l7.72-7.72 1.47 1.35L5.41 20z\"/>\n",
              "  </svg>\n",
              "      </button>\n",
              "      \n",
              "  <style>\n",
              "    .colab-df-container {\n",
              "      display:flex;\n",
              "      flex-wrap:wrap;\n",
              "      gap: 12px;\n",
              "    }\n",
              "\n",
              "    .colab-df-convert {\n",
              "      background-color: #E8F0FE;\n",
              "      border: none;\n",
              "      border-radius: 50%;\n",
              "      cursor: pointer;\n",
              "      display: none;\n",
              "      fill: #1967D2;\n",
              "      height: 32px;\n",
              "      padding: 0 0 0 0;\n",
              "      width: 32px;\n",
              "    }\n",
              "\n",
              "    .colab-df-convert:hover {\n",
              "      background-color: #E2EBFA;\n",
              "      box-shadow: 0px 1px 2px rgba(60, 64, 67, 0.3), 0px 1px 3px 1px rgba(60, 64, 67, 0.15);\n",
              "      fill: #174EA6;\n",
              "    }\n",
              "\n",
              "    [theme=dark] .colab-df-convert {\n",
              "      background-color: #3B4455;\n",
              "      fill: #D2E3FC;\n",
              "    }\n",
              "\n",
              "    [theme=dark] .colab-df-convert:hover {\n",
              "      background-color: #434B5C;\n",
              "      box-shadow: 0px 1px 3px 1px rgba(0, 0, 0, 0.15);\n",
              "      filter: drop-shadow(0px 1px 2px rgba(0, 0, 0, 0.3));\n",
              "      fill: #FFFFFF;\n",
              "    }\n",
              "  </style>\n",
              "\n",
              "      <script>\n",
              "        const buttonEl =\n",
              "          document.querySelector('#df-228fc0b6-f0ce-4984-83bb-2ae04ca0f3c0 button.colab-df-convert');\n",
              "        buttonEl.style.display =\n",
              "          google.colab.kernel.accessAllowed ? 'block' : 'none';\n",
              "\n",
              "        async function convertToInteractive(key) {\n",
              "          const element = document.querySelector('#df-228fc0b6-f0ce-4984-83bb-2ae04ca0f3c0');\n",
              "          const dataTable =\n",
              "            await google.colab.kernel.invokeFunction('convertToInteractive',\n",
              "                                                     [key], {});\n",
              "          if (!dataTable) return;\n",
              "\n",
              "          const docLinkHtml = 'Like what you see? Visit the ' +\n",
              "            '<a target=\"_blank\" href=https://colab.research.google.com/notebooks/data_table.ipynb>data table notebook</a>'\n",
              "            + ' to learn more about interactive tables.';\n",
              "          element.innerHTML = '';\n",
              "          dataTable['output_type'] = 'display_data';\n",
              "          await google.colab.output.renderOutput(dataTable, element);\n",
              "          const docLink = document.createElement('div');\n",
              "          docLink.innerHTML = docLinkHtml;\n",
              "          element.appendChild(docLink);\n",
              "        }\n",
              "      </script>\n",
              "    </div>\n",
              "  </div>\n",
              "  "
            ]
          },
          "metadata": {},
          "execution_count": 15
        }
      ]
    },
    {
      "cell_type": "markdown",
      "source": [
        "Making DataFrame for dummies"
      ],
      "metadata": {
        "id": "eo6iwwV8u8OL"
      }
    },
    {
      "cell_type": "code",
      "source": [
        "dummy = pd.DataFrame()\n",
        "\n",
        "dummy['INSTITUTION_ID'] = data['TD_SINSTITUTION_ID']\n",
        "dummy['CURRENCY'] = data['TD_STRAN_CURRENCY']"
      ],
      "metadata": {
        "id": "acZohxeMvIVI"
      },
      "execution_count": null,
      "outputs": []
    },
    {
      "cell_type": "markdown",
      "source": [
        "Coverting datetime to month"
      ],
      "metadata": {
        "id": "5vA-tXVqt5lE"
      }
    },
    {
      "cell_type": "code",
      "source": [
        "data['TD_DTRAN_DATE_TIME'] = pd.to_datetime(data['TD_DTRAN_DATE_TIME'])\n",
        "dummy['MONTH'] = data['TD_DTRAN_DATE_TIME'].dt.month"
      ],
      "metadata": {
        "id": "d1WpA5PNuGeb"
      },
      "execution_count": null,
      "outputs": []
    },
    {
      "cell_type": "markdown",
      "source": [
        "label encoding"
      ],
      "metadata": {
        "id": "ZzqwDoYvLyPY"
      }
    },
    {
      "cell_type": "code",
      "source": [
        "from sklearn.preprocessing import LabelEncoder\n",
        "cat_vars=['INSTITUTION_ID', 'CURRENCY', 'MONTH']\n",
        "\n",
        "label_encoder = LabelEncoder()\n",
        "\n",
        "for var in cat_vars:\n",
        "  dummy[var] = label_encoder.fit_transform(dummy[var])\n",
        "\n",
        "data_vars = dummy.columns.values.tolist()\n",
        "to_keep = [i for i in data_vars if i in cat_vars]"
      ],
      "metadata": {
        "id": "c0pTUC_ULxKo"
      },
      "execution_count": null,
      "outputs": []
    },
    {
      "cell_type": "code",
      "source": [
        "cat_vars=['INSTITUTION_ID', 'CURRENCY', 'MONTH']\n",
        "for var in cat_vars:\n",
        " cat_list='var'+'_'+var\n",
        " cat_list = pd.get_dummies(dummy[var], prefix=var)\n",
        " dummy1 = dummy.join(cat_list)\n",
        " dummy = dummy1\n",
        "\n",
        "data_vars = dummy.columns.values.tolist()\n",
        "to_keep = [i for i in data_vars if i not in cat_vars]"
      ],
      "metadata": {
        "id": "TbPukeQsxZU0"
      },
      "execution_count": null,
      "outputs": []
    },
    {
      "cell_type": "code",
      "source": [
        "final = pd.concat([table['CARD_HOLDER'], table['MERCHANT_ID'], table['TERMINAL_ID'],\n",
        "                   table['CARD_NUMBER'], table['CUST_IP'], dummy[to_keep],\n",
        "                   data['TD_DTRAN_AMOUNT'], data['TD_SFRAUD_CB_STATUS']], axis=1)\n",
        "\n",
        "final.columns.values"
      ],
      "metadata": {
        "id": "w-ziqyPexZYF",
        "colab": {
          "base_uri": "https://localhost:8080/"
        },
        "outputId": "65efe960-ef86-4b9e-b305-ef10e7ea68ef"
      },
      "execution_count": null,
      "outputs": [
        {
          "output_type": "execute_result",
          "data": {
            "text/plain": [
              "array(['CARD_HOLDER', 'MERCHANT_ID', 'TERMINAL_ID', 'CARD_NUMBER',\n",
              "       'CUST_IP', 'INSTITUTION_ID', 'CURRENCY', 'MONTH',\n",
              "       'TD_DTRAN_AMOUNT', 'TD_SFRAUD_CB_STATUS'], dtype=object)"
            ]
          },
          "metadata": {},
          "execution_count": 19
        }
      ]
    },
    {
      "cell_type": "code",
      "source": [
        "final"
      ],
      "metadata": {
        "colab": {
          "base_uri": "https://localhost:8080/",
          "height": 424
        },
        "id": "WQSwdVPkLeG8",
        "outputId": "fb99049a-6269-4153-dac3-abd7cdbeda7e"
      },
      "execution_count": null,
      "outputs": [
        {
          "output_type": "execute_result",
          "data": {
            "text/plain": [
              "      CARD_HOLDER MERCHANT_ID TERMINAL_ID CARD_NUMBER CUST_IP  INSTITUTION_ID  \\\n",
              "0               0           0           0           0       0               0   \n",
              "1               0           0           0           0       0               0   \n",
              "2               0           0           0           0       0               0   \n",
              "3               0           0           0           0       0               0   \n",
              "4               0           0           0           0       0               0   \n",
              "...           ...         ...         ...         ...     ...             ...   \n",
              "45070           0    0.000923    0.000923    0.002252       0               3   \n",
              "45071           0           0           0    0.002252       0               3   \n",
              "45072           0           0           0    0.002252       0               3   \n",
              "45073           0           0           0    0.002252       0               3   \n",
              "45074           0           0           0    0.002252       0               3   \n",
              "\n",
              "       CURRENCY  MONTH  TD_DTRAN_AMOUNT  TD_SFRAUD_CB_STATUS  \n",
              "0             5     10             1.00                    0  \n",
              "1             5     10             1.00                    0  \n",
              "2             5     10             1.00                    0  \n",
              "3             5     10             1.00                    0  \n",
              "4             5     10             1.00                    0  \n",
              "...         ...    ...              ...                  ...  \n",
              "45070         1      8            10.00                    0  \n",
              "45071         1      8            10.00                    0  \n",
              "45072         8      4            33.06                    0  \n",
              "45073         8      4            33.06                    0  \n",
              "45074         8      4            11.02                    0  \n",
              "\n",
              "[45075 rows x 10 columns]"
            ],
            "text/html": [
              "\n",
              "  <div id=\"df-12355e4b-c273-4415-8086-b723c7459c04\">\n",
              "    <div class=\"colab-df-container\">\n",
              "      <div>\n",
              "<style scoped>\n",
              "    .dataframe tbody tr th:only-of-type {\n",
              "        vertical-align: middle;\n",
              "    }\n",
              "\n",
              "    .dataframe tbody tr th {\n",
              "        vertical-align: top;\n",
              "    }\n",
              "\n",
              "    .dataframe thead th {\n",
              "        text-align: right;\n",
              "    }\n",
              "</style>\n",
              "<table border=\"1\" class=\"dataframe\">\n",
              "  <thead>\n",
              "    <tr style=\"text-align: right;\">\n",
              "      <th></th>\n",
              "      <th>CARD_HOLDER</th>\n",
              "      <th>MERCHANT_ID</th>\n",
              "      <th>TERMINAL_ID</th>\n",
              "      <th>CARD_NUMBER</th>\n",
              "      <th>CUST_IP</th>\n",
              "      <th>INSTITUTION_ID</th>\n",
              "      <th>CURRENCY</th>\n",
              "      <th>MONTH</th>\n",
              "      <th>TD_DTRAN_AMOUNT</th>\n",
              "      <th>TD_SFRAUD_CB_STATUS</th>\n",
              "    </tr>\n",
              "  </thead>\n",
              "  <tbody>\n",
              "    <tr>\n",
              "      <th>0</th>\n",
              "      <td>0</td>\n",
              "      <td>0</td>\n",
              "      <td>0</td>\n",
              "      <td>0</td>\n",
              "      <td>0</td>\n",
              "      <td>0</td>\n",
              "      <td>5</td>\n",
              "      <td>10</td>\n",
              "      <td>1.00</td>\n",
              "      <td>0</td>\n",
              "    </tr>\n",
              "    <tr>\n",
              "      <th>1</th>\n",
              "      <td>0</td>\n",
              "      <td>0</td>\n",
              "      <td>0</td>\n",
              "      <td>0</td>\n",
              "      <td>0</td>\n",
              "      <td>0</td>\n",
              "      <td>5</td>\n",
              "      <td>10</td>\n",
              "      <td>1.00</td>\n",
              "      <td>0</td>\n",
              "    </tr>\n",
              "    <tr>\n",
              "      <th>2</th>\n",
              "      <td>0</td>\n",
              "      <td>0</td>\n",
              "      <td>0</td>\n",
              "      <td>0</td>\n",
              "      <td>0</td>\n",
              "      <td>0</td>\n",
              "      <td>5</td>\n",
              "      <td>10</td>\n",
              "      <td>1.00</td>\n",
              "      <td>0</td>\n",
              "    </tr>\n",
              "    <tr>\n",
              "      <th>3</th>\n",
              "      <td>0</td>\n",
              "      <td>0</td>\n",
              "      <td>0</td>\n",
              "      <td>0</td>\n",
              "      <td>0</td>\n",
              "      <td>0</td>\n",
              "      <td>5</td>\n",
              "      <td>10</td>\n",
              "      <td>1.00</td>\n",
              "      <td>0</td>\n",
              "    </tr>\n",
              "    <tr>\n",
              "      <th>4</th>\n",
              "      <td>0</td>\n",
              "      <td>0</td>\n",
              "      <td>0</td>\n",
              "      <td>0</td>\n",
              "      <td>0</td>\n",
              "      <td>0</td>\n",
              "      <td>5</td>\n",
              "      <td>10</td>\n",
              "      <td>1.00</td>\n",
              "      <td>0</td>\n",
              "    </tr>\n",
              "    <tr>\n",
              "      <th>...</th>\n",
              "      <td>...</td>\n",
              "      <td>...</td>\n",
              "      <td>...</td>\n",
              "      <td>...</td>\n",
              "      <td>...</td>\n",
              "      <td>...</td>\n",
              "      <td>...</td>\n",
              "      <td>...</td>\n",
              "      <td>...</td>\n",
              "      <td>...</td>\n",
              "    </tr>\n",
              "    <tr>\n",
              "      <th>45070</th>\n",
              "      <td>0</td>\n",
              "      <td>0.000923</td>\n",
              "      <td>0.000923</td>\n",
              "      <td>0.002252</td>\n",
              "      <td>0</td>\n",
              "      <td>3</td>\n",
              "      <td>1</td>\n",
              "      <td>8</td>\n",
              "      <td>10.00</td>\n",
              "      <td>0</td>\n",
              "    </tr>\n",
              "    <tr>\n",
              "      <th>45071</th>\n",
              "      <td>0</td>\n",
              "      <td>0</td>\n",
              "      <td>0</td>\n",
              "      <td>0.002252</td>\n",
              "      <td>0</td>\n",
              "      <td>3</td>\n",
              "      <td>1</td>\n",
              "      <td>8</td>\n",
              "      <td>10.00</td>\n",
              "      <td>0</td>\n",
              "    </tr>\n",
              "    <tr>\n",
              "      <th>45072</th>\n",
              "      <td>0</td>\n",
              "      <td>0</td>\n",
              "      <td>0</td>\n",
              "      <td>0.002252</td>\n",
              "      <td>0</td>\n",
              "      <td>3</td>\n",
              "      <td>8</td>\n",
              "      <td>4</td>\n",
              "      <td>33.06</td>\n",
              "      <td>0</td>\n",
              "    </tr>\n",
              "    <tr>\n",
              "      <th>45073</th>\n",
              "      <td>0</td>\n",
              "      <td>0</td>\n",
              "      <td>0</td>\n",
              "      <td>0.002252</td>\n",
              "      <td>0</td>\n",
              "      <td>3</td>\n",
              "      <td>8</td>\n",
              "      <td>4</td>\n",
              "      <td>33.06</td>\n",
              "      <td>0</td>\n",
              "    </tr>\n",
              "    <tr>\n",
              "      <th>45074</th>\n",
              "      <td>0</td>\n",
              "      <td>0</td>\n",
              "      <td>0</td>\n",
              "      <td>0.002252</td>\n",
              "      <td>0</td>\n",
              "      <td>3</td>\n",
              "      <td>8</td>\n",
              "      <td>4</td>\n",
              "      <td>11.02</td>\n",
              "      <td>0</td>\n",
              "    </tr>\n",
              "  </tbody>\n",
              "</table>\n",
              "<p>45075 rows × 10 columns</p>\n",
              "</div>\n",
              "      <button class=\"colab-df-convert\" onclick=\"convertToInteractive('df-12355e4b-c273-4415-8086-b723c7459c04')\"\n",
              "              title=\"Convert this dataframe to an interactive table.\"\n",
              "              style=\"display:none;\">\n",
              "        \n",
              "  <svg xmlns=\"http://www.w3.org/2000/svg\" height=\"24px\"viewBox=\"0 0 24 24\"\n",
              "       width=\"24px\">\n",
              "    <path d=\"M0 0h24v24H0V0z\" fill=\"none\"/>\n",
              "    <path d=\"M18.56 5.44l.94 2.06.94-2.06 2.06-.94-2.06-.94-.94-2.06-.94 2.06-2.06.94zm-11 1L8.5 8.5l.94-2.06 2.06-.94-2.06-.94L8.5 2.5l-.94 2.06-2.06.94zm10 10l.94 2.06.94-2.06 2.06-.94-2.06-.94-.94-2.06-.94 2.06-2.06.94z\"/><path d=\"M17.41 7.96l-1.37-1.37c-.4-.4-.92-.59-1.43-.59-.52 0-1.04.2-1.43.59L10.3 9.45l-7.72 7.72c-.78.78-.78 2.05 0 2.83L4 21.41c.39.39.9.59 1.41.59.51 0 1.02-.2 1.41-.59l7.78-7.78 2.81-2.81c.8-.78.8-2.07 0-2.86zM5.41 20L4 18.59l7.72-7.72 1.47 1.35L5.41 20z\"/>\n",
              "  </svg>\n",
              "      </button>\n",
              "      \n",
              "  <style>\n",
              "    .colab-df-container {\n",
              "      display:flex;\n",
              "      flex-wrap:wrap;\n",
              "      gap: 12px;\n",
              "    }\n",
              "\n",
              "    .colab-df-convert {\n",
              "      background-color: #E8F0FE;\n",
              "      border: none;\n",
              "      border-radius: 50%;\n",
              "      cursor: pointer;\n",
              "      display: none;\n",
              "      fill: #1967D2;\n",
              "      height: 32px;\n",
              "      padding: 0 0 0 0;\n",
              "      width: 32px;\n",
              "    }\n",
              "\n",
              "    .colab-df-convert:hover {\n",
              "      background-color: #E2EBFA;\n",
              "      box-shadow: 0px 1px 2px rgba(60, 64, 67, 0.3), 0px 1px 3px 1px rgba(60, 64, 67, 0.15);\n",
              "      fill: #174EA6;\n",
              "    }\n",
              "\n",
              "    [theme=dark] .colab-df-convert {\n",
              "      background-color: #3B4455;\n",
              "      fill: #D2E3FC;\n",
              "    }\n",
              "\n",
              "    [theme=dark] .colab-df-convert:hover {\n",
              "      background-color: #434B5C;\n",
              "      box-shadow: 0px 1px 3px 1px rgba(0, 0, 0, 0.15);\n",
              "      filter: drop-shadow(0px 1px 2px rgba(0, 0, 0, 0.3));\n",
              "      fill: #FFFFFF;\n",
              "    }\n",
              "  </style>\n",
              "\n",
              "      <script>\n",
              "        const buttonEl =\n",
              "          document.querySelector('#df-12355e4b-c273-4415-8086-b723c7459c04 button.colab-df-convert');\n",
              "        buttonEl.style.display =\n",
              "          google.colab.kernel.accessAllowed ? 'block' : 'none';\n",
              "\n",
              "        async function convertToInteractive(key) {\n",
              "          const element = document.querySelector('#df-12355e4b-c273-4415-8086-b723c7459c04');\n",
              "          const dataTable =\n",
              "            await google.colab.kernel.invokeFunction('convertToInteractive',\n",
              "                                                     [key], {});\n",
              "          if (!dataTable) return;\n",
              "\n",
              "          const docLinkHtml = 'Like what you see? Visit the ' +\n",
              "            '<a target=\"_blank\" href=https://colab.research.google.com/notebooks/data_table.ipynb>data table notebook</a>'\n",
              "            + ' to learn more about interactive tables.';\n",
              "          element.innerHTML = '';\n",
              "          dataTable['output_type'] = 'display_data';\n",
              "          await google.colab.output.renderOutput(dataTable, element);\n",
              "          const docLink = document.createElement('div');\n",
              "          docLink.innerHTML = docLinkHtml;\n",
              "          element.appendChild(docLink);\n",
              "        }\n",
              "      </script>\n",
              "    </div>\n",
              "  </div>\n",
              "  "
            ]
          },
          "metadata": {},
          "execution_count": 20
        }
      ]
    },
    {
      "cell_type": "code",
      "source": [
        "print(\"1\\n\", final['CARD_HOLDER'].value_counts())\n",
        "print(\"2\\n\", final['MERCHANT_ID'].value_counts())\n",
        "print(\"3\\n\", final['TERMINAL_ID'].value_counts())\n",
        "print(\"4\\n\", final['CARD_NUMBER'].value_counts())\n",
        "print(\"5\\n\", final['CUST_IP'].value_counts())"
      ],
      "metadata": {
        "id": "s87TpBjobf0S"
      },
      "execution_count": null,
      "outputs": []
    },
    {
      "cell_type": "markdown",
      "source": [
        "Deleting values having first five column's value as 0"
      ],
      "metadata": {
        "id": "0pZEafgbdH9I"
      }
    },
    {
      "cell_type": "code",
      "source": [
        "final = final[(final['CARD_HOLDER'] != 0) | (final['MERCHANT_ID'] != 0) | (final['TERMINAL_ID'] != 0) | (final['CARD_NUMBER'] != 0) | (final['CUST_IP'] != 0)]\n",
        "final.shape"
      ],
      "metadata": {
        "colab": {
          "base_uri": "https://localhost:8080/"
        },
        "id": "mzAptxq3dP8W",
        "outputId": "28bdb585-18a4-40f3-dadd-f7fcf9502567"
      },
      "execution_count": null,
      "outputs": [
        {
          "output_type": "execute_result",
          "data": {
            "text/plain": [
              "(44842, 10)"
            ]
          },
          "metadata": {},
          "execution_count": 21
        }
      ]
    },
    {
      "cell_type": "markdown",
      "source": [
        "# ***Eplorative Data Analysis***"
      ],
      "metadata": {
        "id": "zZ7qiCg_69cB"
      }
    },
    {
      "cell_type": "code",
      "source": [
        "!pip install -U imbalanced-learn"
      ],
      "metadata": {
        "id": "q1bIW4iI7bhS"
      },
      "execution_count": null,
      "outputs": []
    },
    {
      "cell_type": "code",
      "source": [
        "import matplotlib.pyplot as plt\n",
        "plt.rc('font', size=16)\n",
        "import seaborn as sns\n",
        "sns.set(style='white')\n",
        "sns.set(style='whitegrid', color_codes=True)\n",
        "\n",
        "from sklearn.model_selection import train_test_split"
      ],
      "metadata": {
        "id": "hUQRGjMM7PMn"
      },
      "execution_count": null,
      "outputs": []
    },
    {
      "cell_type": "code",
      "source": [
        "data['TD_SFRAUD_CB_STATUS'].value_counts()"
      ],
      "metadata": {
        "id": "gxLvlj0n76PC"
      },
      "execution_count": null,
      "outputs": []
    },
    {
      "cell_type": "code",
      "source": [
        "sns.countplot(x='TD_SFRAUD_CB_STATUS', data = data, palette='hls')\n",
        "plt.show()"
      ],
      "metadata": {
        "id": "y_BB-6ARxZ4U"
      },
      "execution_count": null,
      "outputs": []
    },
    {
      "cell_type": "code",
      "source": [
        "count_valid = len(data[data['TD_SFRAUD_CB_STATUS']==0])\n",
        "count_fraud = len(data[data['TD_SFRAUD_CB_STATUS']==1])\n",
        "pct_valid = count_valid/(count_valid + count_fraud)\n",
        "print('\\033[1m percentage of no default is', pct_valid*100)\n",
        "pct_fraud = count_fraud/(count_valid + count_fraud)\n",
        "print('\\033[1m percentage of default', pct_fraud*100)"
      ],
      "metadata": {
        "id": "9jfXEOnT7xvR"
      },
      "execution_count": null,
      "outputs": []
    },
    {
      "cell_type": "code",
      "source": [
        "final.groupby('TD_SFRAUD_CB_STATUS').mean()"
      ],
      "metadata": {
        "id": "tWxhk3Ka7xyv"
      },
      "execution_count": null,
      "outputs": []
    },
    {
      "cell_type": "code",
      "source": [
        "graph = pd.crosstab(data.TD_SINSTITUTION_ID, data.TD_SFRAUD_CB_STATUS)\n",
        "graph.div(graph.sum(1).astype(float), axis=0).loc[graph[1] > 0].plot(kind='bar', stacked=True, figsize=(5, 3))\n",
        "plt.title('Stacked Bar Chart of Institution_id vs Fraud')\n",
        "plt.xlabel('Institution_id')\n",
        "plt.ylabel('Proportion of Transactions')\n",
        "plt.savefig('Institution_id_vs_def_stack')"
      ],
      "metadata": {
        "id": "GUFAkgWX-jkM"
      },
      "execution_count": null,
      "outputs": []
    },
    {
      "cell_type": "code",
      "source": [
        "graph = pd.crosstab(data.TD_STRAN_CURRENCY, data.TD_SFRAUD_CB_STATUS)\n",
        "graph.div(graph.sum(1).astype(float), axis=0).loc[graph[1] > 0].plot(kind='bar', stacked=True, figsize=(10, 5))\n",
        "plt.title('Stacked Bar Chart of Currency vs Fraud')\n",
        "plt.xlabel('Currency')\n",
        "plt.ylabel('Proportion of Transactions')\n",
        "plt.savefig('Currency_vs_def_stack')"
      ],
      "metadata": {
        "id": "UzJdxpGq-jmp"
      },
      "execution_count": null,
      "outputs": []
    },
    {
      "cell_type": "code",
      "source": [
        "graph = pd.crosstab(dummy.MONTH, data.TD_SFRAUD_CB_STATUS)\n",
        "graph.div(graph.sum(1).astype(float), axis=0).loc[graph[1] > 0].plot(kind='bar', stacked=True, figsize=(10, 5))\n",
        "plt.title('Stacked Bar Chart of Month vs Fraud')\n",
        "plt.xlabel('Month')\n",
        "plt.ylabel('Proportion of Transactions')\n",
        "plt.savefig('Month_vs_def_stack')"
      ],
      "metadata": {
        "id": "qESdL4OX-jpy"
      },
      "execution_count": null,
      "outputs": []
    },
    {
      "cell_type": "code",
      "source": [
        "graph = pd.crosstab(data.TD_STERMINAL_ID, data.TD_SFRAUD_CB_STATUS)\n",
        "graph.div(graph.sum(1).astype(float), axis=0).loc[graph[1] > 0].plot(kind='bar', stacked=True, figsize=(10, 5))\n",
        "plt.title('Stacked Bar Chart of Terminal_ID vs Fraud')\n",
        "plt.xlabel('Terminal_ID')\n",
        "plt.ylabel('Proportion of Transactions')\n",
        "plt.savefig('Terminal_ID_vs_def_stack')"
      ],
      "metadata": {
        "id": "m-5MniZY-jtN"
      },
      "execution_count": null,
      "outputs": []
    },
    {
      "cell_type": "code",
      "source": [
        "graph = pd.crosstab(data.TD_SMERCHANT_ID, data.TD_SFRAUD_CB_STATUS)\n",
        "graph.div(graph.sum(1).astype(float), axis=0).loc[graph[1] > 0].plot(kind='bar', stacked=True, figsize=(10, 5))\n",
        "plt.title('Stacked Bar Chart of Merchant_ID vs Fraud')\n",
        "plt.xlabel('Merchant_ID')\n",
        "plt.ylabel('Proportion of Transactions')\n",
        "plt.savefig('Merchant_ID_vs_def_stack')"
      ],
      "metadata": {
        "id": "6d55Q98lCrxm"
      },
      "execution_count": null,
      "outputs": []
    },
    {
      "cell_type": "markdown",
      "source": [
        "# ***Model for calculating probability***"
      ],
      "metadata": {
        "id": "23PwXKpXuSdC"
      }
    },
    {
      "cell_type": "markdown",
      "source": [
        "Oversampling the data as it is unbalanced"
      ],
      "metadata": {
        "id": "kiuJJzApJGft"
      }
    },
    {
      "cell_type": "code",
      "source": [
        "X = final.drop(['TD_SFRAUD_CB_STATUS'], axis=1)\n",
        "y = final['TD_SFRAUD_CB_STATUS']\n",
        "\n",
        "from imblearn.over_sampling import SMOTE\n",
        "os = SMOTE(random_state=42)\n",
        "\n",
        "X_train, X_test, y_train, y_test = train_test_split(X, y, test_size=0.3, random_state=42)\n",
        "\n",
        "columns = X_train.columns\n",
        "os_data_X,os_data_y = os.fit_resample(X_train, y_train)\n",
        "os_data_X = pd.DataFrame(data=os_data_X,columns=columns )\n",
        "os_data_y = pd.DataFrame(data=os_data_y,columns=['TD_SFRAUD_CB_STATUS'])\n",
        "\n",
        "#Checking the numbers of our data\n",
        "print('\\033[1m length of oversampled data is ',len(os_data_X))\n",
        "print('\\033[1m Number of valid transaction in oversampled data ',len(os_data_y[os_data_y['TD_SFRAUD_CB_STATUS'] == 0]))\n",
        "print('\\033[1m Number of fraud ',len(os_data_y[os_data_y['TD_SFRAUD_CB_STATUS'] == 1]))\n",
        "print('\\033[1m Proportion of valid data in oversampled data is ',len(os_data_y[os_data_y['TD_SFRAUD_CB_STATUS'] == 0])/len(os_data_X))\n",
        "print('\\033[1m Proportion of default data in oversampled data is ',len(os_data_y[os_data_y['TD_SFRAUD_CB_STATUS'] == 1])/len(os_data_X))"
      ],
      "metadata": {
        "id": "2fP0dAjbCr0x"
      },
      "execution_count": null,
      "outputs": []
    },
    {
      "cell_type": "code",
      "source": [
        "final_vars = final.columns.values.tolist()\n",
        "y = ['TD_SFRAUD_CB_STATUS']\n",
        "X = [i for i in final_vars if i not in y]\n",
        "from sklearn.feature_selection import RFE\n",
        "from sklearn.linear_model import LogisticRegression\n",
        "logreg = LogisticRegression()\n",
        "rfe = RFE(logreg, n_features_to_select = 10)\n",
        "rfe = rfe.fit(os_data_X, os_data_y.values.ravel())\n",
        "print(rfe.support_)\n",
        "print(rfe.ranking_)"
      ],
      "metadata": {
        "id": "tJgzpmCnmn5B"
      },
      "execution_count": null,
      "outputs": []
    },
    {
      "cell_type": "code",
      "source": [
        "os_data_X.columns"
      ],
      "metadata": {
        "id": "0ZKXizKGaDnI"
      },
      "execution_count": null,
      "outputs": []
    },
    {
      "cell_type": "code",
      "source": [
        "data_X1 = pd.DataFrame({'Feature': os_data_X.columns, 'Importance': rfe.ranking_},)\n",
        "data_X1.sort_values(by=['Importance'])"
      ],
      "metadata": {
        "id": "8r21xbjdaDuN"
      },
      "execution_count": null,
      "outputs": []
    },
    {
      "cell_type": "code",
      "source": [
        "cols=[]\n",
        "for i in range (0, len(data_X1['Importance'])):\n",
        "  if data_X1['Importance'][i] == 1:\n",
        "    cols.append(data_X1['Feature'][i])\n",
        "print(cols)\n",
        "print(len(cols))"
      ],
      "metadata": {
        "id": "RK_t9XKOaDxt"
      },
      "execution_count": null,
      "outputs": []
    },
    {
      "cell_type": "code",
      "source": [
        "os_data_X['CARD_HOLDER'] = os_data_X['CARD_HOLDER'].astype(float)\n",
        "os_data_X['MERCHANT_ID'] = os_data_X['MERCHANT_ID'].astype(float)\n",
        "os_data_X['TERMINAL_ID'] = os_data_X['TERMINAL_ID'].astype(float)\n",
        "os_data_X['CARD_NUMBER'] = os_data_X['CARD_NUMBER'].astype(float)\n",
        "os_data_X['CUST_IP'] = os_data_X['CUST_IP'].astype(float)"
      ],
      "metadata": {
        "id": "uQIKZFJnIIaf"
      },
      "execution_count": null,
      "outputs": []
    },
    {
      "cell_type": "code",
      "source": [
        "X_final = os_data_X[cols]\n",
        "y_final = os_data_y['TD_SFRAUD_CB_STATUS']"
      ],
      "metadata": {
        "id": "KOATtfSdNr79"
      },
      "execution_count": null,
      "outputs": []
    },
    {
      "cell_type": "code",
      "source": [
        "import statsmodels.api as sm\n",
        "logit_model = sm.Logit(y_final.astype(float), X_final.astype(float))\n",
        "result = logit_model.fit()\n",
        "print(result.summary())"
      ],
      "metadata": {
        "id": "GtKnP86xATeU"
      },
      "execution_count": null,
      "outputs": []
    },
    {
      "cell_type": "code",
      "source": [
        "pvalue = pd.DataFrame(result.pvalues, columns = ['p_value'])\n",
        "pvalue"
      ],
      "metadata": {
        "id": "5E-A8veuATh5"
      },
      "execution_count": null,
      "outputs": []
    },
    {
      "cell_type": "code",
      "source": [
        "pvs = []\n",
        "for i in range (0, len(pvalue['p_value'])):\n",
        "  if pvalue['p_value'][i] < 0.05:\n",
        "    pvs.append(pvalue.index[i])\n",
        "if 'const' in pvs:\n",
        "  pvs.remove('const')\n",
        "else:\n",
        "  pvs\n",
        "print(pvs)\n",
        "print(len(pvs))"
      ],
      "metadata": {
        "id": "VVFx3_3QATlH"
      },
      "execution_count": null,
      "outputs": []
    },
    {
      "cell_type": "code",
      "source": [
        "X = os_data_X[pvs]\n",
        "y = os_data_y['TD_SFRAUD_CB_STATUS']\n",
        "logit_model = sm.Logit(y_final.astype(float), X_final.astype(float))\n",
        "result = logit_model.fit()\n",
        "print(result.summary())"
      ],
      "metadata": {
        "id": "c6LnPvNXAToM"
      },
      "execution_count": null,
      "outputs": []
    },
    {
      "cell_type": "code",
      "source": [
        "from sklearn.linear_model import LogisticRegression\n",
        "from sklearn import metrics\n",
        "X_train, X_test, y_train, y_test = train_test_split(X_final.astype(float), y_final.astype(float), test_size=0.30, random_state=42)\n",
        "logreg = LogisticRegression()\n",
        "logreg.fit(X_train, y_train)"
      ],
      "metadata": {
        "id": "CcUGGKK1ATsN"
      },
      "execution_count": null,
      "outputs": []
    },
    {
      "cell_type": "code",
      "source": [
        "y_pred = logreg.predict(X_test)"
      ],
      "metadata": {
        "id": "dJecZcyyyzw1"
      },
      "execution_count": null,
      "outputs": []
    },
    {
      "cell_type": "code",
      "source": [
        "from sklearn.metrics import accuracy_score\n",
        "from sklearn.metrics import confusion_matrix\n",
        "from sklearn.metrics import classification_report\n",
        "print('Accuracy of logistic regression classifier on test set: {:.2f}'.format(accuracy_score(y_test, y_pred)))\n",
        "confusion_matrix = confusion_matrix(y_test, y_pred)\n",
        "print(confusion_matrix)\n",
        "print(classification_report(y_test, y_pred))"
      ],
      "metadata": {
        "id": "CI3EHpQeyz0O"
      },
      "execution_count": null,
      "outputs": []
    },
    {
      "cell_type": "code",
      "source": [
        "demo = pd.DataFrame()\n",
        "X_final['EST'] = logreg.predict_proba(X_final[X_train.columns])[:,1]\n",
        "X_final[['CARD_HOLDER', 'EST']].head(10)"
      ],
      "metadata": {
        "id": "LjZ31dpxyz3W"
      },
      "execution_count": null,
      "outputs": []
    },
    {
      "cell_type": "code",
      "source": [
        "X_train.columns"
      ],
      "metadata": {
        "id": "z6P40LXNyz6c"
      },
      "execution_count": null,
      "outputs": []
    },
    {
      "cell_type": "code",
      "source": [
        "X_final\n"
      ],
      "metadata": {
        "id": "RS_qjhDOy0Aa"
      },
      "execution_count": null,
      "outputs": []
    },
    {
      "cell_type": "code",
      "source": [
        "new_data = np.array([0.104790, 0.000000, 0.000000, 0.000000, 0.000000, 3, 1, 11, 100.000000]).reshape(1, -1)\n",
        "new_pred=logreg.predict_proba(new_data)[:,1][0]\n",
        "print(\"\\033[1m New transaction has a {:.2%}\".format(new_pred), \"chance of charge back\")"
      ],
      "metadata": {
        "id": "HmdiD2Ls-ge3"
      },
      "execution_count": null,
      "outputs": []
    },
    {
      "cell_type": "markdown",
      "source": [
        "***UPDATED DATAFRAME***"
      ],
      "metadata": {
        "id": "6TuprPX5SUKP"
      }
    },
    {
      "cell_type": "code",
      "source": [
        "from sklearn.model_selection import train_test_split\n",
        "\n",
        "X1 = final.drop(['TD_SFRAUD_CB_STATUS', 'MERCHANT_ID', 'INSTITUTION_ID', 'CURRENCY', 'MONTH', 'TD_DTRAN_AMOUNT'], axis=1)\n",
        "y1 = final['TD_SFRAUD_CB_STATUS']\n",
        "\n",
        "from imblearn.over_sampling import SMOTE\n",
        "os = SMOTE(random_state=42)\n",
        "\n",
        "X1_train, X1_test, y1_train, y1_test = train_test_split(X1, y1, test_size=0.3, random_state=42)\n",
        "\n",
        "columns = X1_train.columns\n",
        "os_data_X1, os_data_y1 = os.fit_resample(X1_train, y1_train)\n",
        "os_data_X1 = pd.DataFrame(data = os_data_X1, columns = columns )\n",
        "os_data_y1 = pd.DataFrame(data = os_data_y1, columns = ['TD_SFRAUD_CB_STATUS'])\n",
        "\n",
        "#Checking the numbers of our data\n",
        "print('\\033[1m length of oversampled data is ',len(os_data_X1))\n",
        "print('\\033[1m Number of valid transaction in oversampled data ',len(os_data_y1[os_data_y1['TD_SFRAUD_CB_STATUS'] == 0]))\n",
        "print('\\033[1m Number of fraud ',len(os_data_y1[os_data_y1['TD_SFRAUD_CB_STATUS'] == 1]))\n",
        "print('\\033[1m Proportion of valid data in oversampled data is ',len(os_data_y1[os_data_y1['TD_SFRAUD_CB_STATUS'] == 0])/len(os_data_X1))\n",
        "print('\\033[1m Proportion of default data in oversampled data is ',len(os_data_y1[os_data_y1['TD_SFRAUD_CB_STATUS'] == 1])/len(os_data_X1))"
      ],
      "metadata": {
        "colab": {
          "base_uri": "https://localhost:8080/"
        },
        "id": "mFUwyssjSS2q",
        "outputId": "df24f7a7-cfde-410c-f355-8a2c10d026c3"
      },
      "execution_count": null,
      "outputs": [
        {
          "output_type": "stream",
          "name": "stdout",
          "text": [
            "\u001b[1m length of oversampled data is  62630\n",
            "\u001b[1m Number of valid transaction in oversampled data  31315\n",
            "\u001b[1m Number of fraud  31315\n",
            "\u001b[1m Proportion of valid data in oversampled data is  0.5\n",
            "\u001b[1m Proportion of default data in oversampled data is  0.5\n"
          ]
        }
      ]
    },
    {
      "cell_type": "code",
      "source": [
        "final_vars1 = final.columns.values.tolist()\n",
        "y1 = ['TD_SFRAUD_CB_STATUS']\n",
        "X1 = [i for i in final_vars1 if i not in y1]\n",
        "from sklearn.feature_selection import RFE\n",
        "from sklearn.linear_model import LogisticRegression\n",
        "logreg = LogisticRegression()\n",
        "rfe1 = RFE(logreg, n_features_to_select = 4)\n",
        "rfe1 = rfe1.fit(os_data_X1, os_data_y1.values.ravel())\n",
        "print(rfe1.support_)\n",
        "print(rfe1.ranking_)"
      ],
      "metadata": {
        "colab": {
          "base_uri": "https://localhost:8080/"
        },
        "id": "Tsz_g9ejSS5z",
        "outputId": "8a808a49-cc1c-4257-8dfe-c07884f58e0e"
      },
      "execution_count": null,
      "outputs": [
        {
          "output_type": "stream",
          "name": "stdout",
          "text": [
            "[ True  True  True  True]\n",
            "[1 1 1 1]\n"
          ]
        }
      ]
    },
    {
      "cell_type": "code",
      "source": [
        "data_X11 = pd.DataFrame({'Feature': os_data_X1.columns, 'Importance': rfe1.ranking_},)\n",
        "data_X11.sort_values(by=['Importance'])"
      ],
      "metadata": {
        "colab": {
          "base_uri": "https://localhost:8080/",
          "height": 175
        },
        "id": "Yh2pj1h1SS87",
        "outputId": "5b5b433a-f0a8-48ed-ca18-cc180d286a4f"
      },
      "execution_count": null,
      "outputs": [
        {
          "output_type": "execute_result",
          "data": {
            "text/plain": [
              "       Feature  Importance\n",
              "0  CARD_HOLDER           1\n",
              "1  TERMINAL_ID           1\n",
              "2  CARD_NUMBER           1\n",
              "3      CUST_IP           1"
            ],
            "text/html": [
              "\n",
              "  <div id=\"df-1f5701e8-b0a3-4f94-8c04-5a1e942a8130\">\n",
              "    <div class=\"colab-df-container\">\n",
              "      <div>\n",
              "<style scoped>\n",
              "    .dataframe tbody tr th:only-of-type {\n",
              "        vertical-align: middle;\n",
              "    }\n",
              "\n",
              "    .dataframe tbody tr th {\n",
              "        vertical-align: top;\n",
              "    }\n",
              "\n",
              "    .dataframe thead th {\n",
              "        text-align: right;\n",
              "    }\n",
              "</style>\n",
              "<table border=\"1\" class=\"dataframe\">\n",
              "  <thead>\n",
              "    <tr style=\"text-align: right;\">\n",
              "      <th></th>\n",
              "      <th>Feature</th>\n",
              "      <th>Importance</th>\n",
              "    </tr>\n",
              "  </thead>\n",
              "  <tbody>\n",
              "    <tr>\n",
              "      <th>0</th>\n",
              "      <td>CARD_HOLDER</td>\n",
              "      <td>1</td>\n",
              "    </tr>\n",
              "    <tr>\n",
              "      <th>1</th>\n",
              "      <td>TERMINAL_ID</td>\n",
              "      <td>1</td>\n",
              "    </tr>\n",
              "    <tr>\n",
              "      <th>2</th>\n",
              "      <td>CARD_NUMBER</td>\n",
              "      <td>1</td>\n",
              "    </tr>\n",
              "    <tr>\n",
              "      <th>3</th>\n",
              "      <td>CUST_IP</td>\n",
              "      <td>1</td>\n",
              "    </tr>\n",
              "  </tbody>\n",
              "</table>\n",
              "</div>\n",
              "      <button class=\"colab-df-convert\" onclick=\"convertToInteractive('df-1f5701e8-b0a3-4f94-8c04-5a1e942a8130')\"\n",
              "              title=\"Convert this dataframe to an interactive table.\"\n",
              "              style=\"display:none;\">\n",
              "        \n",
              "  <svg xmlns=\"http://www.w3.org/2000/svg\" height=\"24px\"viewBox=\"0 0 24 24\"\n",
              "       width=\"24px\">\n",
              "    <path d=\"M0 0h24v24H0V0z\" fill=\"none\"/>\n",
              "    <path d=\"M18.56 5.44l.94 2.06.94-2.06 2.06-.94-2.06-.94-.94-2.06-.94 2.06-2.06.94zm-11 1L8.5 8.5l.94-2.06 2.06-.94-2.06-.94L8.5 2.5l-.94 2.06-2.06.94zm10 10l.94 2.06.94-2.06 2.06-.94-2.06-.94-.94-2.06-.94 2.06-2.06.94z\"/><path d=\"M17.41 7.96l-1.37-1.37c-.4-.4-.92-.59-1.43-.59-.52 0-1.04.2-1.43.59L10.3 9.45l-7.72 7.72c-.78.78-.78 2.05 0 2.83L4 21.41c.39.39.9.59 1.41.59.51 0 1.02-.2 1.41-.59l7.78-7.78 2.81-2.81c.8-.78.8-2.07 0-2.86zM5.41 20L4 18.59l7.72-7.72 1.47 1.35L5.41 20z\"/>\n",
              "  </svg>\n",
              "      </button>\n",
              "      \n",
              "  <style>\n",
              "    .colab-df-container {\n",
              "      display:flex;\n",
              "      flex-wrap:wrap;\n",
              "      gap: 12px;\n",
              "    }\n",
              "\n",
              "    .colab-df-convert {\n",
              "      background-color: #E8F0FE;\n",
              "      border: none;\n",
              "      border-radius: 50%;\n",
              "      cursor: pointer;\n",
              "      display: none;\n",
              "      fill: #1967D2;\n",
              "      height: 32px;\n",
              "      padding: 0 0 0 0;\n",
              "      width: 32px;\n",
              "    }\n",
              "\n",
              "    .colab-df-convert:hover {\n",
              "      background-color: #E2EBFA;\n",
              "      box-shadow: 0px 1px 2px rgba(60, 64, 67, 0.3), 0px 1px 3px 1px rgba(60, 64, 67, 0.15);\n",
              "      fill: #174EA6;\n",
              "    }\n",
              "\n",
              "    [theme=dark] .colab-df-convert {\n",
              "      background-color: #3B4455;\n",
              "      fill: #D2E3FC;\n",
              "    }\n",
              "\n",
              "    [theme=dark] .colab-df-convert:hover {\n",
              "      background-color: #434B5C;\n",
              "      box-shadow: 0px 1px 3px 1px rgba(0, 0, 0, 0.15);\n",
              "      filter: drop-shadow(0px 1px 2px rgba(0, 0, 0, 0.3));\n",
              "      fill: #FFFFFF;\n",
              "    }\n",
              "  </style>\n",
              "\n",
              "      <script>\n",
              "        const buttonEl =\n",
              "          document.querySelector('#df-1f5701e8-b0a3-4f94-8c04-5a1e942a8130 button.colab-df-convert');\n",
              "        buttonEl.style.display =\n",
              "          google.colab.kernel.accessAllowed ? 'block' : 'none';\n",
              "\n",
              "        async function convertToInteractive(key) {\n",
              "          const element = document.querySelector('#df-1f5701e8-b0a3-4f94-8c04-5a1e942a8130');\n",
              "          const dataTable =\n",
              "            await google.colab.kernel.invokeFunction('convertToInteractive',\n",
              "                                                     [key], {});\n",
              "          if (!dataTable) return;\n",
              "\n",
              "          const docLinkHtml = 'Like what you see? Visit the ' +\n",
              "            '<a target=\"_blank\" href=https://colab.research.google.com/notebooks/data_table.ipynb>data table notebook</a>'\n",
              "            + ' to learn more about interactive tables.';\n",
              "          element.innerHTML = '';\n",
              "          dataTable['output_type'] = 'display_data';\n",
              "          await google.colab.output.renderOutput(dataTable, element);\n",
              "          const docLink = document.createElement('div');\n",
              "          docLink.innerHTML = docLinkHtml;\n",
              "          element.appendChild(docLink);\n",
              "        }\n",
              "      </script>\n",
              "    </div>\n",
              "  </div>\n",
              "  "
            ]
          },
          "metadata": {},
          "execution_count": 24
        }
      ]
    },
    {
      "cell_type": "code",
      "source": [
        "cols1=[]\n",
        "for i in range (0, len(data_X11['Importance'])):\n",
        "  if data_X11['Importance'][i] == 1:\n",
        "    cols1.append(data_X11['Feature'][i])\n",
        "print(cols1)\n",
        "print(len(cols1))"
      ],
      "metadata": {
        "colab": {
          "base_uri": "https://localhost:8080/"
        },
        "id": "ajOLsSWgSTAD",
        "outputId": "5bd28570-ee27-4a38-ca8b-a021d6591a00"
      },
      "execution_count": null,
      "outputs": [
        {
          "output_type": "stream",
          "name": "stdout",
          "text": [
            "['CARD_HOLDER', 'TERMINAL_ID', 'CARD_NUMBER', 'CUST_IP']\n",
            "4\n"
          ]
        }
      ]
    },
    {
      "cell_type": "code",
      "source": [
        "os_data_X1['CARD_HOLDER'] = os_data_X1['CARD_HOLDER'].astype(float)\n",
        "os_data_X1['TERMINAL_ID'] = os_data_X1['TERMINAL_ID'].astype(float)\n",
        "os_data_X1['CARD_NUMBER'] = os_data_X1['CARD_NUMBER'].astype(float)\n",
        "os_data_X1['CUST_IP'] = os_data_X1['CUST_IP'].astype(float)"
      ],
      "metadata": {
        "id": "fyDsushDSTDF"
      },
      "execution_count": null,
      "outputs": []
    },
    {
      "cell_type": "code",
      "source": [
        "X1_final = os_data_X1[cols1]\n",
        "y1_final = os_data_y1['TD_SFRAUD_CB_STATUS']"
      ],
      "metadata": {
        "id": "dPXeAGF4STGT"
      },
      "execution_count": null,
      "outputs": []
    },
    {
      "cell_type": "code",
      "source": [
        "import statsmodels.api as sm\n",
        "logit_model = sm.Logit(y1_final, X1_final)\n",
        "result1 = logit_model.fit()\n",
        "print(result1.summary())"
      ],
      "metadata": {
        "colab": {
          "base_uri": "https://localhost:8080/"
        },
        "id": "miwNZlq9STJc",
        "outputId": "04699e52-de1f-4c7e-89a9-2bd47cf988b2"
      },
      "execution_count": null,
      "outputs": [
        {
          "output_type": "stream",
          "name": "stdout",
          "text": [
            "Optimization terminated successfully.\n",
            "         Current function value: 0.038407\n",
            "         Iterations 14\n",
            "                            Logit Regression Results                           \n",
            "===============================================================================\n",
            "Dep. Variable:     TD_SFRAUD_CB_STATUS   No. Observations:                62630\n",
            "Model:                           Logit   Df Residuals:                    62626\n",
            "Method:                            MLE   Df Model:                            3\n",
            "Date:                 Tue, 20 Jun 2023   Pseudo R-squ.:                  0.9446\n",
            "Time:                         05:05:36   Log-Likelihood:                -2405.4\n",
            "converged:                        True   LL-Null:                       -43412.\n",
            "Covariance Type:             nonrobust   LLR p-value:                     0.000\n",
            "===============================================================================\n",
            "                  coef    std err          z      P>|z|      [0.025      0.975]\n",
            "-------------------------------------------------------------------------------\n",
            "CARD_HOLDER    58.8359      1.354     43.445      0.000      56.182      61.490\n",
            "TERMINAL_ID  -310.7191     24.309    -12.782      0.000    -358.363    -263.075\n",
            "CARD_NUMBER -1871.6364     25.635    -73.011      0.000   -1921.880   -1821.393\n",
            "CUST_IP        22.8543      0.817     27.957      0.000      21.252      24.457\n",
            "===============================================================================\n",
            "\n",
            "Possibly complete quasi-separation: A fraction 0.39 of observations can be\n",
            "perfectly predicted. This might indicate that there is complete\n",
            "quasi-separation. In this case some parameters will not be identified.\n"
          ]
        }
      ]
    },
    {
      "cell_type": "code",
      "source": [
        "pvalue1 = pd.DataFrame(result1.pvalues, columns = ['p_value1'])\n",
        "pvalue1"
      ],
      "metadata": {
        "colab": {
          "base_uri": "https://localhost:8080/",
          "height": 175
        },
        "id": "OPYy6UjBSTMs",
        "outputId": "884e39cb-350d-4615-8997-4ae576602981"
      },
      "execution_count": null,
      "outputs": [
        {
          "output_type": "execute_result",
          "data": {
            "text/plain": [
              "                  p_value1\n",
              "CARD_HOLDER   0.000000e+00\n",
              "TERMINAL_ID   2.058370e-37\n",
              "CARD_NUMBER   0.000000e+00\n",
              "CUST_IP      5.425654e-172"
            ],
            "text/html": [
              "\n",
              "  <div id=\"df-00ac0b3f-d54b-4204-9c5b-02bf29866b83\">\n",
              "    <div class=\"colab-df-container\">\n",
              "      <div>\n",
              "<style scoped>\n",
              "    .dataframe tbody tr th:only-of-type {\n",
              "        vertical-align: middle;\n",
              "    }\n",
              "\n",
              "    .dataframe tbody tr th {\n",
              "        vertical-align: top;\n",
              "    }\n",
              "\n",
              "    .dataframe thead th {\n",
              "        text-align: right;\n",
              "    }\n",
              "</style>\n",
              "<table border=\"1\" class=\"dataframe\">\n",
              "  <thead>\n",
              "    <tr style=\"text-align: right;\">\n",
              "      <th></th>\n",
              "      <th>p_value1</th>\n",
              "    </tr>\n",
              "  </thead>\n",
              "  <tbody>\n",
              "    <tr>\n",
              "      <th>CARD_HOLDER</th>\n",
              "      <td>0.000000e+00</td>\n",
              "    </tr>\n",
              "    <tr>\n",
              "      <th>TERMINAL_ID</th>\n",
              "      <td>2.058370e-37</td>\n",
              "    </tr>\n",
              "    <tr>\n",
              "      <th>CARD_NUMBER</th>\n",
              "      <td>0.000000e+00</td>\n",
              "    </tr>\n",
              "    <tr>\n",
              "      <th>CUST_IP</th>\n",
              "      <td>5.425654e-172</td>\n",
              "    </tr>\n",
              "  </tbody>\n",
              "</table>\n",
              "</div>\n",
              "      <button class=\"colab-df-convert\" onclick=\"convertToInteractive('df-00ac0b3f-d54b-4204-9c5b-02bf29866b83')\"\n",
              "              title=\"Convert this dataframe to an interactive table.\"\n",
              "              style=\"display:none;\">\n",
              "        \n",
              "  <svg xmlns=\"http://www.w3.org/2000/svg\" height=\"24px\"viewBox=\"0 0 24 24\"\n",
              "       width=\"24px\">\n",
              "    <path d=\"M0 0h24v24H0V0z\" fill=\"none\"/>\n",
              "    <path d=\"M18.56 5.44l.94 2.06.94-2.06 2.06-.94-2.06-.94-.94-2.06-.94 2.06-2.06.94zm-11 1L8.5 8.5l.94-2.06 2.06-.94-2.06-.94L8.5 2.5l-.94 2.06-2.06.94zm10 10l.94 2.06.94-2.06 2.06-.94-2.06-.94-.94-2.06-.94 2.06-2.06.94z\"/><path d=\"M17.41 7.96l-1.37-1.37c-.4-.4-.92-.59-1.43-.59-.52 0-1.04.2-1.43.59L10.3 9.45l-7.72 7.72c-.78.78-.78 2.05 0 2.83L4 21.41c.39.39.9.59 1.41.59.51 0 1.02-.2 1.41-.59l7.78-7.78 2.81-2.81c.8-.78.8-2.07 0-2.86zM5.41 20L4 18.59l7.72-7.72 1.47 1.35L5.41 20z\"/>\n",
              "  </svg>\n",
              "      </button>\n",
              "      \n",
              "  <style>\n",
              "    .colab-df-container {\n",
              "      display:flex;\n",
              "      flex-wrap:wrap;\n",
              "      gap: 12px;\n",
              "    }\n",
              "\n",
              "    .colab-df-convert {\n",
              "      background-color: #E8F0FE;\n",
              "      border: none;\n",
              "      border-radius: 50%;\n",
              "      cursor: pointer;\n",
              "      display: none;\n",
              "      fill: #1967D2;\n",
              "      height: 32px;\n",
              "      padding: 0 0 0 0;\n",
              "      width: 32px;\n",
              "    }\n",
              "\n",
              "    .colab-df-convert:hover {\n",
              "      background-color: #E2EBFA;\n",
              "      box-shadow: 0px 1px 2px rgba(60, 64, 67, 0.3), 0px 1px 3px 1px rgba(60, 64, 67, 0.15);\n",
              "      fill: #174EA6;\n",
              "    }\n",
              "\n",
              "    [theme=dark] .colab-df-convert {\n",
              "      background-color: #3B4455;\n",
              "      fill: #D2E3FC;\n",
              "    }\n",
              "\n",
              "    [theme=dark] .colab-df-convert:hover {\n",
              "      background-color: #434B5C;\n",
              "      box-shadow: 0px 1px 3px 1px rgba(0, 0, 0, 0.15);\n",
              "      filter: drop-shadow(0px 1px 2px rgba(0, 0, 0, 0.3));\n",
              "      fill: #FFFFFF;\n",
              "    }\n",
              "  </style>\n",
              "\n",
              "      <script>\n",
              "        const buttonEl =\n",
              "          document.querySelector('#df-00ac0b3f-d54b-4204-9c5b-02bf29866b83 button.colab-df-convert');\n",
              "        buttonEl.style.display =\n",
              "          google.colab.kernel.accessAllowed ? 'block' : 'none';\n",
              "\n",
              "        async function convertToInteractive(key) {\n",
              "          const element = document.querySelector('#df-00ac0b3f-d54b-4204-9c5b-02bf29866b83');\n",
              "          const dataTable =\n",
              "            await google.colab.kernel.invokeFunction('convertToInteractive',\n",
              "                                                     [key], {});\n",
              "          if (!dataTable) return;\n",
              "\n",
              "          const docLinkHtml = 'Like what you see? Visit the ' +\n",
              "            '<a target=\"_blank\" href=https://colab.research.google.com/notebooks/data_table.ipynb>data table notebook</a>'\n",
              "            + ' to learn more about interactive tables.';\n",
              "          element.innerHTML = '';\n",
              "          dataTable['output_type'] = 'display_data';\n",
              "          await google.colab.output.renderOutput(dataTable, element);\n",
              "          const docLink = document.createElement('div');\n",
              "          docLink.innerHTML = docLinkHtml;\n",
              "          element.appendChild(docLink);\n",
              "        }\n",
              "      </script>\n",
              "    </div>\n",
              "  </div>\n",
              "  "
            ]
          },
          "metadata": {},
          "execution_count": 29
        }
      ]
    },
    {
      "cell_type": "code",
      "source": [
        "pvs1 = []\n",
        "for i in range (0, len(pvalue1['p_value1'])):\n",
        "  if pvalue1['p_value1'][i] < 0.05:\n",
        "    pvs1.append(pvalue1.index[i])\n",
        "if 'const1' in pvs1:\n",
        "  pvs1.remove('const1')\n",
        "else:\n",
        "  pvs1\n",
        "print(pvs1)\n",
        "print(len(pvs1))"
      ],
      "metadata": {
        "colab": {
          "base_uri": "https://localhost:8080/"
        },
        "id": "Wf5Ft3Hsg5ua",
        "outputId": "1c2c0924-bd0b-407c-ac31-26ca808aff22"
      },
      "execution_count": null,
      "outputs": [
        {
          "output_type": "stream",
          "name": "stdout",
          "text": [
            "['CARD_HOLDER', 'TERMINAL_ID', 'CARD_NUMBER', 'CUST_IP']\n",
            "4\n"
          ]
        }
      ]
    },
    {
      "cell_type": "code",
      "source": [
        "X1 = os_data_X1[pvs1]\n",
        "y1 = os_data_y1['TD_SFRAUD_CB_STATUS']\n",
        "logit_model = sm.Logit(y1_final, X1_final)\n",
        "result1 = logit_model.fit()\n",
        "print(result1.summary())"
      ],
      "metadata": {
        "colab": {
          "base_uri": "https://localhost:8080/"
        },
        "id": "PyO1bIwjg5xq",
        "outputId": "450d9a54-e6df-45e7-f1f0-219bc9a4a7ff"
      },
      "execution_count": null,
      "outputs": [
        {
          "output_type": "stream",
          "name": "stdout",
          "text": [
            "Optimization terminated successfully.\n",
            "         Current function value: 0.038407\n",
            "         Iterations 14\n",
            "                            Logit Regression Results                           \n",
            "===============================================================================\n",
            "Dep. Variable:     TD_SFRAUD_CB_STATUS   No. Observations:                62630\n",
            "Model:                           Logit   Df Residuals:                    62626\n",
            "Method:                            MLE   Df Model:                            3\n",
            "Date:                 Tue, 20 Jun 2023   Pseudo R-squ.:                  0.9446\n",
            "Time:                         05:05:37   Log-Likelihood:                -2405.4\n",
            "converged:                        True   LL-Null:                       -43412.\n",
            "Covariance Type:             nonrobust   LLR p-value:                     0.000\n",
            "===============================================================================\n",
            "                  coef    std err          z      P>|z|      [0.025      0.975]\n",
            "-------------------------------------------------------------------------------\n",
            "CARD_HOLDER    58.8359      1.354     43.445      0.000      56.182      61.490\n",
            "TERMINAL_ID  -310.7191     24.309    -12.782      0.000    -358.363    -263.075\n",
            "CARD_NUMBER -1871.6364     25.635    -73.011      0.000   -1921.880   -1821.393\n",
            "CUST_IP        22.8543      0.817     27.957      0.000      21.252      24.457\n",
            "===============================================================================\n",
            "\n",
            "Possibly complete quasi-separation: A fraction 0.39 of observations can be\n",
            "perfectly predicted. This might indicate that there is complete\n",
            "quasi-separation. In this case some parameters will not be identified.\n"
          ]
        }
      ]
    },
    {
      "cell_type": "code",
      "source": [
        "from sklearn.linear_model import LogisticRegression\n",
        "from sklearn import metrics\n",
        "X1_train, X1_test, y1_train, y1_test = train_test_split(X1_final, y1_final, test_size=0.30, random_state=42)\n",
        "logreg = LogisticRegression()\n",
        "logreg.fit(X1_train, y1_train)"
      ],
      "metadata": {
        "colab": {
          "base_uri": "https://localhost:8080/",
          "height": 75
        },
        "id": "94AWG-V4g50a",
        "outputId": "8bd3728b-15d0-4036-a416-a450f0c3faa8"
      },
      "execution_count": null,
      "outputs": [
        {
          "output_type": "execute_result",
          "data": {
            "text/plain": [
              "LogisticRegression()"
            ],
            "text/html": [
              "<style>#sk-container-id-1 {color: black;background-color: white;}#sk-container-id-1 pre{padding: 0;}#sk-container-id-1 div.sk-toggleable {background-color: white;}#sk-container-id-1 label.sk-toggleable__label {cursor: pointer;display: block;width: 100%;margin-bottom: 0;padding: 0.3em;box-sizing: border-box;text-align: center;}#sk-container-id-1 label.sk-toggleable__label-arrow:before {content: \"▸\";float: left;margin-right: 0.25em;color: #696969;}#sk-container-id-1 label.sk-toggleable__label-arrow:hover:before {color: black;}#sk-container-id-1 div.sk-estimator:hover label.sk-toggleable__label-arrow:before {color: black;}#sk-container-id-1 div.sk-toggleable__content {max-height: 0;max-width: 0;overflow: hidden;text-align: left;background-color: #f0f8ff;}#sk-container-id-1 div.sk-toggleable__content pre {margin: 0.2em;color: black;border-radius: 0.25em;background-color: #f0f8ff;}#sk-container-id-1 input.sk-toggleable__control:checked~div.sk-toggleable__content {max-height: 200px;max-width: 100%;overflow: auto;}#sk-container-id-1 input.sk-toggleable__control:checked~label.sk-toggleable__label-arrow:before {content: \"▾\";}#sk-container-id-1 div.sk-estimator input.sk-toggleable__control:checked~label.sk-toggleable__label {background-color: #d4ebff;}#sk-container-id-1 div.sk-label input.sk-toggleable__control:checked~label.sk-toggleable__label {background-color: #d4ebff;}#sk-container-id-1 input.sk-hidden--visually {border: 0;clip: rect(1px 1px 1px 1px);clip: rect(1px, 1px, 1px, 1px);height: 1px;margin: -1px;overflow: hidden;padding: 0;position: absolute;width: 1px;}#sk-container-id-1 div.sk-estimator {font-family: monospace;background-color: #f0f8ff;border: 1px dotted black;border-radius: 0.25em;box-sizing: border-box;margin-bottom: 0.5em;}#sk-container-id-1 div.sk-estimator:hover {background-color: #d4ebff;}#sk-container-id-1 div.sk-parallel-item::after {content: \"\";width: 100%;border-bottom: 1px solid gray;flex-grow: 1;}#sk-container-id-1 div.sk-label:hover label.sk-toggleable__label {background-color: #d4ebff;}#sk-container-id-1 div.sk-serial::before {content: \"\";position: absolute;border-left: 1px solid gray;box-sizing: border-box;top: 0;bottom: 0;left: 50%;z-index: 0;}#sk-container-id-1 div.sk-serial {display: flex;flex-direction: column;align-items: center;background-color: white;padding-right: 0.2em;padding-left: 0.2em;position: relative;}#sk-container-id-1 div.sk-item {position: relative;z-index: 1;}#sk-container-id-1 div.sk-parallel {display: flex;align-items: stretch;justify-content: center;background-color: white;position: relative;}#sk-container-id-1 div.sk-item::before, #sk-container-id-1 div.sk-parallel-item::before {content: \"\";position: absolute;border-left: 1px solid gray;box-sizing: border-box;top: 0;bottom: 0;left: 50%;z-index: -1;}#sk-container-id-1 div.sk-parallel-item {display: flex;flex-direction: column;z-index: 1;position: relative;background-color: white;}#sk-container-id-1 div.sk-parallel-item:first-child::after {align-self: flex-end;width: 50%;}#sk-container-id-1 div.sk-parallel-item:last-child::after {align-self: flex-start;width: 50%;}#sk-container-id-1 div.sk-parallel-item:only-child::after {width: 0;}#sk-container-id-1 div.sk-dashed-wrapped {border: 1px dashed gray;margin: 0 0.4em 0.5em 0.4em;box-sizing: border-box;padding-bottom: 0.4em;background-color: white;}#sk-container-id-1 div.sk-label label {font-family: monospace;font-weight: bold;display: inline-block;line-height: 1.2em;}#sk-container-id-1 div.sk-label-container {text-align: center;}#sk-container-id-1 div.sk-container {/* jupyter's `normalize.less` sets `[hidden] { display: none; }` but bootstrap.min.css set `[hidden] { display: none !important; }` so we also need the `!important` here to be able to override the default hidden behavior on the sphinx rendered scikit-learn.org. See: https://github.com/scikit-learn/scikit-learn/issues/21755 */display: inline-block !important;position: relative;}#sk-container-id-1 div.sk-text-repr-fallback {display: none;}</style><div id=\"sk-container-id-1\" class=\"sk-top-container\"><div class=\"sk-text-repr-fallback\"><pre>LogisticRegression()</pre><b>In a Jupyter environment, please rerun this cell to show the HTML representation or trust the notebook. <br />On GitHub, the HTML representation is unable to render, please try loading this page with nbviewer.org.</b></div><div class=\"sk-container\" hidden><div class=\"sk-item\"><div class=\"sk-estimator sk-toggleable\"><input class=\"sk-toggleable__control sk-hidden--visually\" id=\"sk-estimator-id-1\" type=\"checkbox\" checked><label for=\"sk-estimator-id-1\" class=\"sk-toggleable__label sk-toggleable__label-arrow\">LogisticRegression</label><div class=\"sk-toggleable__content\"><pre>LogisticRegression()</pre></div></div></div></div></div>"
            ]
          },
          "metadata": {},
          "execution_count": 32
        }
      ]
    },
    {
      "cell_type": "code",
      "source": [
        "X1_test"
      ],
      "metadata": {
        "colab": {
          "base_uri": "https://localhost:8080/",
          "height": 424
        },
        "id": "YJIoy8mHK0Wt",
        "outputId": "91cef2c9-9e6d-4ba8-87dd-6de60dd0e1ff"
      },
      "execution_count": null,
      "outputs": [
        {
          "output_type": "execute_result",
          "data": {
            "text/plain": [
              "       CARD_HOLDER  TERMINAL_ID  CARD_NUMBER   CUST_IP\n",
              "31120     0.000000     0.000923     0.002252  0.000000\n",
              "49054     0.600000     0.008211     0.002252  0.391304\n",
              "55910     0.104790     0.008211     0.002252  0.250000\n",
              "33802     1.000000     0.008211     0.002252  0.900000\n",
              "9683      0.000000     0.000923     0.002252  0.000000\n",
              "...            ...          ...          ...       ...\n",
              "34204     0.199963     0.006963     0.002252  1.000000\n",
              "48725     0.800000     0.000923     0.002252  1.000000\n",
              "22248     0.000000     0.008211     0.002252  0.000000\n",
              "4915      0.000000     0.000923     0.002252  0.000000\n",
              "9600      0.000000     0.000923     0.002252  0.000000\n",
              "\n",
              "[18789 rows x 4 columns]"
            ],
            "text/html": [
              "\n",
              "  <div id=\"df-2ab209bc-8eb5-4363-aaa5-48485907f1c9\">\n",
              "    <div class=\"colab-df-container\">\n",
              "      <div>\n",
              "<style scoped>\n",
              "    .dataframe tbody tr th:only-of-type {\n",
              "        vertical-align: middle;\n",
              "    }\n",
              "\n",
              "    .dataframe tbody tr th {\n",
              "        vertical-align: top;\n",
              "    }\n",
              "\n",
              "    .dataframe thead th {\n",
              "        text-align: right;\n",
              "    }\n",
              "</style>\n",
              "<table border=\"1\" class=\"dataframe\">\n",
              "  <thead>\n",
              "    <tr style=\"text-align: right;\">\n",
              "      <th></th>\n",
              "      <th>CARD_HOLDER</th>\n",
              "      <th>TERMINAL_ID</th>\n",
              "      <th>CARD_NUMBER</th>\n",
              "      <th>CUST_IP</th>\n",
              "    </tr>\n",
              "  </thead>\n",
              "  <tbody>\n",
              "    <tr>\n",
              "      <th>31120</th>\n",
              "      <td>0.000000</td>\n",
              "      <td>0.000923</td>\n",
              "      <td>0.002252</td>\n",
              "      <td>0.000000</td>\n",
              "    </tr>\n",
              "    <tr>\n",
              "      <th>49054</th>\n",
              "      <td>0.600000</td>\n",
              "      <td>0.008211</td>\n",
              "      <td>0.002252</td>\n",
              "      <td>0.391304</td>\n",
              "    </tr>\n",
              "    <tr>\n",
              "      <th>55910</th>\n",
              "      <td>0.104790</td>\n",
              "      <td>0.008211</td>\n",
              "      <td>0.002252</td>\n",
              "      <td>0.250000</td>\n",
              "    </tr>\n",
              "    <tr>\n",
              "      <th>33802</th>\n",
              "      <td>1.000000</td>\n",
              "      <td>0.008211</td>\n",
              "      <td>0.002252</td>\n",
              "      <td>0.900000</td>\n",
              "    </tr>\n",
              "    <tr>\n",
              "      <th>9683</th>\n",
              "      <td>0.000000</td>\n",
              "      <td>0.000923</td>\n",
              "      <td>0.002252</td>\n",
              "      <td>0.000000</td>\n",
              "    </tr>\n",
              "    <tr>\n",
              "      <th>...</th>\n",
              "      <td>...</td>\n",
              "      <td>...</td>\n",
              "      <td>...</td>\n",
              "      <td>...</td>\n",
              "    </tr>\n",
              "    <tr>\n",
              "      <th>34204</th>\n",
              "      <td>0.199963</td>\n",
              "      <td>0.006963</td>\n",
              "      <td>0.002252</td>\n",
              "      <td>1.000000</td>\n",
              "    </tr>\n",
              "    <tr>\n",
              "      <th>48725</th>\n",
              "      <td>0.800000</td>\n",
              "      <td>0.000923</td>\n",
              "      <td>0.002252</td>\n",
              "      <td>1.000000</td>\n",
              "    </tr>\n",
              "    <tr>\n",
              "      <th>22248</th>\n",
              "      <td>0.000000</td>\n",
              "      <td>0.008211</td>\n",
              "      <td>0.002252</td>\n",
              "      <td>0.000000</td>\n",
              "    </tr>\n",
              "    <tr>\n",
              "      <th>4915</th>\n",
              "      <td>0.000000</td>\n",
              "      <td>0.000923</td>\n",
              "      <td>0.002252</td>\n",
              "      <td>0.000000</td>\n",
              "    </tr>\n",
              "    <tr>\n",
              "      <th>9600</th>\n",
              "      <td>0.000000</td>\n",
              "      <td>0.000923</td>\n",
              "      <td>0.002252</td>\n",
              "      <td>0.000000</td>\n",
              "    </tr>\n",
              "  </tbody>\n",
              "</table>\n",
              "<p>18789 rows × 4 columns</p>\n",
              "</div>\n",
              "      <button class=\"colab-df-convert\" onclick=\"convertToInteractive('df-2ab209bc-8eb5-4363-aaa5-48485907f1c9')\"\n",
              "              title=\"Convert this dataframe to an interactive table.\"\n",
              "              style=\"display:none;\">\n",
              "        \n",
              "  <svg xmlns=\"http://www.w3.org/2000/svg\" height=\"24px\"viewBox=\"0 0 24 24\"\n",
              "       width=\"24px\">\n",
              "    <path d=\"M0 0h24v24H0V0z\" fill=\"none\"/>\n",
              "    <path d=\"M18.56 5.44l.94 2.06.94-2.06 2.06-.94-2.06-.94-.94-2.06-.94 2.06-2.06.94zm-11 1L8.5 8.5l.94-2.06 2.06-.94-2.06-.94L8.5 2.5l-.94 2.06-2.06.94zm10 10l.94 2.06.94-2.06 2.06-.94-2.06-.94-.94-2.06-.94 2.06-2.06.94z\"/><path d=\"M17.41 7.96l-1.37-1.37c-.4-.4-.92-.59-1.43-.59-.52 0-1.04.2-1.43.59L10.3 9.45l-7.72 7.72c-.78.78-.78 2.05 0 2.83L4 21.41c.39.39.9.59 1.41.59.51 0 1.02-.2 1.41-.59l7.78-7.78 2.81-2.81c.8-.78.8-2.07 0-2.86zM5.41 20L4 18.59l7.72-7.72 1.47 1.35L5.41 20z\"/>\n",
              "  </svg>\n",
              "      </button>\n",
              "      \n",
              "  <style>\n",
              "    .colab-df-container {\n",
              "      display:flex;\n",
              "      flex-wrap:wrap;\n",
              "      gap: 12px;\n",
              "    }\n",
              "\n",
              "    .colab-df-convert {\n",
              "      background-color: #E8F0FE;\n",
              "      border: none;\n",
              "      border-radius: 50%;\n",
              "      cursor: pointer;\n",
              "      display: none;\n",
              "      fill: #1967D2;\n",
              "      height: 32px;\n",
              "      padding: 0 0 0 0;\n",
              "      width: 32px;\n",
              "    }\n",
              "\n",
              "    .colab-df-convert:hover {\n",
              "      background-color: #E2EBFA;\n",
              "      box-shadow: 0px 1px 2px rgba(60, 64, 67, 0.3), 0px 1px 3px 1px rgba(60, 64, 67, 0.15);\n",
              "      fill: #174EA6;\n",
              "    }\n",
              "\n",
              "    [theme=dark] .colab-df-convert {\n",
              "      background-color: #3B4455;\n",
              "      fill: #D2E3FC;\n",
              "    }\n",
              "\n",
              "    [theme=dark] .colab-df-convert:hover {\n",
              "      background-color: #434B5C;\n",
              "      box-shadow: 0px 1px 3px 1px rgba(0, 0, 0, 0.15);\n",
              "      filter: drop-shadow(0px 1px 2px rgba(0, 0, 0, 0.3));\n",
              "      fill: #FFFFFF;\n",
              "    }\n",
              "  </style>\n",
              "\n",
              "      <script>\n",
              "        const buttonEl =\n",
              "          document.querySelector('#df-2ab209bc-8eb5-4363-aaa5-48485907f1c9 button.colab-df-convert');\n",
              "        buttonEl.style.display =\n",
              "          google.colab.kernel.accessAllowed ? 'block' : 'none';\n",
              "\n",
              "        async function convertToInteractive(key) {\n",
              "          const element = document.querySelector('#df-2ab209bc-8eb5-4363-aaa5-48485907f1c9');\n",
              "          const dataTable =\n",
              "            await google.colab.kernel.invokeFunction('convertToInteractive',\n",
              "                                                     [key], {});\n",
              "          if (!dataTable) return;\n",
              "\n",
              "          const docLinkHtml = 'Like what you see? Visit the ' +\n",
              "            '<a target=\"_blank\" href=https://colab.research.google.com/notebooks/data_table.ipynb>data table notebook</a>'\n",
              "            + ' to learn more about interactive tables.';\n",
              "          element.innerHTML = '';\n",
              "          dataTable['output_type'] = 'display_data';\n",
              "          await google.colab.output.renderOutput(dataTable, element);\n",
              "          const docLink = document.createElement('div');\n",
              "          docLink.innerHTML = docLinkHtml;\n",
              "          element.appendChild(docLink);\n",
              "        }\n",
              "      </script>\n",
              "    </div>\n",
              "  </div>\n",
              "  "
            ]
          },
          "metadata": {},
          "execution_count": 33
        }
      ]
    },
    {
      "cell_type": "code",
      "source": [
        "y_pred = logreg.predict(X1_test)"
      ],
      "metadata": {
        "id": "aylrxmN1unIg"
      },
      "execution_count": null,
      "outputs": []
    },
    {
      "cell_type": "code",
      "source": [
        "weights = np.array([1.0, 1.0, -50.0, 1.0])\n",
        "\n",
        "weighted_features = X1_test * weights\n"
      ],
      "metadata": {
        "id": "DpHJz30cg53g"
      },
      "execution_count": null,
      "outputs": []
    },
    {
      "cell_type": "code",
      "source": [
        "weighted_features"
      ],
      "metadata": {
        "colab": {
          "base_uri": "https://localhost:8080/",
          "height": 424
        },
        "id": "d6It_AdUK8nJ",
        "outputId": "da1b7850-cdb0-46ea-f039-d5c15a050e7d"
      },
      "execution_count": null,
      "outputs": [
        {
          "output_type": "execute_result",
          "data": {
            "text/plain": [
              "       CARD_HOLDER  TERMINAL_ID  CARD_NUMBER   CUST_IP\n",
              "31120     0.000000     0.000923    -0.112618  0.000000\n",
              "49054     0.600000     0.008211    -0.112618  0.391304\n",
              "55910     0.104790     0.008211    -0.112618  0.250000\n",
              "33802     1.000000     0.008211    -0.112618  0.900000\n",
              "9683      0.000000     0.000923    -0.112618  0.000000\n",
              "...            ...          ...          ...       ...\n",
              "34204     0.199963     0.006963    -0.112618  1.000000\n",
              "48725     0.800000     0.000923    -0.112618  1.000000\n",
              "22248     0.000000     0.008211    -0.112618  0.000000\n",
              "4915      0.000000     0.000923    -0.112618  0.000000\n",
              "9600      0.000000     0.000923    -0.112618  0.000000\n",
              "\n",
              "[18789 rows x 4 columns]"
            ],
            "text/html": [
              "\n",
              "  <div id=\"df-13aeefc1-586e-466c-a71e-b1d96f21514c\">\n",
              "    <div class=\"colab-df-container\">\n",
              "      <div>\n",
              "<style scoped>\n",
              "    .dataframe tbody tr th:only-of-type {\n",
              "        vertical-align: middle;\n",
              "    }\n",
              "\n",
              "    .dataframe tbody tr th {\n",
              "        vertical-align: top;\n",
              "    }\n",
              "\n",
              "    .dataframe thead th {\n",
              "        text-align: right;\n",
              "    }\n",
              "</style>\n",
              "<table border=\"1\" class=\"dataframe\">\n",
              "  <thead>\n",
              "    <tr style=\"text-align: right;\">\n",
              "      <th></th>\n",
              "      <th>CARD_HOLDER</th>\n",
              "      <th>TERMINAL_ID</th>\n",
              "      <th>CARD_NUMBER</th>\n",
              "      <th>CUST_IP</th>\n",
              "    </tr>\n",
              "  </thead>\n",
              "  <tbody>\n",
              "    <tr>\n",
              "      <th>31120</th>\n",
              "      <td>0.000000</td>\n",
              "      <td>0.000923</td>\n",
              "      <td>-0.112618</td>\n",
              "      <td>0.000000</td>\n",
              "    </tr>\n",
              "    <tr>\n",
              "      <th>49054</th>\n",
              "      <td>0.600000</td>\n",
              "      <td>0.008211</td>\n",
              "      <td>-0.112618</td>\n",
              "      <td>0.391304</td>\n",
              "    </tr>\n",
              "    <tr>\n",
              "      <th>55910</th>\n",
              "      <td>0.104790</td>\n",
              "      <td>0.008211</td>\n",
              "      <td>-0.112618</td>\n",
              "      <td>0.250000</td>\n",
              "    </tr>\n",
              "    <tr>\n",
              "      <th>33802</th>\n",
              "      <td>1.000000</td>\n",
              "      <td>0.008211</td>\n",
              "      <td>-0.112618</td>\n",
              "      <td>0.900000</td>\n",
              "    </tr>\n",
              "    <tr>\n",
              "      <th>9683</th>\n",
              "      <td>0.000000</td>\n",
              "      <td>0.000923</td>\n",
              "      <td>-0.112618</td>\n",
              "      <td>0.000000</td>\n",
              "    </tr>\n",
              "    <tr>\n",
              "      <th>...</th>\n",
              "      <td>...</td>\n",
              "      <td>...</td>\n",
              "      <td>...</td>\n",
              "      <td>...</td>\n",
              "    </tr>\n",
              "    <tr>\n",
              "      <th>34204</th>\n",
              "      <td>0.199963</td>\n",
              "      <td>0.006963</td>\n",
              "      <td>-0.112618</td>\n",
              "      <td>1.000000</td>\n",
              "    </tr>\n",
              "    <tr>\n",
              "      <th>48725</th>\n",
              "      <td>0.800000</td>\n",
              "      <td>0.000923</td>\n",
              "      <td>-0.112618</td>\n",
              "      <td>1.000000</td>\n",
              "    </tr>\n",
              "    <tr>\n",
              "      <th>22248</th>\n",
              "      <td>0.000000</td>\n",
              "      <td>0.008211</td>\n",
              "      <td>-0.112618</td>\n",
              "      <td>0.000000</td>\n",
              "    </tr>\n",
              "    <tr>\n",
              "      <th>4915</th>\n",
              "      <td>0.000000</td>\n",
              "      <td>0.000923</td>\n",
              "      <td>-0.112618</td>\n",
              "      <td>0.000000</td>\n",
              "    </tr>\n",
              "    <tr>\n",
              "      <th>9600</th>\n",
              "      <td>0.000000</td>\n",
              "      <td>0.000923</td>\n",
              "      <td>-0.112618</td>\n",
              "      <td>0.000000</td>\n",
              "    </tr>\n",
              "  </tbody>\n",
              "</table>\n",
              "<p>18789 rows × 4 columns</p>\n",
              "</div>\n",
              "      <button class=\"colab-df-convert\" onclick=\"convertToInteractive('df-13aeefc1-586e-466c-a71e-b1d96f21514c')\"\n",
              "              title=\"Convert this dataframe to an interactive table.\"\n",
              "              style=\"display:none;\">\n",
              "        \n",
              "  <svg xmlns=\"http://www.w3.org/2000/svg\" height=\"24px\"viewBox=\"0 0 24 24\"\n",
              "       width=\"24px\">\n",
              "    <path d=\"M0 0h24v24H0V0z\" fill=\"none\"/>\n",
              "    <path d=\"M18.56 5.44l.94 2.06.94-2.06 2.06-.94-2.06-.94-.94-2.06-.94 2.06-2.06.94zm-11 1L8.5 8.5l.94-2.06 2.06-.94-2.06-.94L8.5 2.5l-.94 2.06-2.06.94zm10 10l.94 2.06.94-2.06 2.06-.94-2.06-.94-.94-2.06-.94 2.06-2.06.94z\"/><path d=\"M17.41 7.96l-1.37-1.37c-.4-.4-.92-.59-1.43-.59-.52 0-1.04.2-1.43.59L10.3 9.45l-7.72 7.72c-.78.78-.78 2.05 0 2.83L4 21.41c.39.39.9.59 1.41.59.51 0 1.02-.2 1.41-.59l7.78-7.78 2.81-2.81c.8-.78.8-2.07 0-2.86zM5.41 20L4 18.59l7.72-7.72 1.47 1.35L5.41 20z\"/>\n",
              "  </svg>\n",
              "      </button>\n",
              "      \n",
              "  <style>\n",
              "    .colab-df-container {\n",
              "      display:flex;\n",
              "      flex-wrap:wrap;\n",
              "      gap: 12px;\n",
              "    }\n",
              "\n",
              "    .colab-df-convert {\n",
              "      background-color: #E8F0FE;\n",
              "      border: none;\n",
              "      border-radius: 50%;\n",
              "      cursor: pointer;\n",
              "      display: none;\n",
              "      fill: #1967D2;\n",
              "      height: 32px;\n",
              "      padding: 0 0 0 0;\n",
              "      width: 32px;\n",
              "    }\n",
              "\n",
              "    .colab-df-convert:hover {\n",
              "      background-color: #E2EBFA;\n",
              "      box-shadow: 0px 1px 2px rgba(60, 64, 67, 0.3), 0px 1px 3px 1px rgba(60, 64, 67, 0.15);\n",
              "      fill: #174EA6;\n",
              "    }\n",
              "\n",
              "    [theme=dark] .colab-df-convert {\n",
              "      background-color: #3B4455;\n",
              "      fill: #D2E3FC;\n",
              "    }\n",
              "\n",
              "    [theme=dark] .colab-df-convert:hover {\n",
              "      background-color: #434B5C;\n",
              "      box-shadow: 0px 1px 3px 1px rgba(0, 0, 0, 0.15);\n",
              "      filter: drop-shadow(0px 1px 2px rgba(0, 0, 0, 0.3));\n",
              "      fill: #FFFFFF;\n",
              "    }\n",
              "  </style>\n",
              "\n",
              "      <script>\n",
              "        const buttonEl =\n",
              "          document.querySelector('#df-13aeefc1-586e-466c-a71e-b1d96f21514c button.colab-df-convert');\n",
              "        buttonEl.style.display =\n",
              "          google.colab.kernel.accessAllowed ? 'block' : 'none';\n",
              "\n",
              "        async function convertToInteractive(key) {\n",
              "          const element = document.querySelector('#df-13aeefc1-586e-466c-a71e-b1d96f21514c');\n",
              "          const dataTable =\n",
              "            await google.colab.kernel.invokeFunction('convertToInteractive',\n",
              "                                                     [key], {});\n",
              "          if (!dataTable) return;\n",
              "\n",
              "          const docLinkHtml = 'Like what you see? Visit the ' +\n",
              "            '<a target=\"_blank\" href=https://colab.research.google.com/notebooks/data_table.ipynb>data table notebook</a>'\n",
              "            + ' to learn more about interactive tables.';\n",
              "          element.innerHTML = '';\n",
              "          dataTable['output_type'] = 'display_data';\n",
              "          await google.colab.output.renderOutput(dataTable, element);\n",
              "          const docLink = document.createElement('div');\n",
              "          docLink.innerHTML = docLinkHtml;\n",
              "          element.appendChild(docLink);\n",
              "        }\n",
              "      </script>\n",
              "    </div>\n",
              "  </div>\n",
              "  "
            ]
          },
          "metadata": {},
          "execution_count": 93
        }
      ]
    },
    {
      "cell_type": "code",
      "source": [
        "y_pred1 = logreg.predict(weighted_features)"
      ],
      "metadata": {
        "id": "LRqqGr6ySTQG"
      },
      "execution_count": null,
      "outputs": []
    },
    {
      "cell_type": "code",
      "source": [
        "from sklearn.metrics import accuracy_score\n",
        "from sklearn.metrics import confusion_matrix\n",
        "from sklearn.metrics import classification_report\n",
        "print('Accuracy of logistic regression classifier on test set: {:.2f}'.format(accuracy_score(y1_test, y_pred1)))\n",
        "confusion_matrix1 = confusion_matrix(y1_test, y_pred1)\n",
        "print(confusion_matrix1)\n",
        "print(classification_report(y1_test, y_pred1))"
      ],
      "metadata": {
        "colab": {
          "base_uri": "https://localhost:8080/"
        },
        "id": "PiUAQ4RCigZf",
        "outputId": "31158ccc-c1ab-437b-9fd5-1495b36ec949"
      },
      "execution_count": null,
      "outputs": [
        {
          "output_type": "stream",
          "name": "stdout",
          "text": [
            "Accuracy of logistic regression classifier on test set: 0.99\n",
            "[[9293   33]\n",
            " [ 174 9289]]\n",
            "              precision    recall  f1-score   support\n",
            "\n",
            "           0       0.98      1.00      0.99      9326\n",
            "           1       1.00      0.98      0.99      9463\n",
            "\n",
            "    accuracy                           0.99     18789\n",
            "   macro avg       0.99      0.99      0.99     18789\n",
            "weighted avg       0.99      0.99      0.99     18789\n",
            "\n"
          ]
        }
      ]
    },
    {
      "cell_type": "code",
      "source": [
        "X1_final = X1_final.drop('EST1', axis=1)\n",
        "X1_final = X1_final * weights\n"
      ],
      "metadata": {
        "id": "N8EWwELNRxsZ"
      },
      "execution_count": null,
      "outputs": []
    },
    {
      "cell_type": "code",
      "source": [
        "X1_final['EST1'] = logreg.predict_proba(X1_final[X1_train.columns])[:,1]\n",
        "X1_final[['CARD_HOLDER', 'EST1']].head(10)"
      ],
      "metadata": {
        "colab": {
          "base_uri": "https://localhost:8080/",
          "height": 363
        },
        "id": "ywb1ky68pL12",
        "outputId": "e3d0babd-3bc0-4c9d-98c5-b1cffa4a758e"
      },
      "execution_count": null,
      "outputs": [
        {
          "output_type": "execute_result",
          "data": {
            "text/plain": [
              "   CARD_HOLDER      EST1\n",
              "0          0.0  0.042611\n",
              "1          0.0  0.042539\n",
              "2          0.0  0.042611\n",
              "3          0.0  0.042539\n",
              "4          0.0  0.042611\n",
              "5          0.0  0.042616\n",
              "6          0.0  0.042611\n",
              "7          0.0  0.042611\n",
              "8          0.0  0.042539\n",
              "9          0.0  0.042616"
            ],
            "text/html": [
              "\n",
              "  <div id=\"df-f5aaef67-7d7d-46e2-a580-cca75475bfeb\">\n",
              "    <div class=\"colab-df-container\">\n",
              "      <div>\n",
              "<style scoped>\n",
              "    .dataframe tbody tr th:only-of-type {\n",
              "        vertical-align: middle;\n",
              "    }\n",
              "\n",
              "    .dataframe tbody tr th {\n",
              "        vertical-align: top;\n",
              "    }\n",
              "\n",
              "    .dataframe thead th {\n",
              "        text-align: right;\n",
              "    }\n",
              "</style>\n",
              "<table border=\"1\" class=\"dataframe\">\n",
              "  <thead>\n",
              "    <tr style=\"text-align: right;\">\n",
              "      <th></th>\n",
              "      <th>CARD_HOLDER</th>\n",
              "      <th>EST1</th>\n",
              "    </tr>\n",
              "  </thead>\n",
              "  <tbody>\n",
              "    <tr>\n",
              "      <th>0</th>\n",
              "      <td>0.0</td>\n",
              "      <td>0.042611</td>\n",
              "    </tr>\n",
              "    <tr>\n",
              "      <th>1</th>\n",
              "      <td>0.0</td>\n",
              "      <td>0.042539</td>\n",
              "    </tr>\n",
              "    <tr>\n",
              "      <th>2</th>\n",
              "      <td>0.0</td>\n",
              "      <td>0.042611</td>\n",
              "    </tr>\n",
              "    <tr>\n",
              "      <th>3</th>\n",
              "      <td>0.0</td>\n",
              "      <td>0.042539</td>\n",
              "    </tr>\n",
              "    <tr>\n",
              "      <th>4</th>\n",
              "      <td>0.0</td>\n",
              "      <td>0.042611</td>\n",
              "    </tr>\n",
              "    <tr>\n",
              "      <th>5</th>\n",
              "      <td>0.0</td>\n",
              "      <td>0.042616</td>\n",
              "    </tr>\n",
              "    <tr>\n",
              "      <th>6</th>\n",
              "      <td>0.0</td>\n",
              "      <td>0.042611</td>\n",
              "    </tr>\n",
              "    <tr>\n",
              "      <th>7</th>\n",
              "      <td>0.0</td>\n",
              "      <td>0.042611</td>\n",
              "    </tr>\n",
              "    <tr>\n",
              "      <th>8</th>\n",
              "      <td>0.0</td>\n",
              "      <td>0.042539</td>\n",
              "    </tr>\n",
              "    <tr>\n",
              "      <th>9</th>\n",
              "      <td>0.0</td>\n",
              "      <td>0.042616</td>\n",
              "    </tr>\n",
              "  </tbody>\n",
              "</table>\n",
              "</div>\n",
              "      <button class=\"colab-df-convert\" onclick=\"convertToInteractive('df-f5aaef67-7d7d-46e2-a580-cca75475bfeb')\"\n",
              "              title=\"Convert this dataframe to an interactive table.\"\n",
              "              style=\"display:none;\">\n",
              "        \n",
              "  <svg xmlns=\"http://www.w3.org/2000/svg\" height=\"24px\"viewBox=\"0 0 24 24\"\n",
              "       width=\"24px\">\n",
              "    <path d=\"M0 0h24v24H0V0z\" fill=\"none\"/>\n",
              "    <path d=\"M18.56 5.44l.94 2.06.94-2.06 2.06-.94-2.06-.94-.94-2.06-.94 2.06-2.06.94zm-11 1L8.5 8.5l.94-2.06 2.06-.94-2.06-.94L8.5 2.5l-.94 2.06-2.06.94zm10 10l.94 2.06.94-2.06 2.06-.94-2.06-.94-.94-2.06-.94 2.06-2.06.94z\"/><path d=\"M17.41 7.96l-1.37-1.37c-.4-.4-.92-.59-1.43-.59-.52 0-1.04.2-1.43.59L10.3 9.45l-7.72 7.72c-.78.78-.78 2.05 0 2.83L4 21.41c.39.39.9.59 1.41.59.51 0 1.02-.2 1.41-.59l7.78-7.78 2.81-2.81c.8-.78.8-2.07 0-2.86zM5.41 20L4 18.59l7.72-7.72 1.47 1.35L5.41 20z\"/>\n",
              "  </svg>\n",
              "      </button>\n",
              "      \n",
              "  <style>\n",
              "    .colab-df-container {\n",
              "      display:flex;\n",
              "      flex-wrap:wrap;\n",
              "      gap: 12px;\n",
              "    }\n",
              "\n",
              "    .colab-df-convert {\n",
              "      background-color: #E8F0FE;\n",
              "      border: none;\n",
              "      border-radius: 50%;\n",
              "      cursor: pointer;\n",
              "      display: none;\n",
              "      fill: #1967D2;\n",
              "      height: 32px;\n",
              "      padding: 0 0 0 0;\n",
              "      width: 32px;\n",
              "    }\n",
              "\n",
              "    .colab-df-convert:hover {\n",
              "      background-color: #E2EBFA;\n",
              "      box-shadow: 0px 1px 2px rgba(60, 64, 67, 0.3), 0px 1px 3px 1px rgba(60, 64, 67, 0.15);\n",
              "      fill: #174EA6;\n",
              "    }\n",
              "\n",
              "    [theme=dark] .colab-df-convert {\n",
              "      background-color: #3B4455;\n",
              "      fill: #D2E3FC;\n",
              "    }\n",
              "\n",
              "    [theme=dark] .colab-df-convert:hover {\n",
              "      background-color: #434B5C;\n",
              "      box-shadow: 0px 1px 3px 1px rgba(0, 0, 0, 0.15);\n",
              "      filter: drop-shadow(0px 1px 2px rgba(0, 0, 0, 0.3));\n",
              "      fill: #FFFFFF;\n",
              "    }\n",
              "  </style>\n",
              "\n",
              "      <script>\n",
              "        const buttonEl =\n",
              "          document.querySelector('#df-f5aaef67-7d7d-46e2-a580-cca75475bfeb button.colab-df-convert');\n",
              "        buttonEl.style.display =\n",
              "          google.colab.kernel.accessAllowed ? 'block' : 'none';\n",
              "\n",
              "        async function convertToInteractive(key) {\n",
              "          const element = document.querySelector('#df-f5aaef67-7d7d-46e2-a580-cca75475bfeb');\n",
              "          const dataTable =\n",
              "            await google.colab.kernel.invokeFunction('convertToInteractive',\n",
              "                                                     [key], {});\n",
              "          if (!dataTable) return;\n",
              "\n",
              "          const docLinkHtml = 'Like what you see? Visit the ' +\n",
              "            '<a target=\"_blank\" href=https://colab.research.google.com/notebooks/data_table.ipynb>data table notebook</a>'\n",
              "            + ' to learn more about interactive tables.';\n",
              "          element.innerHTML = '';\n",
              "          dataTable['output_type'] = 'display_data';\n",
              "          await google.colab.output.renderOutput(dataTable, element);\n",
              "          const docLink = document.createElement('div');\n",
              "          docLink.innerHTML = docLinkHtml;\n",
              "          element.appendChild(docLink);\n",
              "        }\n",
              "      </script>\n",
              "    </div>\n",
              "  </div>\n",
              "  "
            ]
          },
          "metadata": {},
          "execution_count": 102
        }
      ]
    },
    {
      "cell_type": "code",
      "source": [
        "X1_final"
      ],
      "metadata": {
        "colab": {
          "base_uri": "https://localhost:8080/",
          "height": 424
        },
        "id": "ZYo7bAe1pL5t",
        "outputId": "f9bad43e-6fc7-4878-a07c-256e71fb80ff"
      },
      "execution_count": null,
      "outputs": [
        {
          "output_type": "execute_result",
          "data": {
            "text/plain": [
              "       CARD_HOLDER  TERMINAL_ID  CARD_NUMBER   CUST_IP      EST1\n",
              "0          0.00000     0.000923    -5.630887  0.000000  0.042611\n",
              "1          0.00000     0.008211    -5.630887  0.000000  0.042539\n",
              "2          0.00000     0.000923    -5.630887  0.000000  0.042611\n",
              "3          0.00000     0.008211    -5.630887  0.000000  0.042539\n",
              "4          0.00000     0.000923    -5.630887  0.000000  0.042611\n",
              "...            ...          ...          ...       ...       ...\n",
              "62625      0.10479     0.008211    -5.630887  0.518519  0.999909\n",
              "62626      0.10479     0.008211    -5.630887  0.462050  0.999750\n",
              "62627      1.00000     0.012667   -20.963275  1.000000  1.000000\n",
              "62628      0.10479     0.008211    -5.630887  0.518519  0.999909\n",
              "62629      0.10479     0.008211    -5.630887  0.518519  0.999909\n",
              "\n",
              "[62630 rows x 5 columns]"
            ],
            "text/html": [
              "\n",
              "  <div id=\"df-3e21ca14-1802-48a3-b70c-6871eaa61d9b\">\n",
              "    <div class=\"colab-df-container\">\n",
              "      <div>\n",
              "<style scoped>\n",
              "    .dataframe tbody tr th:only-of-type {\n",
              "        vertical-align: middle;\n",
              "    }\n",
              "\n",
              "    .dataframe tbody tr th {\n",
              "        vertical-align: top;\n",
              "    }\n",
              "\n",
              "    .dataframe thead th {\n",
              "        text-align: right;\n",
              "    }\n",
              "</style>\n",
              "<table border=\"1\" class=\"dataframe\">\n",
              "  <thead>\n",
              "    <tr style=\"text-align: right;\">\n",
              "      <th></th>\n",
              "      <th>CARD_HOLDER</th>\n",
              "      <th>TERMINAL_ID</th>\n",
              "      <th>CARD_NUMBER</th>\n",
              "      <th>CUST_IP</th>\n",
              "      <th>EST1</th>\n",
              "    </tr>\n",
              "  </thead>\n",
              "  <tbody>\n",
              "    <tr>\n",
              "      <th>0</th>\n",
              "      <td>0.00000</td>\n",
              "      <td>0.000923</td>\n",
              "      <td>-5.630887</td>\n",
              "      <td>0.000000</td>\n",
              "      <td>0.042611</td>\n",
              "    </tr>\n",
              "    <tr>\n",
              "      <th>1</th>\n",
              "      <td>0.00000</td>\n",
              "      <td>0.008211</td>\n",
              "      <td>-5.630887</td>\n",
              "      <td>0.000000</td>\n",
              "      <td>0.042539</td>\n",
              "    </tr>\n",
              "    <tr>\n",
              "      <th>2</th>\n",
              "      <td>0.00000</td>\n",
              "      <td>0.000923</td>\n",
              "      <td>-5.630887</td>\n",
              "      <td>0.000000</td>\n",
              "      <td>0.042611</td>\n",
              "    </tr>\n",
              "    <tr>\n",
              "      <th>3</th>\n",
              "      <td>0.00000</td>\n",
              "      <td>0.008211</td>\n",
              "      <td>-5.630887</td>\n",
              "      <td>0.000000</td>\n",
              "      <td>0.042539</td>\n",
              "    </tr>\n",
              "    <tr>\n",
              "      <th>4</th>\n",
              "      <td>0.00000</td>\n",
              "      <td>0.000923</td>\n",
              "      <td>-5.630887</td>\n",
              "      <td>0.000000</td>\n",
              "      <td>0.042611</td>\n",
              "    </tr>\n",
              "    <tr>\n",
              "      <th>...</th>\n",
              "      <td>...</td>\n",
              "      <td>...</td>\n",
              "      <td>...</td>\n",
              "      <td>...</td>\n",
              "      <td>...</td>\n",
              "    </tr>\n",
              "    <tr>\n",
              "      <th>62625</th>\n",
              "      <td>0.10479</td>\n",
              "      <td>0.008211</td>\n",
              "      <td>-5.630887</td>\n",
              "      <td>0.518519</td>\n",
              "      <td>0.999909</td>\n",
              "    </tr>\n",
              "    <tr>\n",
              "      <th>62626</th>\n",
              "      <td>0.10479</td>\n",
              "      <td>0.008211</td>\n",
              "      <td>-5.630887</td>\n",
              "      <td>0.462050</td>\n",
              "      <td>0.999750</td>\n",
              "    </tr>\n",
              "    <tr>\n",
              "      <th>62627</th>\n",
              "      <td>1.00000</td>\n",
              "      <td>0.012667</td>\n",
              "      <td>-20.963275</td>\n",
              "      <td>1.000000</td>\n",
              "      <td>1.000000</td>\n",
              "    </tr>\n",
              "    <tr>\n",
              "      <th>62628</th>\n",
              "      <td>0.10479</td>\n",
              "      <td>0.008211</td>\n",
              "      <td>-5.630887</td>\n",
              "      <td>0.518519</td>\n",
              "      <td>0.999909</td>\n",
              "    </tr>\n",
              "    <tr>\n",
              "      <th>62629</th>\n",
              "      <td>0.10479</td>\n",
              "      <td>0.008211</td>\n",
              "      <td>-5.630887</td>\n",
              "      <td>0.518519</td>\n",
              "      <td>0.999909</td>\n",
              "    </tr>\n",
              "  </tbody>\n",
              "</table>\n",
              "<p>62630 rows × 5 columns</p>\n",
              "</div>\n",
              "      <button class=\"colab-df-convert\" onclick=\"convertToInteractive('df-3e21ca14-1802-48a3-b70c-6871eaa61d9b')\"\n",
              "              title=\"Convert this dataframe to an interactive table.\"\n",
              "              style=\"display:none;\">\n",
              "        \n",
              "  <svg xmlns=\"http://www.w3.org/2000/svg\" height=\"24px\"viewBox=\"0 0 24 24\"\n",
              "       width=\"24px\">\n",
              "    <path d=\"M0 0h24v24H0V0z\" fill=\"none\"/>\n",
              "    <path d=\"M18.56 5.44l.94 2.06.94-2.06 2.06-.94-2.06-.94-.94-2.06-.94 2.06-2.06.94zm-11 1L8.5 8.5l.94-2.06 2.06-.94-2.06-.94L8.5 2.5l-.94 2.06-2.06.94zm10 10l.94 2.06.94-2.06 2.06-.94-2.06-.94-.94-2.06-.94 2.06-2.06.94z\"/><path d=\"M17.41 7.96l-1.37-1.37c-.4-.4-.92-.59-1.43-.59-.52 0-1.04.2-1.43.59L10.3 9.45l-7.72 7.72c-.78.78-.78 2.05 0 2.83L4 21.41c.39.39.9.59 1.41.59.51 0 1.02-.2 1.41-.59l7.78-7.78 2.81-2.81c.8-.78.8-2.07 0-2.86zM5.41 20L4 18.59l7.72-7.72 1.47 1.35L5.41 20z\"/>\n",
              "  </svg>\n",
              "      </button>\n",
              "      \n",
              "  <style>\n",
              "    .colab-df-container {\n",
              "      display:flex;\n",
              "      flex-wrap:wrap;\n",
              "      gap: 12px;\n",
              "    }\n",
              "\n",
              "    .colab-df-convert {\n",
              "      background-color: #E8F0FE;\n",
              "      border: none;\n",
              "      border-radius: 50%;\n",
              "      cursor: pointer;\n",
              "      display: none;\n",
              "      fill: #1967D2;\n",
              "      height: 32px;\n",
              "      padding: 0 0 0 0;\n",
              "      width: 32px;\n",
              "    }\n",
              "\n",
              "    .colab-df-convert:hover {\n",
              "      background-color: #E2EBFA;\n",
              "      box-shadow: 0px 1px 2px rgba(60, 64, 67, 0.3), 0px 1px 3px 1px rgba(60, 64, 67, 0.15);\n",
              "      fill: #174EA6;\n",
              "    }\n",
              "\n",
              "    [theme=dark] .colab-df-convert {\n",
              "      background-color: #3B4455;\n",
              "      fill: #D2E3FC;\n",
              "    }\n",
              "\n",
              "    [theme=dark] .colab-df-convert:hover {\n",
              "      background-color: #434B5C;\n",
              "      box-shadow: 0px 1px 3px 1px rgba(0, 0, 0, 0.15);\n",
              "      filter: drop-shadow(0px 1px 2px rgba(0, 0, 0, 0.3));\n",
              "      fill: #FFFFFF;\n",
              "    }\n",
              "  </style>\n",
              "\n",
              "      <script>\n",
              "        const buttonEl =\n",
              "          document.querySelector('#df-3e21ca14-1802-48a3-b70c-6871eaa61d9b button.colab-df-convert');\n",
              "        buttonEl.style.display =\n",
              "          google.colab.kernel.accessAllowed ? 'block' : 'none';\n",
              "\n",
              "        async function convertToInteractive(key) {\n",
              "          const element = document.querySelector('#df-3e21ca14-1802-48a3-b70c-6871eaa61d9b');\n",
              "          const dataTable =\n",
              "            await google.colab.kernel.invokeFunction('convertToInteractive',\n",
              "                                                     [key], {});\n",
              "          if (!dataTable) return;\n",
              "\n",
              "          const docLinkHtml = 'Like what you see? Visit the ' +\n",
              "            '<a target=\"_blank\" href=https://colab.research.google.com/notebooks/data_table.ipynb>data table notebook</a>'\n",
              "            + ' to learn more about interactive tables.';\n",
              "          element.innerHTML = '';\n",
              "          dataTable['output_type'] = 'display_data';\n",
              "          await google.colab.output.renderOutput(dataTable, element);\n",
              "          const docLink = document.createElement('div');\n",
              "          docLink.innerHTML = docLinkHtml;\n",
              "          element.appendChild(docLink);\n",
              "        }\n",
              "      </script>\n",
              "    </div>\n",
              "  </div>\n",
              "  "
            ]
          },
          "metadata": {},
          "execution_count": 103
        }
      ]
    },
    {
      "cell_type": "code",
      "source": [
        "weights = np.array([1.0, 1.0, -50.0, 1.0])\n",
        "\n",
        "new_data1 = np.array([0.10000, 0.008211, 0.444444, 0.000000]).reshape(1, -1)\n",
        "new_data1 = new_data1 * weights\n",
        "print(new_data1)\n",
        "new_pred1 = logreg.predict_proba(new_data1)[:,1][0]\n",
        "\n",
        "print(\"\\033[1m New transaction has a {:.2%}\".format(new_pred1), \"chance of charge back\")"
      ],
      "metadata": {
        "colab": {
          "base_uri": "https://localhost:8080/"
        },
        "id": "dhrTshQupL9W",
        "outputId": "d8b7f818-16a7-4273-c13a-f46255709a24"
      },
      "execution_count": null,
      "outputs": [
        {
          "output_type": "stream",
          "name": "stdout",
          "text": [
            "[[ 1.00000e-01  8.21100e-03 -2.22222e+01  0.00000e+00]]\n",
            "\u001b[1m New transaction has a 90.36% chance of charge back\n"
          ]
        },
        {
          "output_type": "stream",
          "name": "stderr",
          "text": [
            "/usr/local/lib/python3.10/dist-packages/sklearn/base.py:439: UserWarning: X does not have valid feature names, but LogisticRegression was fitted with feature names\n",
            "  warnings.warn(\n"
          ]
        }
      ]
    },
    {
      "cell_type": "code",
      "source": [],
      "metadata": {
        "id": "1pQWFkbMpL_-"
      },
      "execution_count": null,
      "outputs": []
    },
    {
      "cell_type": "code",
      "source": [],
      "metadata": {
        "id": "uxmMiwzXpMEF"
      },
      "execution_count": null,
      "outputs": []
    }
  ]
}